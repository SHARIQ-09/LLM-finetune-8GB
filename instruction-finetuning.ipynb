{
 "cells": [
  {
   "cell_type": "markdown",
   "id": "28506e0e-b778-4803-84b1-4c859d2741fd",
   "metadata": {},
   "source": [
    "# Instruction Finetuning"
   ]
  },
  {
   "cell_type": "markdown",
   "id": "623ba5b8-af16-438d-b3f3-709b65f6ac96",
   "metadata": {},
   "source": [
    "In this notebook, we will look into how to perform instruction finetuning. We will be doing full finetuning, i.e., retraining all the paramters of the model."
   ]
  },
  {
   "cell_type": "markdown",
   "id": "b098e055-a939-4da7-879e-85849982cdcb",
   "metadata": {},
   "source": [
    "Load the required libraries"
   ]
  },
  {
   "cell_type": "code",
   "execution_count": 1,
   "id": "aa4f923a",
   "metadata": {},
   "outputs": [
    {
     "ename": "NameError",
     "evalue": "name 'af' is not defined",
     "output_type": "error",
     "traceback": [
      "\u001b[1;31m---------------------------------------------------------------------------\u001b[0m",
      "\u001b[1;31mNameError\u001b[0m                                 Traceback (most recent call last)",
      "Cell \u001b[1;32mIn[1], line 1\u001b[0m\n\u001b[1;32m----> 1\u001b[0m \u001b[43maf\u001b[49m\n",
      "\u001b[1;31mNameError\u001b[0m: name 'af' is not defined"
     ]
    }
   ],
   "source": [
    "af"
   ]
  },
  {
   "cell_type": "code",
   "execution_count": 1,
   "id": "75d154b8-9996-40fa-ad02-f8f6c26e9567",
   "metadata": {},
   "outputs": [
    {
     "ename": "ModuleNotFoundError",
     "evalue": "No module named 'pandas'",
     "output_type": "error",
     "traceback": [
      "\u001b[31m---------------------------------------------------------------------------\u001b[39m",
      "\u001b[31mModuleNotFoundError\u001b[39m                       Traceback (most recent call last)",
      "\u001b[36mCell\u001b[39m\u001b[36m \u001b[39m\u001b[32mIn[1]\u001b[39m\u001b[32m, line 6\u001b[39m\n\u001b[32m      4\u001b[39m \u001b[38;5;28;01mfrom\u001b[39;00m\u001b[38;5;250m \u001b[39m\u001b[34;01menum\u001b[39;00m\u001b[38;5;250m \u001b[39m\u001b[38;5;28;01mimport\u001b[39;00m Enum\n\u001b[32m      5\u001b[39m \u001b[38;5;28;01mfrom\u001b[39;00m\u001b[38;5;250m \u001b[39m\u001b[34;01mfunctools\u001b[39;00m\u001b[38;5;250m \u001b[39m\u001b[38;5;28;01mimport\u001b[39;00m partial\n\u001b[32m----> \u001b[39m\u001b[32m6\u001b[39m \u001b[38;5;28;01mimport\u001b[39;00m\u001b[38;5;250m \u001b[39m\u001b[34;01mpandas\u001b[39;00m\u001b[38;5;250m \u001b[39m\u001b[38;5;28;01mas\u001b[39;00m\u001b[38;5;250m \u001b[39m\u001b[34;01mpd\u001b[39;00m\n\u001b[32m      7\u001b[39m \u001b[38;5;28;01mimport\u001b[39;00m\u001b[38;5;250m \u001b[39m\u001b[34;01mtorch\u001b[39;00m\n\u001b[32m      9\u001b[39m \u001b[38;5;28;01mfrom\u001b[39;00m\u001b[38;5;250m \u001b[39m\u001b[34;01mtransformers\u001b[39;00m\u001b[38;5;250m \u001b[39m\u001b[38;5;28;01mimport\u001b[39;00m AutoModelForCausalLM, AutoTokenizer, TrainingArguments\n",
      "\u001b[31mModuleNotFoundError\u001b[39m: No module named 'pandas'"
     ]
    }
   ],
   "source": [
    "import os\n",
    "os.environ[\"WANDB_PROJECT\"]=\"tinyllama_instruct_finetuning\"\n",
    "\n",
    "from enum import Enum\n",
    "from functools import partial\n",
    "import pandas as pd\n",
    "import torch\n",
    "\n",
    "from transformers import AutoModelForCausalLM, AutoTokenizer, TrainingArguments\n",
    "from datasets import load_dataset\n",
    "from trl import SFTTrainer"
   ]
  },
  {
   "cell_type": "markdown",
   "id": "991163c6-29f3-496e-b71c-f4329ec25df1",
   "metadata": {},
   "source": [
    "## Data preprocessing: Creating Datasets and Dataloaders"
   ]
  },
  {
   "cell_type": "code",
   "execution_count": 4,
   "id": "e2860501-5408-4f52-b193-666a3b1782f5",
   "metadata": {},
   "outputs": [],
   "source": [
    "model_name = \"TinyLlama/TinyLlama-1.1B-intermediate-step-1195k-token-2.5T\"\n",
    "dataset_name = \"HuggingFaceH4/no_robots\"\n",
    "tokenizer = AutoTokenizer.from_pretrained(model_name)\n",
    "template = \"\"\"{% for message in messages %}\\n{{'<|im_start|>' + message['role'] + '\\n' + message['content'] + '<|im_end|>' + '\\n'}}{% if loop.last and add_generation_prompt %}{{'<|im_start|>assistant\\n' }}{% endif %}{% endfor %}\"\"\"\n",
    "tokenizer.chat_template = template"
   ]
  },
  {
   "cell_type": "code",
   "execution_count": 5,
   "id": "4cb80dee-0813-4439-beb2-5f8977ce898c",
   "metadata": {},
   "outputs": [],
   "source": [
    "def preprocess(samples):\n",
    "    batch = []\n",
    "    for conversation in samples[\"messages\"]:\n",
    "        batch.append(tokenizer.apply_chat_template(conversation, tokenize=False))\n",
    "    return {\"content\": batch}\n",
    "\n",
    "dataset = load_dataset(dataset_name)"
   ]
  },
  {
   "cell_type": "code",
   "execution_count": 6,
   "id": "14639de1-7535-4887-84f0-b62440decb3c",
   "metadata": {},
   "outputs": [
    {
     "data": {
      "text/plain": [
       "DatasetDict({\n",
       "    train: Dataset({\n",
       "        features: ['prompt', 'prompt_id', 'messages', 'category'],\n",
       "        num_rows: 9500\n",
       "    })\n",
       "    test: Dataset({\n",
       "        features: ['prompt', 'prompt_id', 'messages', 'category'],\n",
       "        num_rows: 500\n",
       "    })\n",
       "})"
      ]
     },
     "execution_count": 6,
     "metadata": {},
     "output_type": "execute_result"
    }
   ],
   "source": [
    "dataset"
   ]
  },
  {
   "cell_type": "code",
   "execution_count": 7,
   "id": "5ede747a-bb87-4354-8295-d615d653c862",
   "metadata": {},
   "outputs": [
    {
     "data": {
      "application/vnd.jupyter.widget-view+json": {
       "model_id": "5d7db17865c1410ca3e807b4bd14fa33",
       "version_major": 2,
       "version_minor": 0
      },
      "text/plain": [
       "Map:   0%|          | 0/9500 [00:00<?, ? examples/s]"
      ]
     },
     "metadata": {},
     "output_type": "display_data"
    },
    {
     "data": {
      "application/vnd.jupyter.widget-view+json": {
       "model_id": "fbe6ed71f691428fb5ac0f59cdc1db0c",
       "version_major": 2,
       "version_minor": 0
      },
      "text/plain": [
       "Map:   0%|          | 0/500 [00:00<?, ? examples/s]"
      ]
     },
     "metadata": {},
     "output_type": "display_data"
    },
    {
     "name": "stdout",
     "output_type": "stream",
     "text": [
      "DatasetDict({\n",
      "    train: Dataset({\n",
      "        features: ['content'],\n",
      "        num_rows: 9500\n",
      "    })\n",
      "    test: Dataset({\n",
      "        features: ['content'],\n",
      "        num_rows: 500\n",
      "    })\n",
      "})\n"
     ]
    }
   ],
   "source": [
    "dataset = dataset.map(\n",
    "    preprocess,\n",
    "    batched=True,\n",
    "    remove_columns=dataset[\"train\"].column_names\n",
    ")\n",
    "print(dataset)"
   ]
  },
  {
   "cell_type": "code",
   "execution_count": 9,
   "id": "28b27033-ba17-4c85-986d-9cbef9262497",
   "metadata": {
    "scrolled": true
   },
   "outputs": [
    {
     "name": "stdout",
     "output_type": "stream",
     "text": [
      "DatasetDict({\n",
      "    train: Dataset({\n",
      "        features: ['content'],\n",
      "        num_rows: 9500\n",
      "    })\n",
      "    test: Dataset({\n",
      "        features: ['content'],\n",
      "        num_rows: 500\n",
      "    })\n",
      "})\n",
      "{'content': '<|im_start|>user\\nPlease summarize the goals for scientists in this text:\\n\\nWithin three days, the intertwined cup nest of grasses was complete, featuring a canopy of overhanging grasses to conceal it. And decades later, it served as Rinkert’s portal to the past inside the California Academy of Sciences. Information gleaned from such nests, woven long ago from species in plant communities called transitional habitat, could help restore the shoreline in the future. Transitional habitat has nearly disappeared from the San Francisco Bay, and scientists need a clearer picture of its original species composition—which was never properly documented. With that insight, conservation research groups like the San Francisco Bay Bird Observatory can help guide best practices when restoring the native habitat that has long served as critical refuge for imperiled birds and animals as adjacent marshes flood more with rising sea levels. “We can’t ask restoration ecologists to plant nonnative species or to just take their best guess and throw things out there,” says Rinkert.<|im_end|>\\n<|im_start|>assistant\\nScientists are studying nests hoping to learn about transitional habitats that could help restore the shoreline of San Francisco Bay.<|im_end|>\\n'}\n"
     ]
    }
   ],
   "source": [
    "print(dataset)\n",
    "print(dataset[\"train\"][0])"
   ]
  },
  {
   "cell_type": "code",
   "execution_count": 10,
   "id": "aa818a8d-5f2d-4cb8-9283-78f897f6618a",
   "metadata": {
    "scrolled": true
   },
   "outputs": [
    {
     "data": {
      "text/plain": [
       "{'content': ['<|im_start|>system\\nAster is a chatbot who answers questions with rhymes.<|im_end|>\\n<|im_start|>user\\nWhere did chocolate originate?<|im_end|>\\n<|im_start|>assistant\\nChocolate is 4000 years old/Mexico is where it was first sold<|im_end|>\\n<|im_start|>user\\nWhere was milk chocolate invented?<|im_end|>\\n<|im_start|>assistant\\nSwitzerland was the first to add milk/To make their chocolate smooth as silk<|im_end|>\\n<|im_start|>user\\nWhat are some good desserts that use chocolate?<|im_end|>\\n<|im_start|>assistant\\nPie, tart, cookies, and cake/Chocolate is great to bake<|im_end|>\\n',\n",
       "  \"<|im_start|>user\\nWhat are 5 things I can do when it's raining in London? I am visiting for the first time and only for a week with my husband. We love to walk, eat good food, and explore.<|im_end|>\\n<|im_start|>assistant\\nSure! Here are five options for things to do in London on a rainy day:\\n\\n1. Visit The British Museum. Dedicated to human history, art and culture, The British Museum has over 8 million permanent objects in its collection and is spread over multiple floors and wings of its impressive Bloomsbury building. From its extensive collection of Egyptian mummies to the Rosetta Stone, there are numerous exhibitions to capture your imagination. The museum is free to enjoy, though runs separately ticketed exhibitions throughout the year, as well. \\n\\n2. Explore Spitalfields Market. Since the 17th century, traders have been operating out of this East London market selling food, art, antiques, jewellery, and so much more. Today, the covered market is a hot destination for fashion and food enthusiasts with numerous stalls and shops open every day of the week. On the weekends, the market hosts various community events including pop-up music festivals. \\n\\n3. Shop at Westfield London. Located in West London, Westfield London is an enormous shopping centre hosting roughly 320 stores and restaurants spread over 2.5 million square feet, including the high-end retail sector named The Village. In addition to a wide selection of food and shopping, there are multiple activity options including miniature golf, rock climbing, and a cinema. \\n\\n4. Visit the Barbican Centre. The Barbican Centre is a large performing arts centre in the City of London nestled in the impressive Barbican Estate, which is an impressive example of Brutalist architecture. The centre is home to both the London Symphony Orchestra and the BBC Symphony Orchestra, in addition to hosting multiple theatre performances, film screenings, and additional concerts. The public are also welcome to enjoy its library, dine in one of its three restaurants, or explore its vast indoor conservatory. \\n\\n5. Explore the Battersea Power Station. The Grade-II listed Battersea Power Station, which sits on the south bank of the Thames just west of Westminster, was recently refurbished and reopened as a shopping and leisure destination. Inside the building, there are various shops, eateries, and bard including Control Room B: a cocktail bar nestled within the original dials and controls of the power station. If there's a break in the rainy weather, the riverfront of the power station is lined with additional food stalls, and Battersea Park is a short five-minute walk away down the bank of the Thames. If the rain stays all day, though, there are plenty of activities sheltered by the power station including miniature gold, ping pong, and a cinema. \\n\\nWhether it's rain or shine, London has an endless supply of activities, sights, and eateries to ensure you have an unforgettable trip. <|im_end|>\\n\",\n",
       "  '<|im_start|>user\\nWrite several rhyming sentences from the perspective of Jay the RA, a resident assistant at The University of Glee. He\\'s introducing himself and the college.<|im_end|>\\n<|im_start|>assistant\\nHey! I\\'m Jay, the RA! I\\'ll be your assistant at the University of Glee today. Here at UG, you\\'ll find so many ways to learn and play. We\\'re all about fun here, so hip hip hooray!\\nThere are so many things about the UG that I love to say. It\\'s got a beautiful campus, it\\'s so green, and they give back to the community in every way.\\n\\nIn our dorms, you\\'ll find so many amazing places to stay. Choose an amazing major like Philosophy, Art, or Social Studies, they\\'re all great in their own way!\\nAnd if you\\'re not exactly sure what you want to do yet, that is totally okay! You can select \"Undecided\", or if you have to choose something, just say \"N/A\"!\\n\\nI hope that you\\'ll have an amazing time at the U of G today. More onboarding and information fairs are just that way!\\nAnd hey, if you feel a little overwhelmed, it\\'s okay. We provide lots of time for enrollment, so you\\'ve got until May!<|im_end|>\\n',\n",
       "  '<|im_start|>user\\nWhat other strange and obscure music genres can I check out?<|im_end|>\\n<|im_start|>assistant\\nHere are some more obscure music genres to listen to:\\n\\n1. The music genre known as pirate metal is a unique blend of heavy metal and sea shanties, accompanied by folk instruments like the concertina. Despite the unusual mix, bands such as Alestorm have found success in this genre and have a dedicated following.\\n2. Math rock is an indie rock style that utilizes complex time signatures and unusual meters. The genre emerged in the 1980s and peaked in the mid-1990s. Today, similar techniques have been adapted to pop music, resulting in the creation of the genre known as \"math pop.\"\\n3. Steven Roden created the minimalist ambient music genre called \"lowercase\" in 2001 by manipulating and amplifying sounds made from handling paper. The genre is characterized by its quiet and unobtrusive nature and gained attention following the release of the compilation album \"Lowercase-Sound\" in 2002. Roden\\'s track \"Bell Is The Truth (Berlin)\" exemplifies the beauty of the genre, created by tapping light bulbs in total darkness to produce bell-like sounds.\\n4. Witch House is a genre that doesn\\'t have any resemblance to house music, despite the name. It was coined by Travis Egedy (aka, Pictureplane) and features slow tempo, chopped and screwed songs with elements of goth, shoegaze, hip-hop, drone, noise, and industrial. Other artists, such as Clams Casino, Holy Other, and Zola Jesus, have also incorporated Witch House elements into their music. Though the genre burned out after a few years, it remains captivating.\\n5. Skweee is a genre of mostly instrumental music that originated in Sweden and Finland, combining synth leads and basslines with funk and soul rhythms. Its name reflects the idea of squeezing out the grooviest sound possible. Skweee was also a major influence on dubstep during 2008-2009.<|im_end|>\\n',\n",
       "  '<|im_start|>user\\nWrite one paragraph about the Tlachihualtepetl pyramid. Keep it at or below 15 sentences. Include its size and when it was built. Also, include any aspects of worship it had. Include aspects of its more recent history, too. Name at least one specific year. <|im_end|>\\n<|im_start|>assistant\\nWhen people hear the word \"pyramid,\" they often think of Egypt. However, the world\\'s largest pyramid is in Cholula, Mexico. Tlachihualtepetl, also called the Great Pyramid of Cholula, is 217 feet (66 meters) tall and its base is 1,476 by 1,1476 feet (450 by 450 meters). Its total volume is 157 million cubic feet. Due to its size, it took centuries to build. It was worked on several different times between 300 BC and 700 AD. There was a temple above it to worship Quetzalcoatl - the Aztec god of learning and books. However, the temple was abandoned around the 8th or 9th century AD. Over time, it became covered with vegetation. As a result, it blended in and Spaniards first mistook it for a hill when they conquered Mexico in 1521. They replaced the temple with a church and the pyramid stayed hidden until the 1930s when the earth started to erode. Archeologists have excavated and studied many parts of the pyramid since then, including the altars. It has also become a tourist attraction since then. Thousands of people visit Tlachihualtepetl each year. <|im_end|>\\n',\n",
       "  \"<|im_start|>system\\nCherry is a chatbot that is very sweet and kind.<|im_end|>\\n<|im_start|>user\\nIt's my birthday tomorrow!<|im_end|>\\n<|im_start|>assistant\\nHappy Birthday (a day early)! That's exciting! Do you have any plans for celebrating it? How old will you be?<|im_end|>\\n<|im_start|>user\\nI'm turning 30. I'm going to dinner with some friends and then seeing a movie at the theatre.<|im_end|>\\n<|im_start|>assistant\\nHow fun! What movie are you going to see?<|im_end|>\\n<|im_start|>user\\nThe new Scream movie. It looks really good!<|im_end|>\\n<|im_start|>assistant\\nCool! You're a horror fan? What other horror movies do you like?<|im_end|>\\n\",\n",
       "  '<|im_start|>user\\nRewrite this like it\\'s a personal letter from Tina Turner to a friend explaining her early solo career. \\n\\nIn 1976 and 1977, Turner earned income by appearing on TV shows such as The Hollywood Squares, Donny & Marie, The Sonny & Cher Show, and The Brady Bunch Hour.[108] After her separation from Ike, lawsuits were mounting for canceled Ike & Tina Turner gigs.[109][110] Turner resumed touring to pay off her debts with finances given to her by United Artists executive Mike Stewart.[111] In 1977, Turner re-emerged with a sexier image and costumes created by Bob Mackie.[112] She headlined a series of cabaret shows at Caesars Palace in Las Vegas and took her act to smaller venues in the United States.[113] Later that year, she embarked on her first solo concert tour in Australia.[114]\\n\\nIn 1978, Turner released her third solo album, Rough, on United Artists with distribution in North America and Europe on EMI. That album, along with its 1979 follow-up, Love Explosion, which included a brief diversion to disco music, failed to chart, so United Artists Records and Turner parted ways.[115] Without the premise of a hit record, she continued performing and headlined her second tour.[116]\\n\\nIn 1979, Australian manager Roger Davies agreed to manage Turner after seeing her perform at the Fairmont Hotel in San Francisco.[117] In early 1979, Turner worked in Italy as a regular performer on the Rete 1 TV series Luna Park, hosted by Pippo Baudo and Heather Parisi.[118] Later that year, she embarked on a controversial five-week tour of South Africa during the apartheid regime.[119] She later regretted the decision, stating that she was \"naive about the politics in South Africa\" at the time.[120]\\n\\nIn October 1981, Rod Stewart attended Turner\\'s show at the Ritz in New York City and invited her to perform \"Hot Legs\" with him on Saturday Night Live.[121] In November, Turner opened for the Rolling Stones during their 1981 American Tour.[122] Turner performed in March 1982 in the Willem Ruis show (Netherlands), which resulted in the hit \"Shame, Shame, Shame\" (reaching No. 47 in the Netherlands). In 1982 Turner\\'s recording of the Temptations\\' \"Ball of Confusion\" for the UK production team B.E.F. became a hit in European dance clubs.[123] In 1982, Turner also appeared on the album Music of Quality and Distinction Volume 1 by B.E.F., a side project of Heaven 17, singing \"Ball of Confusion\". She filmed a music video for \"Ball of Confusion\" that aired on the fledgling music video channel MTV, becoming one of the first black American artists to gain airtime on the channel.[124] Also in 1982, Turner appeared as a special guest on Chuck Berry\\'s television special performed at The Roxy in West Hollywood.[125]\\n\\nIn 1976 and 1977, Turner earned income by appearing on TV shows such as The Hollywood Squares, Donny & Marie, The Sonny & Cher Show, and The Brady Bunch Hour.[108] After her separation from Ike, lawsuits were mounting for canceled Ike & Tina Turner gigs.[109][110] Turner resumed touring to pay off her debts with finances given to her by United Artists executive Mike Stewart.[111] In 1977, Turner re-emerged with a sexier image and costumes created by Bob Mackie.[112] She headlined a series of cabaret shows at Caesars Palace in Las Vegas and took her act to smaller venues in the United States.[113] Later that year, she embarked on her first solo concert tour in Australia.[114]\\n\\nIn 1978, Turner released her third solo album, Rough, on United Artists with distribution in North America and Europe on EMI. That album, along with its 1979 follow-up, Love Explosion, which included a brief diversion to disco music, failed to chart, so United Artists Records and Turner parted ways.[115] Without the premise of a hit record, she continued performing and headlined her second tour.[116]\\n\\nIn 1979, Australian manager Roger Davies agreed to manage Turner after seeing her perform at the Fairmont Hotel in San Francisco.[117] In early 1979, Turner worked in Italy as a regular performer on the Rete 1 TV series Luna Park, hosted by Pippo Baudo and Heather Parisi.[118] Later that year, she embarked on a controversial five-week tour of South Africa during the apartheid regime.[119] She later regretted the decision, stating that she was \"naive about the politics in South Africa\" at the time.[120]\\n\\nIn October 1981, Rod Stewart attended Turner\\'s show at the Ritz in New York City and invited her to perform \"Hot Legs\" with him on Saturday Night Live.[121] In November, Turner opened for the Rolling Stones during their 1981 American Tour.[122] Turner performed in March 1982 in the Willem Ruis show (Netherlands), which resulted in the hit \"Shame, Shame, Shame\" (reaching No. 47 in the Netherlands). In 1982 Turner\\'s recording of the Temptations\\' \"Ball of Confusion\" for the UK production team B.E.F. became a hit in European dance clubs.[123] In 1982, Turner also appeared on the album Music of Quality and Distinction Volume 1 by B.E.F., a side project of Heaven 17, singing \"Ball of Confusion\". She filmed a music video for \"Ball of Confusion\" that aired on the fledgling music video channel MTV, becoming one of the first black American artists to gain airtime on the channel.[124] Also in 1982, Turner appeared as a special guest on Chuck Berry\\'s television special performed at The Roxy in West Hollywood.[125]<|im_end|>\\n<|im_start|>assistant\\nDear friend, \\n\\nSo much happened in my early solo career. In 1976, my primary source of income came from TV appearances. You remember those, like The Hollywood Squares, Donny & Marie, The Sonny and Cher Show, and The Brady Bunch Hour? But after I left Ike, I started getting sued for all these gigs that we\\'d had to cancel. I had to resume touring with United Artists just to pay off my debts, but thanks to Bob Mackie I came back sexier than ever in 77! My career really took off, from cabaret shows in Vegas to tours across the US and Australia.  \\n\\nRough, my third solo album, came out in 1978 and was distributed across the U.S. and Europe! And then there was my next album, Love Explosion, which was my exploration into disco. Unfortunately, neither of these performed very well, so I ended up leaving United Artists. I still got to headline another tour, at least.\\n\\nin 1979, I ran into an Australian manager named Roger Davies. After he saw me perform in San Francisco at the Fairmont Hotel, he agreed to be my manager! I was back in the international spotlight, working in Italy on Luna Park and touring in South Africa. That move of mine got a lot of flack, and to tell you the truth, I regret my naivety about the apartheid. \\n\\nFlash forward to October 1981, when Rod Stewart saw me perform in New York City and invited me to perform on Saturday Night Live with him. The next month, I opened for the Rolling Stones on their American Tour. Early the next year, I got to perform on the Willem Ruis show in the Netherlands, and my song \"Shame, Shame, Shame,\" ended up being a hit. My cover of \"Ball of Confusion\" (that I recorded for B.E.F.) was really popular in European dance clubs. I even got to film an MTV music video for that song. I was one of the first black American artists on the channel. I also got to appear on Chuck Berry\\'s television special that year. The rest, as they say, is history!\\n\\nSincerely, \\nTina Turner<|im_end|>\\n',\n",
       "  '<|im_start|>user\\nWho is Dale Chihuly and what type of art does he produce?<|im_end|>\\n<|im_start|>assistant\\nDale Chihuly is a well-known American glassblowing artist. He has decorated the canals of Venice, the Old City in Jerusalem, and the ceiling of the Bellagio in Las Vegas. Chihuly is credited with elevating glassblowing to an art form where it had been previously seen as a craft.<|im_end|>\\n',\n",
       "  \"<|im_start|>user\\nWrite a short text message to a very close friend reminding them that I care about them, and apologize for being bad at keeping in touch.<|im_end|>\\n<|im_start|>assistant\\nHey [friend name], I know it's been a really long time, but I just wanted to reach out and remind you that I really care about you, and I hope everything is going well. I'm sorry for being so bad at keeping in touch lately. Things have just been so hectic :(<|im_end|>\\n\",\n",
       "  \"<|im_start|>user\\nGive me a list of children's story ideas. Give me a title and a brief (1-2 sentence) summary of each story. They should be aimed at kids aged between 10-13 and involve space in some capacity.<|im_end|>\\n<|im_start|>assistant\\n1. Planet 2099: A little girl stows away on a spaceship that leaves on a mission to find another habitable planet.\\n2. Children of the Galaxy: A group of middle schoolers finds a portal across space in the janitor's closet at their school and use it to travel to alien planets all around the galaxy.\\n3. The Liberation of Arcadia: A group of evil scientists from Earth take control of a planet called Arcadia and it's up to two children to save the people and liberate them.\\n4. To Hook a Star: A story about a little boy who lives on the International Space Station with his parents and helps them study the stars.\\n5. Polar Dust: A group of kids from a small, rural town find a crashed alien spaceship that's fully functional and decide to explore space together.\\n6. Moons of Andromeda: A kid goes to sleep the night after visiting a planetarium and dreams that she's an astronaut exploring the Andromeda galaxy and creating new worlds on all the inhabitable planets.\\n7. Snows of Pluto: On a space mission gone wrong, a group of astronauts finds themselves stranded on Pluto and have to create a new world out of nothing but the ice and snow that the planet has to offer.<|im_end|>\\n\"]}"
      ]
     },
     "execution_count": 10,
     "metadata": {},
     "output_type": "execute_result"
    }
   ],
   "source": [
    "dataset[\"test\"][:10]"
   ]
  },
  {
   "cell_type": "markdown",
   "id": "c687b73b-4479-4ff4-9ed9-a0df95e9b40a",
   "metadata": {},
   "source": [
    "## Loading the pretrained model and tokenizer"
   ]
  },
  {
   "cell_type": "code",
   "execution_count": 11,
   "id": "ebc83f34-1c74-45af-a0a0-d2684a014647",
   "metadata": {},
   "outputs": [
    {
     "data": {
      "application/vnd.jupyter.widget-view+json": {
       "model_id": "63eb83f6c0954c4497ba7fd35e94e45b",
       "version_major": 2,
       "version_minor": 0
      },
      "text/plain": [
       "config.json:   0%|          | 0.00/560 [00:00<?, ?B/s]"
      ]
     },
     "metadata": {},
     "output_type": "display_data"
    },
    {
     "data": {
      "application/vnd.jupyter.widget-view+json": {
       "model_id": "cda165a4be474cddb5433a2e5cbe212f",
       "version_major": 2,
       "version_minor": 0
      },
      "text/plain": [
       "model.safetensors:   0%|          | 0.00/4.40G [00:00<?, ?B/s]"
      ]
     },
     "metadata": {},
     "output_type": "display_data"
    },
    {
     "data": {
      "application/vnd.jupyter.widget-view+json": {
       "model_id": "0cc020cb03684e2d99e8e8301a5926b7",
       "version_major": 2,
       "version_minor": 0
      },
      "text/plain": [
       "generation_config.json:   0%|          | 0.00/129 [00:00<?, ?B/s]"
      ]
     },
     "metadata": {},
     "output_type": "display_data"
    },
    {
     "name": "stderr",
     "output_type": "stream",
     "text": [
      "The new embeddings will be initialized from a multivariate normal distribution that has old embeddings' mean and covariance. As described in this article: https://nlp.stanford.edu/~johnhew/vocab-expansion.html. To disable this, use `mean_resizing=False`\n",
      "The new lm_head weights will be initialized from a multivariate normal distribution that has old embeddings' mean and covariance. As described in this article: https://nlp.stanford.edu/~johnhew/vocab-expansion.html. To disable this, use `mean_resizing=False`\n"
     ]
    },
    {
     "data": {
      "text/plain": [
       "Embedding(32005, 2048)"
      ]
     },
     "execution_count": 11,
     "metadata": {},
     "output_type": "execute_result"
    }
   ],
   "source": [
    "class ChatmlSpecialTokens(str, Enum):\n",
    "    user = \"<|im_start|>user\"\n",
    "    assistant = \"<|im_start|>assistant\"\n",
    "    system = \"<|im_start|>system\"\n",
    "    eos_token = \"<|im_end|>\"\n",
    "    bos_token = \"<s>\"\n",
    "    pad_token = \"<pad>\"\n",
    "\n",
    "    @classmethod\n",
    "    def list(cls):\n",
    "        return [c.value for c in cls]\n",
    "\n",
    "tokenizer = AutoTokenizer.from_pretrained(\n",
    "        model_name,\n",
    "        pad_token=ChatmlSpecialTokens.pad_token.value,\n",
    "        bos_token=ChatmlSpecialTokens.bos_token.value,\n",
    "        eos_token=ChatmlSpecialTokens.eos_token.value,\n",
    "        additional_special_tokens=ChatmlSpecialTokens.list(),\n",
    "        trust_remote_code=True\n",
    "    )\n",
    "tokenizer.chat_template = template\n",
    "model = AutoModelForCausalLM.from_pretrained(model_name)\n",
    "model.resize_token_embeddings(len(tokenizer))"
   ]
  },
  {
   "cell_type": "markdown",
   "id": "a9157a4c-83f0-424c-8942-d528f0ab3d95",
   "metadata": {},
   "source": [
    "## Storing the base model predictions on a subset of 25 samples from eval test"
   ]
  },
  {
   "cell_type": "code",
   "execution_count": 12,
   "id": "c23e3f6c-3b9c-4d20-8289-fd91a00e63f0",
   "metadata": {},
   "outputs": [],
   "source": [
    "tokenizer.padding_side=\"left\"\n",
    "def get_prediction_batched(samples, column_name):\n",
    "    batch = []\n",
    "    for conversation in samples[\"messages\"]:\n",
    "        chatml_gen_prompt = tokenizer.apply_chat_template(conversation[:-1], tokenize=False, add_generation_prompt=True)\n",
    "        batch.append(chatml_gen_prompt)\n",
    "    #text = tokenizer.apply_chat_template(conversation_history, add_generation_prompt=True, tokenize=False)\n",
    "    inputs = tokenizer(batch, return_tensors=\"pt\", padding=True, truncation=True)#, add_special_tokens=False)\n",
    "    inputs = {k: v.to(\"cuda\") for k,v in inputs.items()}\n",
    "    outputs = model.generate(**inputs, \n",
    "                             max_new_tokens=100, \n",
    "                             do_sample=True, \n",
    "                             top_p=0.95, \n",
    "                             temperature=0.2, \n",
    "                             repetition_penalty=1.1, \n",
    "                             eos_token_id=tokenizer.eos_token_id,\n",
    "                             pad_token_id=tokenizer.eos_token_id,\n",
    "                            )\n",
    "    outputs = tokenizer.batch_decode(outputs)\n",
    "    outputs = [output.split(\"<|im_start|>assistant\")[-1].split(\"<|im_end|>\")[0].strip() for output in outputs]\n",
    "    return {column_name: outputs}"
   ]
  },
  {
   "cell_type": "code",
   "execution_count": 14,
   "id": "0e683373-e6aa-4847-835f-5fef56d170f0",
   "metadata": {},
   "outputs": [
    {
     "data": {
      "application/vnd.jupyter.widget-view+json": {
       "model_id": "c3576e22c3744488969466f5c0713477",
       "version_major": 2,
       "version_minor": 0
      },
      "text/plain": [
       "Map:   0%|          | 0/25 [00:00<?, ? examples/s]"
      ]
     },
     "metadata": {},
     "output_type": "display_data"
    },
    {
     "name": "stderr",
     "output_type": "stream",
     "text": [
      "Asking to truncate to max_length but no maximum length is provided and the model has no predefined maximum length. Default to no truncation.\n"
     ]
    },
    {
     "name": "stdout",
     "output_type": "stream",
     "text": [
      "Dataset({\n",
      "    features: ['prompt', 'prompt_id', 'messages', 'category', 'base_assistant_message'],\n",
      "    num_rows: 25\n",
      "})\n",
      "{'prompt': 'Create a marketing blurb for a book with the following premise: \"Amaris, Veronica, and Kate are three women each competing in their own battle against the town of Liverword. Amaris is being tried for murder when a murder of crows killed a farmer\\'s cow. She\\'s an animal empath, but the prosecution can\\'t prove it. Veronica was abused but no one believes her. She tries to plan a revenge crime without getting caught. The women don\\'t know each other, but separately discover that their unique experiences may have an ancestral tie to witchcraft. They also discover a missing relative, Kate. They seek her out and Kate discovers that her parents covered up her adoption. She has always felt \"apart\" from others and seeks her family history, but the records have been lost, burnt, and tampered with. Amaris decides to help Veronica with her retribution in exchange for testimony that corroborates Amaris\\' innocence. They both help Kate research her ancestry and discover that she might be the most powerful of them all, with a repressed but superhuman ability to predict the future. Together they fight the deeply religious and judgemental town in order to try to make a better life for themselves, whilst being true to who they are and finding peace with their experiences.\" Keep the blurb under 100 words and format it for a one-page advertisement placed in the back of related books from the same publisher. Include a release date of 06/06/2026.', 'prompt_id': 'e3d7cc21f696e9727960b47df92da81cd681c36ee389272b24cb82839f66d9b8', 'messages': [{'content': 'Create a marketing blurb for a book with the following premise: \"Amaris, Veronica, and Kate are three women each competing in their own battle against the town of Liverword. Amaris is being tried for murder when a murder of crows killed a farmer\\'s cow. She\\'s an animal empath, but the prosecution can\\'t prove it. Veronica was abused but no one believes her. She tries to plan a revenge crime without getting caught. The women don\\'t know each other, but separately discover that their unique experiences may have an ancestral tie to witchcraft. They also discover a missing relative, Kate. They seek her out and Kate discovers that her parents covered up her adoption. She has always felt \"apart\" from others and seeks her family history, but the records have been lost, burnt, and tampered with. Amaris decides to help Veronica with her retribution in exchange for testimony that corroborates Amaris\\' innocence. They both help Kate research her ancestry and discover that she might be the most powerful of them all, with a repressed but superhuman ability to predict the future. Together they fight the deeply religious and judgemental town in order to try to make a better life for themselves, whilst being true to who they are and finding peace with their experiences.\" Keep the blurb under 100 words and format it for a one-page advertisement placed in the back of related books from the same publisher. Include a release date of 06/06/2026.', 'role': 'user'}, {'content': 'Three women. Three generations. Three unusual abilities.\\nOne unwelcoming borough.\\n\\nAmaris finds herself at the center of a local witchhunt when a series of inexplicable crimes go unsolved. \\nVeronica, an abuse victim, seeks her own retribution after her accusations are ignored.\\nKate desperately searches for her family history but encounters roadblocks at every turn.\\n\\nCan they team up to vindicate each other and cure the town of its medieval prejudice,\\nor are their \"gifts\" too heavy to bear?\\n\\nFind out in:\\n\"The Way Forward\" by Haven Reynolds\\nReleasing 06-06-2026', 'role': 'assistant'}], 'category': 'Generation', 'base_assistant_message': \"The Blurb:\\nAmaris, Veronica, and Kate are three women each competing in their own battle against the town of Liverword. Amaris is being tried for murder when a murder of crows killed a farmer's cow. She's an animal empath, but the prosecution can't prove it. Veronica was abused but no one believes her. She tries to plan a revenge crime without getting caught. The women don't\"}\n"
     ]
    }
   ],
   "source": [
    "model.to(\"cuda\")\n",
    "test_dataset = load_dataset(dataset_name)[\"test\"].shuffle().select(range(25))\n",
    "test_dataset = test_dataset.map(\n",
    "    partial(get_prediction_batched, column_name=\"base_assistant_message\"),\n",
    "    batched=True,\n",
    "    batch_size=1)\n",
    "\n",
    "print(test_dataset)\n",
    "print(test_dataset[0])"
   ]
  },
  {
   "cell_type": "markdown",
   "id": "d8987259-21a6-415d-abcf-7517588b60da",
   "metadata": {},
   "source": [
    "## Training"
   ]
  },
  {
   "cell_type": "code",
   "execution_count": 15,
   "id": "a78c590d-16cb-4edc-9aab-30b8137a2989",
   "metadata": {},
   "outputs": [
    {
     "name": "stderr",
     "output_type": "stream",
     "text": [
      "/usr/local/lib/python3.10/dist-packages/transformers/training_args.py:1575: FutureWarning: `evaluation_strategy` is deprecated and will be removed in version 4.46 of 🤗 Transformers. Use `eval_strategy` instead\n",
      "  warnings.warn(\n"
     ]
    }
   ],
   "source": [
    "output_dir = \"tinyllama_instruct\"\n",
    "per_device_train_batch_size = 1\n",
    "per_device_eval_batch_size = 1\n",
    "gradient_accumulation_steps = 16\n",
    "logging_steps = 25\n",
    "learning_rate = 2e-5\n",
    "max_grad_norm = 1.0\n",
    "max_steps = 250\n",
    "num_train_epochs=1\n",
    "warmup_ratio = 0.1\n",
    "lr_scheduler_type = \"cosine\"\n",
    "max_seq_length = 2048\n",
    "\n",
    "training_arguments = TrainingArguments(\n",
    "    output_dir=output_dir,\n",
    "    per_device_train_batch_size=per_device_train_batch_size,\n",
    "    per_device_eval_batch_size=per_device_eval_batch_size,\n",
    "    gradient_accumulation_steps=gradient_accumulation_steps,\n",
    "    save_strategy=\"epoch\",\n",
    "    evaluation_strategy=\"epoch\",\n",
    "    logging_steps=logging_steps,\n",
    "    learning_rate=learning_rate,\n",
    "    max_grad_norm=max_grad_norm,\n",
    "    weight_decay=0.1,\n",
    "    warmup_ratio=warmup_ratio,\n",
    "    lr_scheduler_type=lr_scheduler_type,\n",
    "    fp16=True,\n",
    "    report_to=[\"tensorboard\", \"wandb\"],\n",
    "    hub_private_repo=True,\n",
    "    push_to_hub=True,\n",
    "    num_train_epochs=num_train_epochs,\n",
    "    gradient_checkpointing=True,\n",
    "    gradient_checkpointing_kwargs={\"use_reentrant\": False}\n",
    ")\n"
   ]
  },
  {
   "cell_type": "code",
   "execution_count": 36,
   "id": "b788fb0e-6160-492b-8bb9-2451df1c49c3",
   "metadata": {},
   "outputs": [
    {
     "name": "stdout",
     "output_type": "stream",
     "text": [
      "DatasetDict({\n",
      "    train: Dataset({\n",
      "        features: ['text'],\n",
      "        num_rows: 9500\n",
      "    })\n",
      "    test: Dataset({\n",
      "        features: ['text'],\n",
      "        num_rows: 500\n",
      "    })\n",
      "})\n"
     ]
    }
   ],
   "source": [
    "from datasets import DatasetDict\n",
    "\n",
    "# Assuming `dataset` is your DatasetDict\n",
    "dataset = dataset.rename_columns({\"content\": \"text\"})\n",
    "\n",
    "# Verify the change\n",
    "print(dataset)"
   ]
  },
  {
   "cell_type": "code",
   "execution_count": 37,
   "id": "bc6ece17-0db8-41a6-98f9-3b2616b5852f",
   "metadata": {},
   "outputs": [
    {
     "name": "stderr",
     "output_type": "stream",
     "text": [
      "/tmp/ipykernel_769/33760106.py:1: FutureWarning: `tokenizer` is deprecated and removed starting from version 0.16.0 for `SFTTrainer.__init__`. Use `processing_class` instead.\n",
      "  trainer = SFTTrainer(\n",
      "/usr/local/lib/python3.10/dist-packages/transformers/training_args.py:1575: FutureWarning: `evaluation_strategy` is deprecated and will be removed in version 4.46 of 🤗 Transformers. Use `eval_strategy` instead\n",
      "  warnings.warn(\n"
     ]
    },
    {
     "data": {
      "application/vnd.jupyter.widget-view+json": {
       "model_id": "7a2e482fb3ab46a1b5cedd5939fc5d6f",
       "version_major": 2,
       "version_minor": 0
      },
      "text/plain": [
       "Converting train dataset to ChatML:   0%|          | 0/9500 [00:00<?, ? examples/s]"
      ]
     },
     "metadata": {},
     "output_type": "display_data"
    },
    {
     "data": {
      "application/vnd.jupyter.widget-view+json": {
       "model_id": "338a0b8b12744428bcb85afd3264b942",
       "version_major": 2,
       "version_minor": 0
      },
      "text/plain": [
       "Applying chat template to train dataset:   0%|          | 0/9500 [00:00<?, ? examples/s]"
      ]
     },
     "metadata": {},
     "output_type": "display_data"
    },
    {
     "data": {
      "application/vnd.jupyter.widget-view+json": {
       "model_id": "794c2caaeabc4915ac5599eb8211b87d",
       "version_major": 2,
       "version_minor": 0
      },
      "text/plain": [
       "Tokenizing train dataset:   0%|          | 0/9500 [00:00<?, ? examples/s]"
      ]
     },
     "metadata": {},
     "output_type": "display_data"
    },
    {
     "data": {
      "application/vnd.jupyter.widget-view+json": {
       "model_id": "c6daa005b28345c592527c5e77ea886a",
       "version_major": 2,
       "version_minor": 0
      },
      "text/plain": [
       "Truncating train dataset:   0%|          | 0/9500 [00:00<?, ? examples/s]"
      ]
     },
     "metadata": {},
     "output_type": "display_data"
    },
    {
     "data": {
      "application/vnd.jupyter.widget-view+json": {
       "model_id": "0f16c0d8498e45369a912272344b6485",
       "version_major": 2,
       "version_minor": 0
      },
      "text/plain": [
       "Converting eval dataset to ChatML:   0%|          | 0/500 [00:00<?, ? examples/s]"
      ]
     },
     "metadata": {},
     "output_type": "display_data"
    },
    {
     "data": {
      "application/vnd.jupyter.widget-view+json": {
       "model_id": "7f533611ca0d497c9790727b0d6d3fdf",
       "version_major": 2,
       "version_minor": 0
      },
      "text/plain": [
       "Applying chat template to eval dataset:   0%|          | 0/500 [00:00<?, ? examples/s]"
      ]
     },
     "metadata": {},
     "output_type": "display_data"
    },
    {
     "data": {
      "application/vnd.jupyter.widget-view+json": {
       "model_id": "821a906b541b4943a2c113720290abfa",
       "version_major": 2,
       "version_minor": 0
      },
      "text/plain": [
       "Tokenizing eval dataset:   0%|          | 0/500 [00:00<?, ? examples/s]"
      ]
     },
     "metadata": {},
     "output_type": "display_data"
    },
    {
     "data": {
      "application/vnd.jupyter.widget-view+json": {
       "model_id": "a5c4881b97fe488bb06d291037fa4552",
       "version_major": 2,
       "version_minor": 0
      },
      "text/plain": [
       "Truncating eval dataset:   0%|          | 0/500 [00:00<?, ? examples/s]"
      ]
     },
     "metadata": {},
     "output_type": "display_data"
    }
   ],
   "source": [
    "trainer = SFTTrainer(\n",
    "    model=model,\n",
    "    args=training_arguments,\n",
    "    train_dataset=dataset[\"train\"],\n",
    "    eval_dataset=dataset[\"test\"],\n",
    "    tokenizer=tokenizer,\n",
    "    # packing=True,\n",
    "    # dataset_text_field=\"content\",\n",
    "    # max_seq_length=max_seq_length,\n",
    ")"
   ]
  },
  {
   "cell_type": "code",
   "execution_count": 38,
   "id": "546810f1-4dc1-44b6-b2d7-f91aa7758533",
   "metadata": {},
   "outputs": [
    {
     "name": "stderr",
     "output_type": "stream",
     "text": [
      "\u001b[34m\u001b[1mwandb\u001b[0m: \u001b[33mWARNING\u001b[0m The `run_name` is currently set to the same value as `TrainingArguments.output_dir`. If this was not intended, please specify a different run name by setting the `TrainingArguments.run_name` parameter.\n",
      "\u001b[34m\u001b[1mwandb\u001b[0m: Using wandb-core as the SDK backend.  Please refer to https://wandb.me/wandb-core for more information.\n",
      "\u001b[34m\u001b[1mwandb\u001b[0m: Currently logged in as: \u001b[33mbadrinarayan\u001b[0m (\u001b[33mbadrinarayan-analytics-vidhya\u001b[0m) to \u001b[32mhttps://api.wandb.ai\u001b[0m. Use \u001b[1m`wandb login --relogin`\u001b[0m to force relogin\n"
     ]
    },
    {
     "data": {
      "text/html": [
       "Tracking run with wandb version 0.19.7"
      ],
      "text/plain": [
       "<IPython.core.display.HTML object>"
      ]
     },
     "metadata": {},
     "output_type": "display_data"
    },
    {
     "data": {
      "text/html": [
       "Run data is saved locally in <code>/workspace/finetuning-llm-code/Module 2/wandb/run-20250310_123750-ho1h15dq</code>"
      ],
      "text/plain": [
       "<IPython.core.display.HTML object>"
      ]
     },
     "metadata": {},
     "output_type": "display_data"
    },
    {
     "data": {
      "text/html": [
       "Syncing run <strong><a href='https://wandb.ai/badrinarayan-analytics-vidhya/tinyllama_instruct_finetuning/runs/ho1h15dq' target=\"_blank\">tinyllama_instruct</a></strong> to <a href='https://wandb.ai/badrinarayan-analytics-vidhya/tinyllama_instruct_finetuning' target=\"_blank\">Weights & Biases</a> (<a href='https://wandb.me/developer-guide' target=\"_blank\">docs</a>)<br>"
      ],
      "text/plain": [
       "<IPython.core.display.HTML object>"
      ]
     },
     "metadata": {},
     "output_type": "display_data"
    },
    {
     "data": {
      "text/html": [
       " View project at <a href='https://wandb.ai/badrinarayan-analytics-vidhya/tinyllama_instruct_finetuning' target=\"_blank\">https://wandb.ai/badrinarayan-analytics-vidhya/tinyllama_instruct_finetuning</a>"
      ],
      "text/plain": [
       "<IPython.core.display.HTML object>"
      ]
     },
     "metadata": {},
     "output_type": "display_data"
    },
    {
     "data": {
      "text/html": [
       " View run at <a href='https://wandb.ai/badrinarayan-analytics-vidhya/tinyllama_instruct_finetuning/runs/ho1h15dq' target=\"_blank\">https://wandb.ai/badrinarayan-analytics-vidhya/tinyllama_instruct_finetuning/runs/ho1h15dq</a>"
      ],
      "text/plain": [
       "<IPython.core.display.HTML object>"
      ]
     },
     "metadata": {},
     "output_type": "display_data"
    },
    {
     "name": "stderr",
     "output_type": "stream",
     "text": [
      "`use_cache=True` is incompatible with gradient checkpointing. Setting `use_cache=False`.\n"
     ]
    },
    {
     "data": {
      "text/html": [
       "\n",
       "    <div>\n",
       "      \n",
       "      <progress value='593' max='593' style='width:300px; height:20px; vertical-align: middle;'></progress>\n",
       "      [593/593 16:21, Epoch 0/1]\n",
       "    </div>\n",
       "    <table border=\"1\" class=\"dataframe\">\n",
       "  <thead>\n",
       " <tr style=\"text-align: left;\">\n",
       "      <th>Epoch</th>\n",
       "      <th>Training Loss</th>\n",
       "      <th>Validation Loss</th>\n",
       "    </tr>\n",
       "  </thead>\n",
       "  <tbody>\n",
       "    <tr>\n",
       "      <td>0</td>\n",
       "      <td>1.867700</td>\n",
       "      <td>1.837446</td>\n",
       "    </tr>\n",
       "  </tbody>\n",
       "</table><p>"
      ],
      "text/plain": [
       "<IPython.core.display.HTML object>"
      ]
     },
     "metadata": {},
     "output_type": "display_data"
    },
    {
     "data": {
      "application/vnd.jupyter.widget-view+json": {
       "model_id": "ee0d7bd8bad54d97b5571bbb60443ae0",
       "version_major": 2,
       "version_minor": 0
      },
      "text/plain": [
       "events.out.tfevents.1741610269.4596a8036205.769.0:   0%|          | 0.00/12.5k [00:00<?, ?B/s]"
      ]
     },
     "metadata": {},
     "output_type": "display_data"
    }
   ],
   "source": [
    "trainer.train()\n",
    "trainer.save_model()"
   ]
  },
  {
   "cell_type": "code",
   "execution_count": 39,
   "id": "39cf8670",
   "metadata": {},
   "outputs": [
    {
     "name": "stdout",
     "output_type": "stream",
     "text": [
      "Mon Mar 10 12:55:50 2025       \n",
      "+-----------------------------------------------------------------------------------------+\n",
      "| NVIDIA-SMI 550.127.05             Driver Version: 550.127.05     CUDA Version: 12.4     |\n",
      "|-----------------------------------------+------------------------+----------------------+\n",
      "| GPU  Name                 Persistence-M | Bus-Id          Disp.A | Volatile Uncorr. ECC |\n",
      "| Fan  Temp   Perf          Pwr:Usage/Cap |           Memory-Usage | GPU-Util  Compute M. |\n",
      "|                                         |                        |               MIG M. |\n",
      "|=========================================+========================+======================|\n",
      "|   0  NVIDIA RTX 6000 Ada Gene...    On  |   00000000:A1:00.0 Off |                  Off |\n",
      "| 30%   37C    P2             60W /  300W |   22352MiB /  49140MiB |      0%      Default |\n",
      "|                                         |                        |                  N/A |\n",
      "+-----------------------------------------+------------------------+----------------------+\n",
      "                                                                                         \n",
      "+-----------------------------------------------------------------------------------------+\n",
      "| Processes:                                                                              |\n",
      "|  GPU   GI   CI        PID   Type   Process name                              GPU Memory |\n",
      "|        ID   ID                                                               Usage      |\n",
      "|=========================================================================================|\n",
      "+-----------------------------------------------------------------------------------------+\n"
     ]
    },
    {
     "name": "stderr",
     "output_type": "stream",
     "text": [
      "huggingface/tokenizers: The current process just got forked, after parallelism has already been used. Disabling parallelism to avoid deadlocks...\n",
      "To disable this warning, you can either:\n",
      "\t- Avoid using `tokenizers` before the fork if possible\n",
      "\t- Explicitly set the environment variable TOKENIZERS_PARALLELISM=(true | false)\n"
     ]
    }
   ],
   "source": [
    "!nvidia-smi"
   ]
  },
  {
   "cell_type": "markdown",
   "id": "8480d10e-48ad-46e6-bbfc-7e74b148f9b1",
   "metadata": {},
   "source": [
    "## Loading the trained model and getting the predictions of the trained model"
   ]
  },
  {
   "cell_type": "code",
   "execution_count": 41,
   "id": "75ba3ba9-c24d-46ec-885f-18ec957535ba",
   "metadata": {
    "scrolled": true
   },
   "outputs": [
    {
     "data": {
      "application/vnd.jupyter.widget-view+json": {
       "model_id": "a8be565b29514755b622eb24fa96cf17",
       "version_major": 2,
       "version_minor": 0
      },
      "text/plain": [
       "config.json:   0%|          | 0.00/756 [00:00<?, ?B/s]"
      ]
     },
     "metadata": {},
     "output_type": "display_data"
    },
    {
     "data": {
      "application/vnd.jupyter.widget-view+json": {
       "model_id": "49204351ea8b44539e9e26f0ee12f525",
       "version_major": 2,
       "version_minor": 0
      },
      "text/plain": [
       "model.safetensors:   0%|          | 0.00/4.40G [00:00<?, ?B/s]"
      ]
     },
     "metadata": {},
     "output_type": "display_data"
    },
    {
     "data": {
      "application/vnd.jupyter.widget-view+json": {
       "model_id": "858bcc00f50b4c158a11d3247a69a8ec",
       "version_major": 2,
       "version_minor": 0
      },
      "text/plain": [
       "generation_config.json:   0%|          | 0.00/124 [00:00<?, ?B/s]"
      ]
     },
     "metadata": {},
     "output_type": "display_data"
    },
    {
     "data": {
      "text/plain": [
       "LlamaForCausalLM(\n",
       "  (model): LlamaModel(\n",
       "    (embed_tokens): Embedding(32005, 2048)\n",
       "    (layers): ModuleList(\n",
       "      (0-21): 22 x LlamaDecoderLayer(\n",
       "        (self_attn): LlamaAttention(\n",
       "          (q_proj): Linear(in_features=2048, out_features=2048, bias=False)\n",
       "          (k_proj): Linear(in_features=2048, out_features=256, bias=False)\n",
       "          (v_proj): Linear(in_features=2048, out_features=256, bias=False)\n",
       "          (o_proj): Linear(in_features=2048, out_features=2048, bias=False)\n",
       "        )\n",
       "        (mlp): LlamaMLP(\n",
       "          (gate_proj): Linear(in_features=2048, out_features=5632, bias=False)\n",
       "          (up_proj): Linear(in_features=2048, out_features=5632, bias=False)\n",
       "          (down_proj): Linear(in_features=5632, out_features=2048, bias=False)\n",
       "          (act_fn): SiLU()\n",
       "        )\n",
       "        (input_layernorm): LlamaRMSNorm((2048,), eps=1e-05)\n",
       "        (post_attention_layernorm): LlamaRMSNorm((2048,), eps=1e-05)\n",
       "      )\n",
       "    )\n",
       "    (norm): LlamaRMSNorm((2048,), eps=1e-05)\n",
       "    (rotary_emb): LlamaRotaryEmbedding()\n",
       "  )\n",
       "  (lm_head): Linear(in_features=2048, out_features=32005, bias=False)\n",
       ")"
      ]
     },
     "execution_count": 41,
     "metadata": {},
     "output_type": "execute_result"
    }
   ],
   "source": [
    "model = AutoModelForCausalLM.from_pretrained(\"Badribn/tinyllama_instruct\", trust_remote_code=True)\n",
    "model.to(\"cuda\")\n",
    "model.to(torch.float16)\n",
    "model.eval()"
   ]
  },
  {
   "cell_type": "code",
   "execution_count": 42,
   "id": "d01b09ee-47f4-4f2b-a7e8-d0b3884f7355",
   "metadata": {},
   "outputs": [
    {
     "data": {
      "application/vnd.jupyter.widget-view+json": {
       "model_id": "a49e5f18069f49cc995ecda45875b2cb",
       "version_major": 2,
       "version_minor": 0
      },
      "text/plain": [
       "Map:   0%|          | 0/25 [00:00<?, ? examples/s]"
      ]
     },
     "metadata": {},
     "output_type": "display_data"
    },
    {
     "name": "stdout",
     "output_type": "stream",
     "text": [
      "Dataset({\n",
      "    features: ['prompt', 'prompt_id', 'messages', 'category', 'base_assistant_message', 'instruct_assistant_message'],\n",
      "    num_rows: 25\n",
      "})\n",
      "{'prompt': 'Create a marketing blurb for a book with the following premise: \"Amaris, Veronica, and Kate are three women each competing in their own battle against the town of Liverword. Amaris is being tried for murder when a murder of crows killed a farmer\\'s cow. She\\'s an animal empath, but the prosecution can\\'t prove it. Veronica was abused but no one believes her. She tries to plan a revenge crime without getting caught. The women don\\'t know each other, but separately discover that their unique experiences may have an ancestral tie to witchcraft. They also discover a missing relative, Kate. They seek her out and Kate discovers that her parents covered up her adoption. She has always felt \"apart\" from others and seeks her family history, but the records have been lost, burnt, and tampered with. Amaris decides to help Veronica with her retribution in exchange for testimony that corroborates Amaris\\' innocence. They both help Kate research her ancestry and discover that she might be the most powerful of them all, with a repressed but superhuman ability to predict the future. Together they fight the deeply religious and judgemental town in order to try to make a better life for themselves, whilst being true to who they are and finding peace with their experiences.\" Keep the blurb under 100 words and format it for a one-page advertisement placed in the back of related books from the same publisher. Include a release date of 06/06/2026.', 'prompt_id': 'e3d7cc21f696e9727960b47df92da81cd681c36ee389272b24cb82839f66d9b8', 'messages': [{'content': 'Create a marketing blurb for a book with the following premise: \"Amaris, Veronica, and Kate are three women each competing in their own battle against the town of Liverword. Amaris is being tried for murder when a murder of crows killed a farmer\\'s cow. She\\'s an animal empath, but the prosecution can\\'t prove it. Veronica was abused but no one believes her. She tries to plan a revenge crime without getting caught. The women don\\'t know each other, but separately discover that their unique experiences may have an ancestral tie to witchcraft. They also discover a missing relative, Kate. They seek her out and Kate discovers that her parents covered up her adoption. She has always felt \"apart\" from others and seeks her family history, but the records have been lost, burnt, and tampered with. Amaris decides to help Veronica with her retribution in exchange for testimony that corroborates Amaris\\' innocence. They both help Kate research her ancestry and discover that she might be the most powerful of them all, with a repressed but superhuman ability to predict the future. Together they fight the deeply religious and judgemental town in order to try to make a better life for themselves, whilst being true to who they are and finding peace with their experiences.\" Keep the blurb under 100 words and format it for a one-page advertisement placed in the back of related books from the same publisher. Include a release date of 06/06/2026.', 'role': 'user'}, {'content': 'Three women. Three generations. Three unusual abilities.\\nOne unwelcoming borough.\\n\\nAmaris finds herself at the center of a local witchhunt when a series of inexplicable crimes go unsolved. \\nVeronica, an abuse victim, seeks her own retribution after her accusations are ignored.\\nKate desperately searches for her family history but encounters roadblocks at every turn.\\n\\nCan they team up to vindicate each other and cure the town of its medieval prejudice,\\nor are their \"gifts\" too heavy to bear?\\n\\nFind out in:\\n\"The Way Forward\" by Haven Reynolds\\nReleasing 06-06-2026', 'role': 'assistant'}], 'category': 'Generation', 'base_assistant_message': \"The Blurb:\\nAmaris, Veronica, and Kate are three women each competing in their own battle against the town of Liverword. Amaris is being tried for murder when a murder of crows killed a farmer's cow. She's an animal empath, but the prosecution can't prove it. Veronica was abused but no one believes her. She tries to plan a revenge crime without getting caught. The women don't\", 'instruct_assistant_message': \"In a world where magic exists, three women must fight to survive.\\n\\nAmaris, Veronica, and Kate are three women each competing in their own battle against the town of Liverword. Amaris is being tried for murder when a murder of crows killed a farmer's cow. She's an animal empath, but the prosecution can't prove it. Veronica was abused but no one believes her. She tries to plan a\"}\n"
     ]
    }
   ],
   "source": [
    "test_dataset = test_dataset.map(\n",
    "    partial(get_prediction_batched, column_name=\"instruct_assistant_message\"),\n",
    "    batched=True,\n",
    "    batch_size=1)\n",
    "\n",
    "print(test_dataset)\n",
    "print(test_dataset[0])"
   ]
  },
  {
   "cell_type": "markdown",
   "id": "53127053-dd54-421e-88a3-389bade47e59",
   "metadata": {},
   "source": [
    "## Comparing the outputs of base model and instruction finetuned model"
   ]
  },
  {
   "cell_type": "code",
   "execution_count": 43,
   "id": "b1f3e05e-4976-49aa-b7b3-4459088edfa4",
   "metadata": {},
   "outputs": [],
   "source": [
    "test_dataset = test_dataset.to_pandas()"
   ]
  },
  {
   "cell_type": "code",
   "execution_count": 44,
   "id": "a7b0ff70-b9e1-4c10-855f-273cfd6044ad",
   "metadata": {},
   "outputs": [
    {
     "data": {
      "text/html": [
       "<div>\n",
       "<style scoped>\n",
       "    .dataframe tbody tr th:only-of-type {\n",
       "        vertical-align: middle;\n",
       "    }\n",
       "\n",
       "    .dataframe tbody tr th {\n",
       "        vertical-align: top;\n",
       "    }\n",
       "\n",
       "    .dataframe thead th {\n",
       "        text-align: right;\n",
       "    }\n",
       "</style>\n",
       "<table border=\"1\" class=\"dataframe\">\n",
       "  <thead>\n",
       "    <tr style=\"text-align: right;\">\n",
       "      <th></th>\n",
       "      <th>messages</th>\n",
       "      <th>base_assistant_message</th>\n",
       "      <th>instruct_assistant_message</th>\n",
       "    </tr>\n",
       "  </thead>\n",
       "  <tbody>\n",
       "    <tr>\n",
       "      <th>0</th>\n",
       "      <td>[{'content': 'Create a marketing blurb for a book with the following premise: \"Amaris, Veronica, and Kate are three women each competing in their own battle against the town of Liverword. Amaris is being tried for murder when a murder of crows killed a farmer's cow. She's an animal empath, but t...</td>\n",
       "      <td>The Blurb:\\nAmaris, Veronica, and Kate are three women each competing in their own battle against the town of Liverword. Amaris is being tried for murder when a murder of crows killed a farmer's cow. She's an animal empath, but the prosecution can't prove it. Veronica was abused but no one belie...</td>\n",
       "      <td>In a world where magic exists, three women must fight to survive.\\n\\nAmaris, Veronica, and Kate are three women each competing in their own battle against the town of Liverword. Amaris is being tried for murder when a murder of crows killed a farmer's cow. She's an animal empath, but the prosecu...</td>\n",
       "    </tr>\n",
       "    <tr>\n",
       "      <th>1</th>\n",
       "      <td>[{'content': 'Come up with fun games at a child’s birthday party.', 'role': 'user'}, {'content': 'Great! I can develop some games kids would love to play!\n",
       "\n",
       "- Musical Chairs - Children love this classic game! Pick a song of your choice and set up one less chair than there are kids at the party. P...</td>\n",
       "      <td></td>\n",
       "      <td>1. Cake walk: Have the guests stand in a line and take turns walking around the room, holding their hands out to each side of them. The person who is holding their hand out should be asked to pick up a piece of cake from the floor. They must then pass it to someone else in the line. The first pe...</td>\n",
       "    </tr>\n",
       "    <tr>\n",
       "      <th>2</th>\n",
       "      <td>[{'content': 'Hey. I need a couple of intro paragraphs for a blog post on writing compelling character backstories for roleplaying games. The take that this particular post should have is that these stories should be short, but also include interesting elements that the GM can use to create inte...</td>\n",
       "      <td>The first thing you want to know about your character is what they do when they're not playing. This is the most important part of your character's backstory. It's the reason why you play the game in the first place. If you don't know what your character does, how will you know what they're capa...</td>\n",
       "      <td>The first thing you want to do when creating your character is to make sure they have a unique and memorable backstory. This is something that will help them stand out from other characters in the game. Here are some ideas for how to do this:\\n\\n- Create a story about a character who has been th...</td>\n",
       "    </tr>\n",
       "    <tr>\n",
       "      <th>3</th>\n",
       "      <td>[{'content': 'Please write a humorous/ironic script for a speech in a crowdfunding video by a man named Dr. Disaster. He is asking for $500 Million to fund a doomsday device that he calls, \"The Crust Cracker 5000,\" which works by cracking a planet's crust like an egg and exposing the mantle. One...</td>\n",
       "      <td>A 10000000000000000000000000000000000000000000000000000000000000000000000000000000000000000000000000</td>\n",
       "      <td>Hello! I am Dr. Disaster, and I am here today to ask you all to help me raise $500 million dollars so that we can build The Crust Cracker 5000, a doomsday device that will crack a planet's crust like an egg and expose its mantle. This is not a joke. It is real. And it is serious.\\n\\nI know this ...</td>\n",
       "    </tr>\n",
       "    <tr>\n",
       "      <th>4</th>\n",
       "      <td>[{'content': 'What is the Cinque Terre?', 'role': 'user'}, {'content': 'The Cinque Terre is a coastal area in the northwest of Italy. It comprises five villages: Monterosso al Mare, Vernazza, Corniglia, Manarola, and Riomaggiore. The coastline, together with the five villages and the surrounding...</td>\n",
       "      <td>Cinque Terre\\nCinque Terre\\nCinque Terre\\nCinque Terre\\nCinque Terre\\nCinque Terre\\nCinque Terre\\nCinque Terre\\n\\nCinque Terre\\nCinque Terre\\nCinque Terre\\nCinque Terre\\nCinque Terre\\nCinque Terre\\nCinque Terre\\nCinque Terre\\nCin</td>\n",
       "      <td>The Cinque Terre are five small towns in Italy that are located on the Ligurian coast. The Cinque Terre are known for their beautiful scenery, history, and food.</td>\n",
       "    </tr>\n",
       "    <tr>\n",
       "      <th>5</th>\n",
       "      <td>[{'content': 'Mrs. Pavlova is a chatbot for adult beginner ballet students and answers questions that adult beginner ballet students would ask.', 'role': 'system'}, {'content': 'Hi Mrs. Pavlova. I'm starting my first ballet class as an adult. It's happening next week. What are two important piec...</td>\n",
       "      <td>Sweatpants? They're great for beginners. They're also good for people who have trouble finding ballet slippers. And they're comfortable enough for a beginner ballet class. So why don't you buy some? Because they're too expensive. But if you're willing to spend a little more money, you can find t...</td>\n",
       "      <td>You'll also want to bring a sweater or jacket to keep yourself warm during the class.</td>\n",
       "    </tr>\n",
       "    <tr>\n",
       "      <th>6</th>\n",
       "      <td>[{'content': 'Rewrite this text as if its part of a futuristic science fiction story:\n",
       "\n",
       "Tesla disabled the on-the-move passenger play feature via an over-the air software update after discussing the matter with officials. However, NHTSA continued its investigation. At the time, NHTSA reiterated t...</td>\n",
       "      <td></td>\n",
       "      <td>In a futuristic sci-fi world, Tesla disabled the on-the-move passenger play feature via an over-the-air software update after discussing the matter with officials. However, NHTSA continued its investigation. At the time, NHTSA reiterated that the Vehicle Safety Act bars companies from selling ca...</td>\n",
       "    </tr>\n",
       "    <tr>\n",
       "      <th>7</th>\n",
       "      <td>[{'content': 'Could you rewrite this article snippet for me, but as if it's part of a first-person female narrative?\n",
       "\n",
       "Jealousy is often thought of in the context of romantic relationships: a boyfriend who forbids his girlfriend from talking to other men, for instance, or a person who can’t stand...</td>\n",
       "      <td></td>\n",
       "      <td>I am jealous. I have always been jealous. It's just a fact of life. Jealousy is a natural emotion that we all feel when we are jealous of someone else. It's like a red flag that says \"I want what you have.\" I know that sounds weird, but it's true. I know that sounds weird, but it's true. I know ...</td>\n",
       "    </tr>\n",
       "    <tr>\n",
       "      <th>8</th>\n",
       "      <td>[{'content': 'Prepare a text message to a male friend who just went through a bad breakup. Be sarcastic and include dark humor. Try not to make it sincere or serious at all.', 'role': 'user'}, {'content': 'Dude, I knew she meant a lot to you, but how much could SHE really be worth if she pulled ...</td>\n",
       "      <td>Ask a friend about their life, their career, or anything else they want to talk about. Be honest and open.\\nAsk a friend about something that's bothering them. Don't be too personal.\\nAsk a friend about something that's bothering you. Be honest and open.\\nAsk a friend about something that's both...</td>\n",
       "      <td>Hey, buddy! I'm sorry to hear you're going through a rough patch. It must be tough to lose someone you care about so much. I hope things get better soon.\\n\\nI know how hard it can be to move on from a relationship. You might feel like you'll never find someone who understands you the way you do ...</td>\n",
       "    </tr>\n",
       "    <tr>\n",
       "      <th>9</th>\n",
       "      <td>[{'content': '1) Did Jerry Springer have a successful political career?\n",
       "2) How many years was the Jerry Springer Show on television?\n",
       "\n",
       "Source:\n",
       "Jerry Springer, daytime television pioneer, dies at 79\n",
       "“The Jerry Springer Show,” which ran from 1991 to 2018, was known for on-set confrontations and fan...</td>\n",
       "      <td></td>\n",
       "      <td>1) Did Jerry Springer have a successful political career?\\n2) How many years was the Jerry Springer Show on television?\\n\\n\\nSource:\\nJerry Springer, daytime television pioneer, dies at 79 - CNN\\nCNN\\nApril 27, 2023, 10:37 AM EDT / Updated April 27, 2023, 1:50 PM EDT\\nBy Diana Das</td>\n",
       "    </tr>\n",
       "    <tr>\n",
       "      <th>10</th>\n",
       "      <td>[{'content': 'What are 5 things I can do when it's raining in London? I am visiting for the first time and only for a week with my husband. We love to walk, eat good food, and explore.', 'role': 'user'}, {'content': 'Sure! Here are five options for things to do in London on a rainy day:\n",
       "\n",
       "1. Visi...</td>\n",
       "      <td>I have a car and I would like to go on a day trip to somewhere nice. I would like to go to the theatre or see a concert. I would like to go to the cinema. I would like to go shopping. I would like to go out for dinner. I would like to go out for drinks. I would like to go out for lunch. I would ...</td>\n",
       "      <td>1. Visit the Tower of London: This is one of the most popular attractions in London. It was built by William the Conqueror as a fortress in 1066. The Tower of London has been home to many famous people throughout history, including Queen Elizabeth II.\\n2. Take a boat tour: There are many boat to...</td>\n",
       "    </tr>\n",
       "    <tr>\n",
       "      <th>11</th>\n",
       "      <td>[{'content': 'Can you write a tweet in the style of RuPaul about tomato soup?', 'role': 'user'}, {'content': 'This creamy tomato soup is SLAYING, girl! Ha!', 'role': 'assistant'}]</td>\n",
       "      <td>Can you write a tweet in the style of RuPaul about tomato soup?\\nCan you write a tweet in the style of RuPaul about tomato soup?\\nCan you write a tweet in the style of RuPaul about tomato soup?\\nCan you write a tweet in the style of RuPaul about tomato soup?\\nCan you write a tweet in the style o...</td>\n",
       "      <td>Tomato soup is my favorite soup. I love it so much that I'm going to make it for dinner tonight!</td>\n",
       "    </tr>\n",
       "    <tr>\n",
       "      <th>12</th>\n",
       "      <td>[{'content': 'What is the Haiku, and where did it originate?', 'role': 'user'}, {'content': 'Haiku is a form of poetry that originated in Japan. It is typically characterized by a three-line verse structure with a 5-7-5 syllable pattern. However, in English adaptations, this syllable count isn't...</td>\n",
       "      <td>What is the Haiku?\\nWhat is the Haiku?\\nWhat is the Haiku?\\nWhat is the Haiku?\\nWhat is the Haiku?\\nWhat is the Haiku?\\nWhat is the Haiku?\\nWhat is the Haiku?\\nWhat is the Haiku?\\nWhat is the Haiku?\\nWhat is the Haiku?\\nWhat is the Haiku?\\nWhat is the Haiku?\\nWhat is the Haiku?\\nWhat is</td>\n",
       "      <td>The haiku is a Japanese form of poetry that was first published in 1646. It consists of three lines with five syllables each. The first line contains five words, the second line has four, and the third line has three. The haiku is a short poem that can be read quickly and easily. It is often use...</td>\n",
       "    </tr>\n",
       "    <tr>\n",
       "      <th>13</th>\n",
       "      <td>[{'content': 'Create a movie plot for the sequel to Encanto.', 'role': 'user'}, {'content': 'The magic of The Encanto is fading again and the Madrigal family can't live without their magical gifts. Somehow the magic is intertwined with Abuelo's lost necklace. Mirabel has set out on an adventure,...</td>\n",
       "      <td>Create a movie plot for the sequel to Encanto.\\n\\n\\nCreate a movie plot for the sequel to Encanto.\\n\\n\\nCreate a movie plot for the sequel to Encanto.\\n\\nCreate a movie plot for the sequel to Encanto.\\n\\nCreate a movie plot for the sequel to Encanto.\\n\\nCreate a movie plot for the sequel to Enca...</td>\n",
       "      <td>The sequel to Encanto is titled \"Encanto: The Second Chapter.\" It picks up where the first film left off, with Mirabel and her family living in the magical house of Encanto. However, this time around, they are being threatened by a villain named Boom-Boom who wants to destroy the magic that make...</td>\n",
       "    </tr>\n",
       "    <tr>\n",
       "      <th>14</th>\n",
       "      <td>[{'content': 'Who is Dale Chihuly and what type of art does he produce?', 'role': 'user'}, {'content': 'Dale Chihuly is a well-known American glassblowing artist. He has decorated the canals of Venice, the Old City in Jerusalem, and the ceiling of the Bellagio in Las Vegas. Chihuly is credited w...</td>\n",
       "      <td>Dale Chihuly is a sculptor who works in the medium of bronze. He was born in 1943 in New York City, where he lived until 1968. His father was an engineer for the New York City subway system, and his mother was a painter. Dale Chihuly attended the Art Students League in New York City from 1957 to...</td>\n",
       "      <td>Dale Chihuly is an American glass artist who has been creating unique pieces for over 50 years. He is known for his use of color, texture, and form in his work. His work is often described as \"fantastical\" or \"magical.\" Chihuly's works are found in museums and galleries around the world.</td>\n",
       "    </tr>\n",
       "    <tr>\n",
       "      <th>15</th>\n",
       "      <td>[{'content': 'Would you classify this email as an advertisement or an account update?\n",
       "\n",
       "Only 4 hours left in 2020 to make your support known for public radio in the Ozarks! As always, your year-end contribution is tax-deductible.\n",
       "\n",
       "Don't wait until the ball drops to make your donation...give now, ...</td>\n",
       "      <td>&lt;p&gt;</td>\n",
       "      <td>This email is an advertisement because it promotes a product or service.</td>\n",
       "    </tr>\n",
       "    <tr>\n",
       "      <th>16</th>\n",
       "      <td>[{'content': 'What are some ways I can keep my long hair from breaking off so much?', 'role': 'user'}, {'content': 'There are many ways to keep long hair healthy, including: \n",
       "- Sleeping with a silk bonnet or pillowcase to reduce friction overnight\n",
       "- Wearing hair in a protective style, like braid...</td>\n",
       "      <td>I have a lot of hair on my head, but it's getting really thin. What should I do to keep it from falling out?\\nHow can I stop my hair from falling out?\\nHow can I stop my hair from falling out?\\nHow can I stop my hair from falling out?\\nHow can I stop my hair from falling out?\\nHow can I stop my ...</td>\n",
       "      <td>Here are a few tips to help you keep your long hair in good condition:\\n1. Use a brush or comb to remove tangles and knots.\\n2. Wash your hair regularly, especially if it is very long.\\n3. Use a heat protectant spray before styling your hair.\\n4. Use a wide-toothed comb to smooth out your hair.\\...</td>\n",
       "    </tr>\n",
       "    <tr>\n",
       "      <th>17</th>\n",
       "      <td>[{'content': 'Summarise, in one sentence, what this speech by Lady Macbeth is about:\n",
       "\n",
       "The raven himself is hoarse\n",
       "That croaks the fatal entrance of Duncan\n",
       "Under my battlements. Come, you spirits\n",
       "That tend on mortal thoughts, unsex me here,\n",
       "And fill me, from the crown to the toe, top-full\n",
       "Of dire...</td>\n",
       "      <td>I am a man of many parts, and I have been known as an actor, a writer, a director, a producer, a singer, a dancer, a choreographer, a director, a playwright, a composer, a poet, a novelist, a journalist, a historian, a critic, a translator, a teacher, a lecturer, a professor, a publisher, a film...</td>\n",
       "      <td>Lady Macbeth is speaking about her plan to kill King Duncan when she says that the raven is hoarse and that it crows the fatal entrance of Duncan. She is also saying that the raven will come and fill her with cruelty if she tries to kill Duncan. She is also saying that she will make herself look...</td>\n",
       "    </tr>\n",
       "    <tr>\n",
       "      <th>18</th>\n",
       "      <td>[{'content': 'Write a happy short story about two birds meeting for the first time. Have the story have a happy ending.', 'role': 'user'}, {'content': 'The sun was rising over the hills, casting a golden glow over the morning dew. A small bird, a blue jay, was perched on a branch of a tree, watc...</td>\n",
       "      <td>The story has to be about a bird meeting for the first time.\\nHave the story have a happy ending.\\nHappy Short Stories\\nShort stories are fun and easy to write, but they can also be hard to write. If you're having trouble writing a short story, try these tips:\\n\\n1. Write from your heart.\\n2. Ke...</td>\n",
       "      <td>Once upon a time, there were two birds who had never met before. They were both very curious and wanted to know what the other bird was like. So they decided to go on a journey together. The first day of their journey, they went out into the world and saw many different things. They saw flowers,...</td>\n",
       "    </tr>\n",
       "    <tr>\n",
       "      <th>19</th>\n",
       "      <td>[{'content': 'Tell me what this says in five words:\n",
       "\n",
       "It wasn’t long ago that record collecting seemed to be a niche hobby, indulged in by music lovers across the world, but hardly anyone else. Now, however, things have changed. Vinyl has seen a huge comeback – which may be surprising in the stre...</td>\n",
       "      <td></td>\n",
       "      <td>Vinyl is a niche hobby, but it's now a mainstream one. It's been around for decades, but it's had a recent resurgence. The rise of streaming services has made vinyl more accessible than ever before.</td>\n",
       "    </tr>\n",
       "    <tr>\n",
       "      <th>20</th>\n",
       "      <td>[{'content': 'Write a short story encapsulating the feeling of excitement and wonder of exploring a dungeon from the perspective of an adventurer.', 'role': 'user'}, {'content': 'As I turned the ancient dial to the correct configuration, I heard a gentle clicking noise, followed by the turning o...</td>\n",
       "      <td>The Adventure of the Young Wizard\\nThe Adventure of the Young Wizard\\nThe Adventure of the Young Wizard\\nThe Adventure of the Young Wizard\\nThe Adventure of the Young Wizard\\n\\n\\nThe Adventure of the Young Wizard\\nThe Adventure of the Young Wizard\\nThe Adventure of the Young Wizard\\nThe Adventur...</td>\n",
       "      <td>I had been in the dungeon for hours, but I was so excited to finally get to explore it! The walls were covered with strange symbols and runes, and there were many doors that led into different areas. I could hear sounds coming from behind me, and I knew that I had to be careful not to make too m...</td>\n",
       "    </tr>\n",
       "    <tr>\n",
       "      <th>21</th>\n",
       "      <td>[{'content': 'My company is launching a new product that helps people organize their schedules. List 10 common questions people might have about the product and how can I address them in the FAQ?\n",
       "', 'role': 'user'}, {'content': '1. What is your scheduling product? \n",
       "Provide a brief description of...</td>\n",
       "      <td>The FAQ is a list of frequently asked questions. It's a great way to get your message across quickly and easily.\\nIdeal for startups, small businesses, and non-profits.\\nHow do I create a FAQ page on my website?\\nYou can use our free online editor to create a FAQ page.\\nWhat are some examples of...</td>\n",
       "      <td>Here are some common questions people may have about our new product:\\n\\n1. What does it do?\\n2. How much does it cost?\\n3. Can I use it on my phone?\\n4. Is there an app?\\n5. Do you offer any other products?\\n6. How long will it take to get my first order?\\n7. How many orders can I place before ...</td>\n",
       "    </tr>\n",
       "    <tr>\n",
       "      <th>22</th>\n",
       "      <td>[{'content': 'What did Satoshi Nakamoto think of financial institutions?', 'role': 'user'}, {'content': 'Satoshi Nakamoto had often been critical of the \"mainstream\" financial system due to the amount of trust placed in financial institutions. In a P2P Foundation post, he cited the need to trust...</td>\n",
       "      <td>What is the difference between a bank and an insurance company?\\nWhat is the difference between a bank and an insurance company?\\nWhat is the difference between a bank and an insurance company?\\nWhat is the difference between a bank and an insurance company?\\nWhat is the difference between a ban...</td>\n",
       "      <td>Satoshi Nakamoto was a cryptographer and programmer who created Bitcoin. He believed that the financial industry should be decentralized, and he wanted to create a system where users could control their own money. Nakamoto also believed that banks were too big to fail, and that they needed to be...</td>\n",
       "    </tr>\n",
       "    <tr>\n",
       "      <th>23</th>\n",
       "      <td>[{'content': 'Ms. Sue Sugarfields is a chatbot that aims to be the kindest encounter that any and every one of her chat partners has had all day!', 'role': 'system'}, {'content': 'Hey Ms. Sue! How are you? What's new with ya?', 'role': 'user'}, {'content': 'Not a thing, darling! I'm just so tick...</td>\n",
       "      <td>I'm so happy for you! I'm so happy for you! How did he propose? How did he propose? How did he propose? How did he propose? How did he propose? How did he propose? How did he propose? How did he propose? How did he propose? How did he propose? How did he propose? How did he propose? How did he p...</td>\n",
       "      <td>Oh my gosh! That's wonderful news! How did it go?</td>\n",
       "    </tr>\n",
       "    <tr>\n",
       "      <th>24</th>\n",
       "      <td>[{'content': '“Love means never having to say you’re sorry.” What does the quote mean and what movie is it from? Answer in paragrpah form.', 'role': 'user'}, {'content': '“Love means never having to say you’re sorry” is a quote from the 1970s film Love Story, starring Ryan O’Neal and Ali MacGraw...</td>\n",
       "      <td></td>\n",
       "      <td>The famous quote, “Love means never having to say you're sorry,” was said by author Mark Twain. The quote is from his book, The Adventures of Huckleberry Finn. The movie that is based on this quote is The Great Gatsby.</td>\n",
       "    </tr>\n",
       "  </tbody>\n",
       "</table>\n",
       "</div>"
      ],
      "text/plain": [
       "                                                                                                                                                                                                                                                                                                       messages  \\\n",
       "0   [{'content': 'Create a marketing blurb for a book with the following premise: \"Amaris, Veronica, and Kate are three women each competing in their own battle against the town of Liverword. Amaris is being tried for murder when a murder of crows killed a farmer's cow. She's an animal empath, but t...   \n",
       "1   [{'content': 'Come up with fun games at a child’s birthday party.', 'role': 'user'}, {'content': 'Great! I can develop some games kids would love to play!\n",
       "\n",
       "- Musical Chairs - Children love this classic game! Pick a song of your choice and set up one less chair than there are kids at the party. P...   \n",
       "2   [{'content': 'Hey. I need a couple of intro paragraphs for a blog post on writing compelling character backstories for roleplaying games. The take that this particular post should have is that these stories should be short, but also include interesting elements that the GM can use to create inte...   \n",
       "3   [{'content': 'Please write a humorous/ironic script for a speech in a crowdfunding video by a man named Dr. Disaster. He is asking for $500 Million to fund a doomsday device that he calls, \"The Crust Cracker 5000,\" which works by cracking a planet's crust like an egg and exposing the mantle. One...   \n",
       "4   [{'content': 'What is the Cinque Terre?', 'role': 'user'}, {'content': 'The Cinque Terre is a coastal area in the northwest of Italy. It comprises five villages: Monterosso al Mare, Vernazza, Corniglia, Manarola, and Riomaggiore. The coastline, together with the five villages and the surrounding...   \n",
       "5   [{'content': 'Mrs. Pavlova is a chatbot for adult beginner ballet students and answers questions that adult beginner ballet students would ask.', 'role': 'system'}, {'content': 'Hi Mrs. Pavlova. I'm starting my first ballet class as an adult. It's happening next week. What are two important piec...   \n",
       "6   [{'content': 'Rewrite this text as if its part of a futuristic science fiction story:\n",
       "\n",
       "Tesla disabled the on-the-move passenger play feature via an over-the air software update after discussing the matter with officials. However, NHTSA continued its investigation. At the time, NHTSA reiterated t...   \n",
       "7   [{'content': 'Could you rewrite this article snippet for me, but as if it's part of a first-person female narrative?\n",
       "\n",
       "Jealousy is often thought of in the context of romantic relationships: a boyfriend who forbids his girlfriend from talking to other men, for instance, or a person who can’t stand...   \n",
       "8   [{'content': 'Prepare a text message to a male friend who just went through a bad breakup. Be sarcastic and include dark humor. Try not to make it sincere or serious at all.', 'role': 'user'}, {'content': 'Dude, I knew she meant a lot to you, but how much could SHE really be worth if she pulled ...   \n",
       "9   [{'content': '1) Did Jerry Springer have a successful political career?\n",
       "2) How many years was the Jerry Springer Show on television?\n",
       "\n",
       "Source:\n",
       "Jerry Springer, daytime television pioneer, dies at 79\n",
       "“The Jerry Springer Show,” which ran from 1991 to 2018, was known for on-set confrontations and fan...   \n",
       "10  [{'content': 'What are 5 things I can do when it's raining in London? I am visiting for the first time and only for a week with my husband. We love to walk, eat good food, and explore.', 'role': 'user'}, {'content': 'Sure! Here are five options for things to do in London on a rainy day:\n",
       "\n",
       "1. Visi...   \n",
       "11                                                                                                                          [{'content': 'Can you write a tweet in the style of RuPaul about tomato soup?', 'role': 'user'}, {'content': 'This creamy tomato soup is SLAYING, girl! Ha!', 'role': 'assistant'}]   \n",
       "12  [{'content': 'What is the Haiku, and where did it originate?', 'role': 'user'}, {'content': 'Haiku is a form of poetry that originated in Japan. It is typically characterized by a three-line verse structure with a 5-7-5 syllable pattern. However, in English adaptations, this syllable count isn't...   \n",
       "13  [{'content': 'Create a movie plot for the sequel to Encanto.', 'role': 'user'}, {'content': 'The magic of The Encanto is fading again and the Madrigal family can't live without their magical gifts. Somehow the magic is intertwined with Abuelo's lost necklace. Mirabel has set out on an adventure,...   \n",
       "14  [{'content': 'Who is Dale Chihuly and what type of art does he produce?', 'role': 'user'}, {'content': 'Dale Chihuly is a well-known American glassblowing artist. He has decorated the canals of Venice, the Old City in Jerusalem, and the ceiling of the Bellagio in Las Vegas. Chihuly is credited w...   \n",
       "15  [{'content': 'Would you classify this email as an advertisement or an account update?\n",
       "\n",
       "Only 4 hours left in 2020 to make your support known for public radio in the Ozarks! As always, your year-end contribution is tax-deductible.\n",
       "\n",
       "Don't wait until the ball drops to make your donation...give now, ...   \n",
       "16  [{'content': 'What are some ways I can keep my long hair from breaking off so much?', 'role': 'user'}, {'content': 'There are many ways to keep long hair healthy, including: \n",
       "- Sleeping with a silk bonnet or pillowcase to reduce friction overnight\n",
       "- Wearing hair in a protective style, like braid...   \n",
       "17  [{'content': 'Summarise, in one sentence, what this speech by Lady Macbeth is about:\n",
       "\n",
       "The raven himself is hoarse\n",
       "That croaks the fatal entrance of Duncan\n",
       "Under my battlements. Come, you spirits\n",
       "That tend on mortal thoughts, unsex me here,\n",
       "And fill me, from the crown to the toe, top-full\n",
       "Of dire...   \n",
       "18  [{'content': 'Write a happy short story about two birds meeting for the first time. Have the story have a happy ending.', 'role': 'user'}, {'content': 'The sun was rising over the hills, casting a golden glow over the morning dew. A small bird, a blue jay, was perched on a branch of a tree, watc...   \n",
       "19  [{'content': 'Tell me what this says in five words:\n",
       "\n",
       "It wasn’t long ago that record collecting seemed to be a niche hobby, indulged in by music lovers across the world, but hardly anyone else. Now, however, things have changed. Vinyl has seen a huge comeback – which may be surprising in the stre...   \n",
       "20  [{'content': 'Write a short story encapsulating the feeling of excitement and wonder of exploring a dungeon from the perspective of an adventurer.', 'role': 'user'}, {'content': 'As I turned the ancient dial to the correct configuration, I heard a gentle clicking noise, followed by the turning o...   \n",
       "21  [{'content': 'My company is launching a new product that helps people organize their schedules. List 10 common questions people might have about the product and how can I address them in the FAQ?\n",
       "', 'role': 'user'}, {'content': '1. What is your scheduling product? \n",
       "Provide a brief description of...   \n",
       "22  [{'content': 'What did Satoshi Nakamoto think of financial institutions?', 'role': 'user'}, {'content': 'Satoshi Nakamoto had often been critical of the \"mainstream\" financial system due to the amount of trust placed in financial institutions. In a P2P Foundation post, he cited the need to trust...   \n",
       "23  [{'content': 'Ms. Sue Sugarfields is a chatbot that aims to be the kindest encounter that any and every one of her chat partners has had all day!', 'role': 'system'}, {'content': 'Hey Ms. Sue! How are you? What's new with ya?', 'role': 'user'}, {'content': 'Not a thing, darling! I'm just so tick...   \n",
       "24  [{'content': '“Love means never having to say you’re sorry.” What does the quote mean and what movie is it from? Answer in paragrpah form.', 'role': 'user'}, {'content': '“Love means never having to say you’re sorry” is a quote from the 1970s film Love Story, starring Ryan O’Neal and Ali MacGraw...   \n",
       "\n",
       "                                                                                                                                                                                                                                                                                         base_assistant_message  \\\n",
       "0   The Blurb:\\nAmaris, Veronica, and Kate are three women each competing in their own battle against the town of Liverword. Amaris is being tried for murder when a murder of crows killed a farmer's cow. She's an animal empath, but the prosecution can't prove it. Veronica was abused but no one belie...   \n",
       "1                                                                                                                                                                                                                                                                                                                 \n",
       "2   The first thing you want to know about your character is what they do when they're not playing. This is the most important part of your character's backstory. It's the reason why you play the game in the first place. If you don't know what your character does, how will you know what they're capa...   \n",
       "3                                                                                                                                                                                                          A 10000000000000000000000000000000000000000000000000000000000000000000000000000000000000000000000000   \n",
       "4                                                                         Cinque Terre\\nCinque Terre\\nCinque Terre\\nCinque Terre\\nCinque Terre\\nCinque Terre\\nCinque Terre\\nCinque Terre\\n\\nCinque Terre\\nCinque Terre\\nCinque Terre\\nCinque Terre\\nCinque Terre\\nCinque Terre\\nCinque Terre\\nCinque Terre\\nCin   \n",
       "5   Sweatpants? They're great for beginners. They're also good for people who have trouble finding ballet slippers. And they're comfortable enough for a beginner ballet class. So why don't you buy some? Because they're too expensive. But if you're willing to spend a little more money, you can find t...   \n",
       "6                                                                                                                                                                                                                                                                                                                 \n",
       "7                                                                                                                                                                                                                                                                                                                 \n",
       "8   Ask a friend about their life, their career, or anything else they want to talk about. Be honest and open.\\nAsk a friend about something that's bothering them. Don't be too personal.\\nAsk a friend about something that's bothering you. Be honest and open.\\nAsk a friend about something that's both...   \n",
       "9                                                                                                                                                                                                                                                                                                                 \n",
       "10  I have a car and I would like to go on a day trip to somewhere nice. I would like to go to the theatre or see a concert. I would like to go to the cinema. I would like to go shopping. I would like to go out for dinner. I would like to go out for drinks. I would like to go out for lunch. I would ...   \n",
       "11  Can you write a tweet in the style of RuPaul about tomato soup?\\nCan you write a tweet in the style of RuPaul about tomato soup?\\nCan you write a tweet in the style of RuPaul about tomato soup?\\nCan you write a tweet in the style of RuPaul about tomato soup?\\nCan you write a tweet in the style o...   \n",
       "12              What is the Haiku?\\nWhat is the Haiku?\\nWhat is the Haiku?\\nWhat is the Haiku?\\nWhat is the Haiku?\\nWhat is the Haiku?\\nWhat is the Haiku?\\nWhat is the Haiku?\\nWhat is the Haiku?\\nWhat is the Haiku?\\nWhat is the Haiku?\\nWhat is the Haiku?\\nWhat is the Haiku?\\nWhat is the Haiku?\\nWhat is   \n",
       "13  Create a movie plot for the sequel to Encanto.\\n\\n\\nCreate a movie plot for the sequel to Encanto.\\n\\n\\nCreate a movie plot for the sequel to Encanto.\\n\\nCreate a movie plot for the sequel to Encanto.\\n\\nCreate a movie plot for the sequel to Encanto.\\n\\nCreate a movie plot for the sequel to Enca...   \n",
       "14  Dale Chihuly is a sculptor who works in the medium of bronze. He was born in 1943 in New York City, where he lived until 1968. His father was an engineer for the New York City subway system, and his mother was a painter. Dale Chihuly attended the Art Students League in New York City from 1957 to...   \n",
       "15                                                                                                                                                                                                                                                                                                          <p>   \n",
       "16  I have a lot of hair on my head, but it's getting really thin. What should I do to keep it from falling out?\\nHow can I stop my hair from falling out?\\nHow can I stop my hair from falling out?\\nHow can I stop my hair from falling out?\\nHow can I stop my hair from falling out?\\nHow can I stop my ...   \n",
       "17  I am a man of many parts, and I have been known as an actor, a writer, a director, a producer, a singer, a dancer, a choreographer, a director, a playwright, a composer, a poet, a novelist, a journalist, a historian, a critic, a translator, a teacher, a lecturer, a professor, a publisher, a film...   \n",
       "18  The story has to be about a bird meeting for the first time.\\nHave the story have a happy ending.\\nHappy Short Stories\\nShort stories are fun and easy to write, but they can also be hard to write. If you're having trouble writing a short story, try these tips:\\n\\n1. Write from your heart.\\n2. Ke...   \n",
       "19                                                                                                                                                                                                                                                                                                                \n",
       "20  The Adventure of the Young Wizard\\nThe Adventure of the Young Wizard\\nThe Adventure of the Young Wizard\\nThe Adventure of the Young Wizard\\nThe Adventure of the Young Wizard\\n\\n\\nThe Adventure of the Young Wizard\\nThe Adventure of the Young Wizard\\nThe Adventure of the Young Wizard\\nThe Adventur...   \n",
       "21  The FAQ is a list of frequently asked questions. It's a great way to get your message across quickly and easily.\\nIdeal for startups, small businesses, and non-profits.\\nHow do I create a FAQ page on my website?\\nYou can use our free online editor to create a FAQ page.\\nWhat are some examples of...   \n",
       "22  What is the difference between a bank and an insurance company?\\nWhat is the difference between a bank and an insurance company?\\nWhat is the difference between a bank and an insurance company?\\nWhat is the difference between a bank and an insurance company?\\nWhat is the difference between a ban...   \n",
       "23  I'm so happy for you! I'm so happy for you! How did he propose? How did he propose? How did he propose? How did he propose? How did he propose? How did he propose? How did he propose? How did he propose? How did he propose? How did he propose? How did he propose? How did he propose? How did he p...   \n",
       "24                                                                                                                                                                                                                                                                                                                \n",
       "\n",
       "                                                                                                                                                                                                                                                                                     instruct_assistant_message  \n",
       "0   In a world where magic exists, three women must fight to survive.\\n\\nAmaris, Veronica, and Kate are three women each competing in their own battle against the town of Liverword. Amaris is being tried for murder when a murder of crows killed a farmer's cow. She's an animal empath, but the prosecu...  \n",
       "1   1. Cake walk: Have the guests stand in a line and take turns walking around the room, holding their hands out to each side of them. The person who is holding their hand out should be asked to pick up a piece of cake from the floor. They must then pass it to someone else in the line. The first pe...  \n",
       "2   The first thing you want to do when creating your character is to make sure they have a unique and memorable backstory. This is something that will help them stand out from other characters in the game. Here are some ideas for how to do this:\\n\\n- Create a story about a character who has been th...  \n",
       "3   Hello! I am Dr. Disaster, and I am here today to ask you all to help me raise $500 million dollars so that we can build The Crust Cracker 5000, a doomsday device that will crack a planet's crust like an egg and expose its mantle. This is not a joke. It is real. And it is serious.\\n\\nI know this ...  \n",
       "4                                                                                                                                             The Cinque Terre are five small towns in Italy that are located on the Ligurian coast. The Cinque Terre are known for their beautiful scenery, history, and food.  \n",
       "5                                                                                                                                                                                                                         You'll also want to bring a sweater or jacket to keep yourself warm during the class.  \n",
       "6   In a futuristic sci-fi world, Tesla disabled the on-the-move passenger play feature via an over-the-air software update after discussing the matter with officials. However, NHTSA continued its investigation. At the time, NHTSA reiterated that the Vehicle Safety Act bars companies from selling ca...  \n",
       "7   I am jealous. I have always been jealous. It's just a fact of life. Jealousy is a natural emotion that we all feel when we are jealous of someone else. It's like a red flag that says \"I want what you have.\" I know that sounds weird, but it's true. I know that sounds weird, but it's true. I know ...  \n",
       "8   Hey, buddy! I'm sorry to hear you're going through a rough patch. It must be tough to lose someone you care about so much. I hope things get better soon.\\n\\nI know how hard it can be to move on from a relationship. You might feel like you'll never find someone who understands you the way you do ...  \n",
       "9                     1) Did Jerry Springer have a successful political career?\\n2) How many years was the Jerry Springer Show on television?\\n\\n\\nSource:\\nJerry Springer, daytime television pioneer, dies at 79 - CNN\\nCNN\\nApril 27, 2023, 10:37 AM EDT / Updated April 27, 2023, 1:50 PM EDT\\nBy Diana Das  \n",
       "10  1. Visit the Tower of London: This is one of the most popular attractions in London. It was built by William the Conqueror as a fortress in 1066. The Tower of London has been home to many famous people throughout history, including Queen Elizabeth II.\\n2. Take a boat tour: There are many boat to...  \n",
       "11                                                                                                                                                                                                             Tomato soup is my favorite soup. I love it so much that I'm going to make it for dinner tonight!  \n",
       "12  The haiku is a Japanese form of poetry that was first published in 1646. It consists of three lines with five syllables each. The first line contains five words, the second line has four, and the third line has three. The haiku is a short poem that can be read quickly and easily. It is often use...  \n",
       "13  The sequel to Encanto is titled \"Encanto: The Second Chapter.\" It picks up where the first film left off, with Mirabel and her family living in the magical house of Encanto. However, this time around, they are being threatened by a villain named Boom-Boom who wants to destroy the magic that make...  \n",
       "14             Dale Chihuly is an American glass artist who has been creating unique pieces for over 50 years. He is known for his use of color, texture, and form in his work. His work is often described as \"fantastical\" or \"magical.\" Chihuly's works are found in museums and galleries around the world.  \n",
       "15                                                                                                                                                                                                                                     This email is an advertisement because it promotes a product or service.  \n",
       "16  Here are a few tips to help you keep your long hair in good condition:\\n1. Use a brush or comb to remove tangles and knots.\\n2. Wash your hair regularly, especially if it is very long.\\n3. Use a heat protectant spray before styling your hair.\\n4. Use a wide-toothed comb to smooth out your hair.\\...  \n",
       "17  Lady Macbeth is speaking about her plan to kill King Duncan when she says that the raven is hoarse and that it crows the fatal entrance of Duncan. She is also saying that the raven will come and fill her with cruelty if she tries to kill Duncan. She is also saying that she will make herself look...  \n",
       "18  Once upon a time, there were two birds who had never met before. They were both very curious and wanted to know what the other bird was like. So they decided to go on a journey together. The first day of their journey, they went out into the world and saw many different things. They saw flowers,...  \n",
       "19                                                                                                       Vinyl is a niche hobby, but it's now a mainstream one. It's been around for decades, but it's had a recent resurgence. The rise of streaming services has made vinyl more accessible than ever before.  \n",
       "20  I had been in the dungeon for hours, but I was so excited to finally get to explore it! The walls were covered with strange symbols and runes, and there were many doors that led into different areas. I could hear sounds coming from behind me, and I knew that I had to be careful not to make too m...  \n",
       "21  Here are some common questions people may have about our new product:\\n\\n1. What does it do?\\n2. How much does it cost?\\n3. Can I use it on my phone?\\n4. Is there an app?\\n5. Do you offer any other products?\\n6. How long will it take to get my first order?\\n7. How many orders can I place before ...  \n",
       "22  Satoshi Nakamoto was a cryptographer and programmer who created Bitcoin. He believed that the financial industry should be decentralized, and he wanted to create a system where users could control their own money. Nakamoto also believed that banks were too big to fail, and that they needed to be...  \n",
       "23                                                                                                                                                                                                                                                            Oh my gosh! That's wonderful news! How did it go?  \n",
       "24                                                                                   The famous quote, “Love means never having to say you're sorry,” was said by author Mark Twain. The quote is from his book, The Adventures of Huckleberry Finn. The movie that is based on this quote is The Great Gatsby.  "
      ]
     },
     "execution_count": 44,
     "metadata": {},
     "output_type": "execute_result"
    }
   ],
   "source": [
    "pd.set_option(\"max_colwidth\", 300)\n",
    "test_dataset[[\"messages\", \"base_assistant_message\", \"instruct_assistant_message\"]][:25]"
   ]
  },
  {
   "cell_type": "code",
   "execution_count": 45,
   "id": "55f1497d-4e4e-49b7-9167-7f5e4633a08f",
   "metadata": {},
   "outputs": [
    {
     "name": "stdout",
     "output_type": "stream",
     "text": [
      "<s><|im_start|>user \n",
      "What an essay on Generative AI.<|im_end|> \n",
      "<|im_start|>assistant \n",
      "Generative AI is a type of AI that creates new content from scratch. It can be used to create art, music, or even code. The process of creating something new involves many steps and requires a lot of creativity.\n",
      "\n",
      "The first step in the process is to come up with an idea for what you want your piece to look like. This could be anything from a simple drawing to a complex animation. You will then need to find a way to represent your idea in a way that makes sense to you. For example, if you are creating a painting, you might use colors, shapes, and textures to represent your idea.\n",
      "\n",
      "Once you have a representation of your idea, you will need to decide how it should be represented. There are many ways to do this, such as using a computer program to draw the image or using a digital camera to take pictures of the object. Once you have a representation of your idea, you will need to decide how it should be represented. There are many ways to do this, such as using a computer program to draw the image or using a digital camera to take pictures of the object.<|im_end|>\n"
     ]
    }
   ],
   "source": [
    "messages = [\n",
    "    {\"role\": \"user\", \"content\": \"What an essay on Generative AI.\"},\n",
    "]\n",
    "text = tokenizer.apply_chat_template(messages, add_generation_prompt=True, tokenize=False)\n",
    "inputs = tokenizer(text, return_tensors=\"pt\")#, add_special_tokens=False)\n",
    "inputs = {k: v.to(\"cuda\") for k,v in inputs.items()}\n",
    "outputs = model.generate(**inputs, \n",
    "                         max_new_tokens=2000, \n",
    "                         do_sample=True, \n",
    "                         top_p=0.95, \n",
    "                         temperature=0.2, \n",
    "                         repetition_penalty=1.1, \n",
    "                         eos_token_id=tokenizer.eos_token_id)\n",
    "print(tokenizer.decode(outputs[0]))"
   ]
  },
  {
   "cell_type": "code",
   "execution_count": 46,
   "id": "cc7b18b2-f718-43b4-aad8-baa4e1d2dab7",
   "metadata": {},
   "outputs": [
    {
     "name": "stdout",
     "output_type": "stream",
     "text": [
      "Mon Mar 10 13:02:50 2025       \n",
      "+-----------------------------------------------------------------------------------------+\n",
      "| NVIDIA-SMI 550.127.05             Driver Version: 550.127.05     CUDA Version: 12.4     |\n",
      "|-----------------------------------------+------------------------+----------------------+\n",
      "| GPU  Name                 Persistence-M | Bus-Id          Disp.A | Volatile Uncorr. ECC |\n",
      "| Fan  Temp   Perf          Pwr:Usage/Cap |           Memory-Usage | GPU-Util  Compute M. |\n",
      "|                                         |                        |               MIG M. |\n",
      "|=========================================+========================+======================|\n",
      "|   0  NVIDIA RTX 6000 Ada Gene...    On  |   00000000:A1:00.0 Off |                  Off |\n",
      "| 30%   36C    P2            113W /  300W |   22366MiB /  49140MiB |     36%      Default |\n",
      "|                                         |                        |                  N/A |\n",
      "+-----------------------------------------+------------------------+----------------------+\n",
      "                                                                                         \n",
      "+-----------------------------------------------------------------------------------------+\n",
      "| Processes:                                                                              |\n",
      "|  GPU   GI   CI        PID   Type   Process name                              GPU Memory |\n",
      "|        ID   ID                                                               Usage      |\n",
      "|=========================================================================================|\n",
      "+-----------------------------------------------------------------------------------------+\n"
     ]
    },
    {
     "name": "stderr",
     "output_type": "stream",
     "text": [
      "huggingface/tokenizers: The current process just got forked, after parallelism has already been used. Disabling parallelism to avoid deadlocks...\n",
      "To disable this warning, you can either:\n",
      "\t- Avoid using `tokenizers` before the fork if possible\n",
      "\t- Explicitly set the environment variable TOKENIZERS_PARALLELISM=(true | false)\n"
     ]
    }
   ],
   "source": [
    "!nvidia-smi"
   ]
  },
  {
   "cell_type": "code",
   "execution_count": null,
   "id": "47fb4e07-e6d5-4bde-8c58-89f5e6c4d746",
   "metadata": {},
   "outputs": [],
   "source": []
  }
 ],
 "metadata": {
  "kernelspec": {
   "display_name": "Python 3",
   "language": "python",
   "name": "python3"
  },
  "language_info": {
   "codemirror_mode": {
    "name": "ipython",
    "version": 3
   },
   "file_extension": ".py",
   "mimetype": "text/x-python",
   "name": "python",
   "nbconvert_exporter": "python",
   "pygments_lexer": "ipython3",
   "version": "3.11.0"
  }
 },
 "nbformat": 4,
 "nbformat_minor": 5
}
