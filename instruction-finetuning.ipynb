{
 "cells": [
  {
   "cell_type": "markdown",
   "id": "28506e0e-b778-4803-84b1-4c859d2741fd",
   "metadata": {},
   "source": [
    "# Instruction Finetuning"
   ]
  },
  {
   "cell_type": "markdown",
   "id": "623ba5b8-af16-438d-b3f3-709b65f6ac96",
   "metadata": {},
   "source": [
    "In this notebook, we will look into how to perform instruction finetuning. We will be doing full finetuning, i.e., retraining all the paramters of the model."
   ]
  },
  {
   "cell_type": "markdown",
   "id": "b098e055-a939-4da7-879e-85849982cdcb",
   "metadata": {},
   "source": [
    "Load the required libraries"
   ]
  },
  {
   "cell_type": "code",
   "execution_count": 1,
   "id": "aa4f923a",
   "metadata": {},
   "outputs": [
    {
     "name": "stdout",
     "output_type": "stream",
     "text": [
      "2.7.1+cu118\n",
      "CUDA available: True\n",
      "CUDA version: 11.8\n",
      "Device name: NVIDIA GeForce RTX 3070 Laptop GPU\n"
     ]
    }
   ],
   "source": [
    "import os \n",
    "os.environ[\"PYTORCH_CUDA_ALLOC_CONF\"] = \"expandable_segments:True\"\n",
    "import torch\n",
    "print(torch.__version__)\n",
    "print(\"CUDA available:\", torch.cuda.is_available())\n",
    "print(\"CUDA version:\", torch.version.cuda)\n",
    "print(\"Device name:\", torch.cuda.get_device_name(0) if torch.cuda.is_available() else \"CPU only\")\n"
   ]
  },
  {
   "cell_type": "code",
   "execution_count": 2,
   "id": "75d154b8-9996-40fa-ad02-f8f6c26e9567",
   "metadata": {},
   "outputs": [
    {
     "name": "stderr",
     "output_type": "stream",
     "text": [
      "d:\\GENERATIVE_AI\\XX.Finetuning_LLMs\\mar_12_2025_revised_code\\.venv\\Lib\\site-packages\\tqdm\\auto.py:21: TqdmWarning: IProgress not found. Please update jupyter and ipywidgets. See https://ipywidgets.readthedocs.io/en/stable/user_install.html\n",
      "  from .autonotebook import tqdm as notebook_tqdm\n"
     ]
    }
   ],
   "source": [
    "import os\n",
    "#os.environ[\"WANDB_PROJECT\"]=\"tinyllama_instruct_finetuning\"\n",
    "\n",
    "from dotenv import load_dotenv\n",
    "load_dotenv()\n",
    "os.environ[\"HF_TOKEN\"] = os.getenv(\"HF_TOKEN\")\n",
    "\n",
    "\n",
    "from enum import Enum\n",
    "from functools import partial\n",
    "import pandas as pd\n",
    "import torch\n",
    "\n",
    "from transformers import AutoModelForCausalLM, AutoTokenizer, TrainingArguments\n",
    "from datasets import load_dataset\n",
    "from trl import SFTTrainer"
   ]
  },
  {
   "cell_type": "markdown",
   "id": "991163c6-29f3-496e-b71c-f4329ec25df1",
   "metadata": {},
   "source": [
    "## Data preprocessing: Creating Datasets and Dataloaders"
   ]
  },
  {
   "cell_type": "code",
   "execution_count": 3,
   "id": "e2860501-5408-4f52-b193-666a3b1782f5",
   "metadata": {},
   "outputs": [],
   "source": [
    "model_name = \"TinyLlama/TinyLlama-1.1B-intermediate-step-1195k-token-2.5T\"\n",
    "dataset_name = \"HuggingFaceH4/no_robots\"\n",
    "tokenizer = AutoTokenizer.from_pretrained(model_name)\n",
    "template = \"\"\"{% for message in messages %}\\n{{'<|im_start|>' + message['role'] + '\\n' + message['content'] + '<|im_end|>' + '\\n'}}{% if loop.last and add_generation_prompt %}{{'<|im_start|>assistant\\n' }}{% endif %}{% endfor %}\"\"\"\n",
    "tokenizer.chat_template = template"
   ]
  },
  {
   "cell_type": "code",
   "execution_count": 4,
   "id": "4cb80dee-0813-4439-beb2-5f8977ce898c",
   "metadata": {},
   "outputs": [],
   "source": [
    "def preprocess(samples):\n",
    "    batch = []\n",
    "    for conversation in samples[\"messages\"]:\n",
    "        batch.append(tokenizer.apply_chat_template(conversation, tokenize=False))\n",
    "    return {\"content\": batch}\n",
    "\n",
    "dataset = load_dataset(dataset_name)"
   ]
  },
  {
   "cell_type": "code",
   "execution_count": 5,
   "id": "14639de1-7535-4887-84f0-b62440decb3c",
   "metadata": {},
   "outputs": [
    {
     "data": {
      "text/plain": [
       "DatasetDict({\n",
       "    train: Dataset({\n",
       "        features: ['prompt', 'prompt_id', 'messages', 'category'],\n",
       "        num_rows: 9500\n",
       "    })\n",
       "    test: Dataset({\n",
       "        features: ['prompt', 'prompt_id', 'messages', 'category'],\n",
       "        num_rows: 500\n",
       "    })\n",
       "})"
      ]
     },
     "execution_count": 5,
     "metadata": {},
     "output_type": "execute_result"
    }
   ],
   "source": [
    "dataset"
   ]
  },
  {
   "cell_type": "code",
   "execution_count": 6,
   "id": "5ede747a-bb87-4354-8295-d615d653c862",
   "metadata": {},
   "outputs": [
    {
     "name": "stdout",
     "output_type": "stream",
     "text": [
      "DatasetDict({\n",
      "    train: Dataset({\n",
      "        features: ['content'],\n",
      "        num_rows: 9500\n",
      "    })\n",
      "    test: Dataset({\n",
      "        features: ['content'],\n",
      "        num_rows: 500\n",
      "    })\n",
      "})\n"
     ]
    }
   ],
   "source": [
    "dataset = dataset.map(\n",
    "    preprocess,\n",
    "    batched=True,\n",
    "    remove_columns=dataset[\"train\"].column_names\n",
    ")\n",
    "print(dataset)"
   ]
  },
  {
   "cell_type": "code",
   "execution_count": 7,
   "id": "28b27033-ba17-4c85-986d-9cbef9262497",
   "metadata": {
    "scrolled": true
   },
   "outputs": [
    {
     "name": "stdout",
     "output_type": "stream",
     "text": [
      "DatasetDict({\n",
      "    train: Dataset({\n",
      "        features: ['content'],\n",
      "        num_rows: 9500\n",
      "    })\n",
      "    test: Dataset({\n",
      "        features: ['content'],\n",
      "        num_rows: 500\n",
      "    })\n",
      "})\n",
      "{'content': '<|im_start|>user\\nPlease summarize the goals for scientists in this text:\\n\\nWithin three days, the intertwined cup nest of grasses was complete, featuring a canopy of overhanging grasses to conceal it. And decades later, it served as Rinkert’s portal to the past inside the California Academy of Sciences. Information gleaned from such nests, woven long ago from species in plant communities called transitional habitat, could help restore the shoreline in the future. Transitional habitat has nearly disappeared from the San Francisco Bay, and scientists need a clearer picture of its original species composition—which was never properly documented. With that insight, conservation research groups like the San Francisco Bay Bird Observatory can help guide best practices when restoring the native habitat that has long served as critical refuge for imperiled birds and animals as adjacent marshes flood more with rising sea levels. “We can’t ask restoration ecologists to plant nonnative species or to just take their best guess and throw things out there,” says Rinkert.<|im_end|>\\n<|im_start|>assistant\\nScientists are studying nests hoping to learn about transitional habitats that could help restore the shoreline of San Francisco Bay.<|im_end|>\\n'}\n"
     ]
    }
   ],
   "source": [
    "print(dataset)\n",
    "print(dataset[\"train\"][0])"
   ]
  },
  {
   "cell_type": "code",
   "execution_count": 8,
   "id": "aa818a8d-5f2d-4cb8-9283-78f897f6618a",
   "metadata": {
    "scrolled": true
   },
   "outputs": [
    {
     "data": {
      "text/plain": [
       "{'content': ['<|im_start|>system\\nAster is a chatbot who answers questions with rhymes.<|im_end|>\\n<|im_start|>user\\nWhere did chocolate originate?<|im_end|>\\n<|im_start|>assistant\\nChocolate is 4000 years old/Mexico is where it was first sold<|im_end|>\\n<|im_start|>user\\nWhere was milk chocolate invented?<|im_end|>\\n<|im_start|>assistant\\nSwitzerland was the first to add milk/To make their chocolate smooth as silk<|im_end|>\\n<|im_start|>user\\nWhat are some good desserts that use chocolate?<|im_end|>\\n<|im_start|>assistant\\nPie, tart, cookies, and cake/Chocolate is great to bake<|im_end|>\\n',\n",
       "  \"<|im_start|>user\\nWhat are 5 things I can do when it's raining in London? I am visiting for the first time and only for a week with my husband. We love to walk, eat good food, and explore.<|im_end|>\\n<|im_start|>assistant\\nSure! Here are five options for things to do in London on a rainy day:\\n\\n1. Visit The British Museum. Dedicated to human history, art and culture, The British Museum has over 8 million permanent objects in its collection and is spread over multiple floors and wings of its impressive Bloomsbury building. From its extensive collection of Egyptian mummies to the Rosetta Stone, there are numerous exhibitions to capture your imagination. The museum is free to enjoy, though runs separately ticketed exhibitions throughout the year, as well. \\n\\n2. Explore Spitalfields Market. Since the 17th century, traders have been operating out of this East London market selling food, art, antiques, jewellery, and so much more. Today, the covered market is a hot destination for fashion and food enthusiasts with numerous stalls and shops open every day of the week. On the weekends, the market hosts various community events including pop-up music festivals. \\n\\n3. Shop at Westfield London. Located in West London, Westfield London is an enormous shopping centre hosting roughly 320 stores and restaurants spread over 2.5 million square feet, including the high-end retail sector named The Village. In addition to a wide selection of food and shopping, there are multiple activity options including miniature golf, rock climbing, and a cinema. \\n\\n4. Visit the Barbican Centre. The Barbican Centre is a large performing arts centre in the City of London nestled in the impressive Barbican Estate, which is an impressive example of Brutalist architecture. The centre is home to both the London Symphony Orchestra and the BBC Symphony Orchestra, in addition to hosting multiple theatre performances, film screenings, and additional concerts. The public are also welcome to enjoy its library, dine in one of its three restaurants, or explore its vast indoor conservatory. \\n\\n5. Explore the Battersea Power Station. The Grade-II listed Battersea Power Station, which sits on the south bank of the Thames just west of Westminster, was recently refurbished and reopened as a shopping and leisure destination. Inside the building, there are various shops, eateries, and bard including Control Room B: a cocktail bar nestled within the original dials and controls of the power station. If there's a break in the rainy weather, the riverfront of the power station is lined with additional food stalls, and Battersea Park is a short five-minute walk away down the bank of the Thames. If the rain stays all day, though, there are plenty of activities sheltered by the power station including miniature gold, ping pong, and a cinema. \\n\\nWhether it's rain or shine, London has an endless supply of activities, sights, and eateries to ensure you have an unforgettable trip. <|im_end|>\\n\",\n",
       "  '<|im_start|>user\\nWrite several rhyming sentences from the perspective of Jay the RA, a resident assistant at The University of Glee. He\\'s introducing himself and the college.<|im_end|>\\n<|im_start|>assistant\\nHey! I\\'m Jay, the RA! I\\'ll be your assistant at the University of Glee today. Here at UG, you\\'ll find so many ways to learn and play. We\\'re all about fun here, so hip hip hooray!\\nThere are so many things about the UG that I love to say. It\\'s got a beautiful campus, it\\'s so green, and they give back to the community in every way.\\n\\nIn our dorms, you\\'ll find so many amazing places to stay. Choose an amazing major like Philosophy, Art, or Social Studies, they\\'re all great in their own way!\\nAnd if you\\'re not exactly sure what you want to do yet, that is totally okay! You can select \"Undecided\", or if you have to choose something, just say \"N/A\"!\\n\\nI hope that you\\'ll have an amazing time at the U of G today. More onboarding and information fairs are just that way!\\nAnd hey, if you feel a little overwhelmed, it\\'s okay. We provide lots of time for enrollment, so you\\'ve got until May!<|im_end|>\\n',\n",
       "  '<|im_start|>user\\nWhat other strange and obscure music genres can I check out?<|im_end|>\\n<|im_start|>assistant\\nHere are some more obscure music genres to listen to:\\n\\n1. The music genre known as pirate metal is a unique blend of heavy metal and sea shanties, accompanied by folk instruments like the concertina. Despite the unusual mix, bands such as Alestorm have found success in this genre and have a dedicated following.\\n2. Math rock is an indie rock style that utilizes complex time signatures and unusual meters. The genre emerged in the 1980s and peaked in the mid-1990s. Today, similar techniques have been adapted to pop music, resulting in the creation of the genre known as \"math pop.\"\\n3. Steven Roden created the minimalist ambient music genre called \"lowercase\" in 2001 by manipulating and amplifying sounds made from handling paper. The genre is characterized by its quiet and unobtrusive nature and gained attention following the release of the compilation album \"Lowercase-Sound\" in 2002. Roden\\'s track \"Bell Is The Truth (Berlin)\" exemplifies the beauty of the genre, created by tapping light bulbs in total darkness to produce bell-like sounds.\\n4. Witch House is a genre that doesn\\'t have any resemblance to house music, despite the name. It was coined by Travis Egedy (aka, Pictureplane) and features slow tempo, chopped and screwed songs with elements of goth, shoegaze, hip-hop, drone, noise, and industrial. Other artists, such as Clams Casino, Holy Other, and Zola Jesus, have also incorporated Witch House elements into their music. Though the genre burned out after a few years, it remains captivating.\\n5. Skweee is a genre of mostly instrumental music that originated in Sweden and Finland, combining synth leads and basslines with funk and soul rhythms. Its name reflects the idea of squeezing out the grooviest sound possible. Skweee was also a major influence on dubstep during 2008-2009.<|im_end|>\\n',\n",
       "  '<|im_start|>user\\nWrite one paragraph about the Tlachihualtepetl pyramid. Keep it at or below 15 sentences. Include its size and when it was built. Also, include any aspects of worship it had. Include aspects of its more recent history, too. Name at least one specific year. <|im_end|>\\n<|im_start|>assistant\\nWhen people hear the word \"pyramid,\" they often think of Egypt. However, the world\\'s largest pyramid is in Cholula, Mexico. Tlachihualtepetl, also called the Great Pyramid of Cholula, is 217 feet (66 meters) tall and its base is 1,476 by 1,1476 feet (450 by 450 meters). Its total volume is 157 million cubic feet. Due to its size, it took centuries to build. It was worked on several different times between 300 BC and 700 AD. There was a temple above it to worship Quetzalcoatl - the Aztec god of learning and books. However, the temple was abandoned around the 8th or 9th century AD. Over time, it became covered with vegetation. As a result, it blended in and Spaniards first mistook it for a hill when they conquered Mexico in 1521. They replaced the temple with a church and the pyramid stayed hidden until the 1930s when the earth started to erode. Archeologists have excavated and studied many parts of the pyramid since then, including the altars. It has also become a tourist attraction since then. Thousands of people visit Tlachihualtepetl each year. <|im_end|>\\n',\n",
       "  \"<|im_start|>system\\nCherry is a chatbot that is very sweet and kind.<|im_end|>\\n<|im_start|>user\\nIt's my birthday tomorrow!<|im_end|>\\n<|im_start|>assistant\\nHappy Birthday (a day early)! That's exciting! Do you have any plans for celebrating it? How old will you be?<|im_end|>\\n<|im_start|>user\\nI'm turning 30. I'm going to dinner with some friends and then seeing a movie at the theatre.<|im_end|>\\n<|im_start|>assistant\\nHow fun! What movie are you going to see?<|im_end|>\\n<|im_start|>user\\nThe new Scream movie. It looks really good!<|im_end|>\\n<|im_start|>assistant\\nCool! You're a horror fan? What other horror movies do you like?<|im_end|>\\n\",\n",
       "  '<|im_start|>user\\nRewrite this like it\\'s a personal letter from Tina Turner to a friend explaining her early solo career. \\n\\nIn 1976 and 1977, Turner earned income by appearing on TV shows such as The Hollywood Squares, Donny & Marie, The Sonny & Cher Show, and The Brady Bunch Hour.[108] After her separation from Ike, lawsuits were mounting for canceled Ike & Tina Turner gigs.[109][110] Turner resumed touring to pay off her debts with finances given to her by United Artists executive Mike Stewart.[111] In 1977, Turner re-emerged with a sexier image and costumes created by Bob Mackie.[112] She headlined a series of cabaret shows at Caesars Palace in Las Vegas and took her act to smaller venues in the United States.[113] Later that year, she embarked on her first solo concert tour in Australia.[114]\\n\\nIn 1978, Turner released her third solo album, Rough, on United Artists with distribution in North America and Europe on EMI. That album, along with its 1979 follow-up, Love Explosion, which included a brief diversion to disco music, failed to chart, so United Artists Records and Turner parted ways.[115] Without the premise of a hit record, she continued performing and headlined her second tour.[116]\\n\\nIn 1979, Australian manager Roger Davies agreed to manage Turner after seeing her perform at the Fairmont Hotel in San Francisco.[117] In early 1979, Turner worked in Italy as a regular performer on the Rete 1 TV series Luna Park, hosted by Pippo Baudo and Heather Parisi.[118] Later that year, she embarked on a controversial five-week tour of South Africa during the apartheid regime.[119] She later regretted the decision, stating that she was \"naive about the politics in South Africa\" at the time.[120]\\n\\nIn October 1981, Rod Stewart attended Turner\\'s show at the Ritz in New York City and invited her to perform \"Hot Legs\" with him on Saturday Night Live.[121] In November, Turner opened for the Rolling Stones during their 1981 American Tour.[122] Turner performed in March 1982 in the Willem Ruis show (Netherlands), which resulted in the hit \"Shame, Shame, Shame\" (reaching No. 47 in the Netherlands). In 1982 Turner\\'s recording of the Temptations\\' \"Ball of Confusion\" for the UK production team B.E.F. became a hit in European dance clubs.[123] In 1982, Turner also appeared on the album Music of Quality and Distinction Volume 1 by B.E.F., a side project of Heaven 17, singing \"Ball of Confusion\". She filmed a music video for \"Ball of Confusion\" that aired on the fledgling music video channel MTV, becoming one of the first black American artists to gain airtime on the channel.[124] Also in 1982, Turner appeared as a special guest on Chuck Berry\\'s television special performed at The Roxy in West Hollywood.[125]\\n\\nIn 1976 and 1977, Turner earned income by appearing on TV shows such as The Hollywood Squares, Donny & Marie, The Sonny & Cher Show, and The Brady Bunch Hour.[108] After her separation from Ike, lawsuits were mounting for canceled Ike & Tina Turner gigs.[109][110] Turner resumed touring to pay off her debts with finances given to her by United Artists executive Mike Stewart.[111] In 1977, Turner re-emerged with a sexier image and costumes created by Bob Mackie.[112] She headlined a series of cabaret shows at Caesars Palace in Las Vegas and took her act to smaller venues in the United States.[113] Later that year, she embarked on her first solo concert tour in Australia.[114]\\n\\nIn 1978, Turner released her third solo album, Rough, on United Artists with distribution in North America and Europe on EMI. That album, along with its 1979 follow-up, Love Explosion, which included a brief diversion to disco music, failed to chart, so United Artists Records and Turner parted ways.[115] Without the premise of a hit record, she continued performing and headlined her second tour.[116]\\n\\nIn 1979, Australian manager Roger Davies agreed to manage Turner after seeing her perform at the Fairmont Hotel in San Francisco.[117] In early 1979, Turner worked in Italy as a regular performer on the Rete 1 TV series Luna Park, hosted by Pippo Baudo and Heather Parisi.[118] Later that year, she embarked on a controversial five-week tour of South Africa during the apartheid regime.[119] She later regretted the decision, stating that she was \"naive about the politics in South Africa\" at the time.[120]\\n\\nIn October 1981, Rod Stewart attended Turner\\'s show at the Ritz in New York City and invited her to perform \"Hot Legs\" with him on Saturday Night Live.[121] In November, Turner opened for the Rolling Stones during their 1981 American Tour.[122] Turner performed in March 1982 in the Willem Ruis show (Netherlands), which resulted in the hit \"Shame, Shame, Shame\" (reaching No. 47 in the Netherlands). In 1982 Turner\\'s recording of the Temptations\\' \"Ball of Confusion\" for the UK production team B.E.F. became a hit in European dance clubs.[123] In 1982, Turner also appeared on the album Music of Quality and Distinction Volume 1 by B.E.F., a side project of Heaven 17, singing \"Ball of Confusion\". She filmed a music video for \"Ball of Confusion\" that aired on the fledgling music video channel MTV, becoming one of the first black American artists to gain airtime on the channel.[124] Also in 1982, Turner appeared as a special guest on Chuck Berry\\'s television special performed at The Roxy in West Hollywood.[125]<|im_end|>\\n<|im_start|>assistant\\nDear friend, \\n\\nSo much happened in my early solo career. In 1976, my primary source of income came from TV appearances. You remember those, like The Hollywood Squares, Donny & Marie, The Sonny and Cher Show, and The Brady Bunch Hour? But after I left Ike, I started getting sued for all these gigs that we\\'d had to cancel. I had to resume touring with United Artists just to pay off my debts, but thanks to Bob Mackie I came back sexier than ever in 77! My career really took off, from cabaret shows in Vegas to tours across the US and Australia.  \\n\\nRough, my third solo album, came out in 1978 and was distributed across the U.S. and Europe! And then there was my next album, Love Explosion, which was my exploration into disco. Unfortunately, neither of these performed very well, so I ended up leaving United Artists. I still got to headline another tour, at least.\\n\\nin 1979, I ran into an Australian manager named Roger Davies. After he saw me perform in San Francisco at the Fairmont Hotel, he agreed to be my manager! I was back in the international spotlight, working in Italy on Luna Park and touring in South Africa. That move of mine got a lot of flack, and to tell you the truth, I regret my naivety about the apartheid. \\n\\nFlash forward to October 1981, when Rod Stewart saw me perform in New York City and invited me to perform on Saturday Night Live with him. The next month, I opened for the Rolling Stones on their American Tour. Early the next year, I got to perform on the Willem Ruis show in the Netherlands, and my song \"Shame, Shame, Shame,\" ended up being a hit. My cover of \"Ball of Confusion\" (that I recorded for B.E.F.) was really popular in European dance clubs. I even got to film an MTV music video for that song. I was one of the first black American artists on the channel. I also got to appear on Chuck Berry\\'s television special that year. The rest, as they say, is history!\\n\\nSincerely, \\nTina Turner<|im_end|>\\n',\n",
       "  '<|im_start|>user\\nWho is Dale Chihuly and what type of art does he produce?<|im_end|>\\n<|im_start|>assistant\\nDale Chihuly is a well-known American glassblowing artist. He has decorated the canals of Venice, the Old City in Jerusalem, and the ceiling of the Bellagio in Las Vegas. Chihuly is credited with elevating glassblowing to an art form where it had been previously seen as a craft.<|im_end|>\\n',\n",
       "  \"<|im_start|>user\\nWrite a short text message to a very close friend reminding them that I care about them, and apologize for being bad at keeping in touch.<|im_end|>\\n<|im_start|>assistant\\nHey [friend name], I know it's been a really long time, but I just wanted to reach out and remind you that I really care about you, and I hope everything is going well. I'm sorry for being so bad at keeping in touch lately. Things have just been so hectic :(<|im_end|>\\n\",\n",
       "  \"<|im_start|>user\\nGive me a list of children's story ideas. Give me a title and a brief (1-2 sentence) summary of each story. They should be aimed at kids aged between 10-13 and involve space in some capacity.<|im_end|>\\n<|im_start|>assistant\\n1. Planet 2099: A little girl stows away on a spaceship that leaves on a mission to find another habitable planet.\\n2. Children of the Galaxy: A group of middle schoolers finds a portal across space in the janitor's closet at their school and use it to travel to alien planets all around the galaxy.\\n3. The Liberation of Arcadia: A group of evil scientists from Earth take control of a planet called Arcadia and it's up to two children to save the people and liberate them.\\n4. To Hook a Star: A story about a little boy who lives on the International Space Station with his parents and helps them study the stars.\\n5. Polar Dust: A group of kids from a small, rural town find a crashed alien spaceship that's fully functional and decide to explore space together.\\n6. Moons of Andromeda: A kid goes to sleep the night after visiting a planetarium and dreams that she's an astronaut exploring the Andromeda galaxy and creating new worlds on all the inhabitable planets.\\n7. Snows of Pluto: On a space mission gone wrong, a group of astronauts finds themselves stranded on Pluto and have to create a new world out of nothing but the ice and snow that the planet has to offer.<|im_end|>\\n\"]}"
      ]
     },
     "execution_count": 8,
     "metadata": {},
     "output_type": "execute_result"
    }
   ],
   "source": [
    "dataset[\"test\"][:10]"
   ]
  },
  {
   "cell_type": "markdown",
   "id": "c687b73b-4479-4ff4-9ed9-a0df95e9b40a",
   "metadata": {},
   "source": [
    "## Loading the pretrained model and tokenizer"
   ]
  },
  {
   "cell_type": "code",
   "execution_count": 9,
   "id": "ebc83f34-1c74-45af-a0a0-d2684a014647",
   "metadata": {},
   "outputs": [
    {
     "name": "stderr",
     "output_type": "stream",
     "text": [
      "The new embeddings will be initialized from a multivariate normal distribution that has old embeddings' mean and covariance. As described in this article: https://nlp.stanford.edu/~johnhew/vocab-expansion.html. To disable this, use `mean_resizing=False`\n",
      "The new lm_head weights will be initialized from a multivariate normal distribution that has old embeddings' mean and covariance. As described in this article: https://nlp.stanford.edu/~johnhew/vocab-expansion.html. To disable this, use `mean_resizing=False`\n"
     ]
    },
    {
     "data": {
      "text/plain": [
       "Embedding(32005, 2048)"
      ]
     },
     "execution_count": 9,
     "metadata": {},
     "output_type": "execute_result"
    }
   ],
   "source": [
    "class ChatmlSpecialTokens(str, Enum):\n",
    "    user = \"<|im_start|>user\"\n",
    "    assistant = \"<|im_start|>assistant\"\n",
    "    system = \"<|im_start|>system\"\n",
    "    eos_token = \"<|im_end|>\"\n",
    "    bos_token = \"<s>\"\n",
    "    pad_token = \"<pad>\"\n",
    "\n",
    "    @classmethod\n",
    "    def list(cls):\n",
    "        return [c.value for c in cls]\n",
    "\n",
    "tokenizer = AutoTokenizer.from_pretrained(\n",
    "        model_name,\n",
    "        pad_token=ChatmlSpecialTokens.pad_token.value,\n",
    "        bos_token=ChatmlSpecialTokens.bos_token.value,\n",
    "        eos_token=ChatmlSpecialTokens.eos_token.value,\n",
    "        additional_special_tokens=ChatmlSpecialTokens.list(),\n",
    "        trust_remote_code=True\n",
    "    )\n",
    "tokenizer.chat_template = template\n",
    "model = AutoModelForCausalLM.from_pretrained(model_name)\n",
    "model.resize_token_embeddings(len(tokenizer))"
   ]
  },
  {
   "cell_type": "markdown",
   "id": "a9157a4c-83f0-424c-8942-d528f0ab3d95",
   "metadata": {},
   "source": [
    "## Storing the base model predictions on a subset of 25 samples from eval test"
   ]
  },
  {
   "cell_type": "code",
   "execution_count": 10,
   "id": "c23e3f6c-3b9c-4d20-8289-fd91a00e63f0",
   "metadata": {},
   "outputs": [],
   "source": [
    "tokenizer.padding_side=\"left\"\n",
    "def get_prediction_batched(samples, column_name):\n",
    "    batch = []\n",
    "    for conversation in samples[\"messages\"]:\n",
    "        chatml_gen_prompt = tokenizer.apply_chat_template(conversation[:-1], tokenize=False, add_generation_prompt=True)\n",
    "        batch.append(chatml_gen_prompt)\n",
    "    #text = tokenizer.apply_chat_template(conversation_history, add_generation_prompt=True, tokenize=False)\n",
    "    inputs = tokenizer(batch, return_tensors=\"pt\", padding=True, truncation=True)#, add_special_tokens=False)\n",
    "    inputs = {k: v.to(\"cuda\") for k,v in inputs.items()}\n",
    "    outputs = model.generate(**inputs, \n",
    "                             max_new_tokens=100, \n",
    "                             do_sample=True, \n",
    "                             top_p=0.95, \n",
    "                             temperature=0.2, \n",
    "                             repetition_penalty=1.1, \n",
    "                             eos_token_id=tokenizer.eos_token_id,\n",
    "                             pad_token_id=tokenizer.eos_token_id,\n",
    "                            )\n",
    "    outputs = tokenizer.batch_decode(outputs)\n",
    "    outputs = [output.split(\"<|im_start|>assistant\")[-1].split(\"<|im_end|>\")[0].strip() for output in outputs]\n",
    "    return {column_name: outputs}\n"
   ]
  },
  {
   "cell_type": "code",
   "execution_count": 11,
   "id": "0e683373-e6aa-4847-835f-5fef56d170f0",
   "metadata": {},
   "outputs": [
    {
     "name": "stderr",
     "output_type": "stream",
     "text": [
      "d:\\GENERATIVE_AI\\XX.Finetuning_LLMs\\mar_12_2025_revised_code\\.venv\\Lib\\site-packages\\torch\\nn\\modules\\module.py:1341: UserWarning: expandable_segments not supported on this platform (Triggered internally at C:\\actions-runner\\_work\\pytorch\\pytorch\\pytorch\\c10/cuda/CUDAAllocatorConfig.h:28.)\n",
      "  return t.to(\n",
      "Map:   0%|          | 0/25 [00:00<?, ? examples/s]Asking to truncate to max_length but no maximum length is provided and the model has no predefined maximum length. Default to no truncation.\n",
      "Map: 100%|██████████| 25/25 [01:18<00:00,  3.14s/ examples]"
     ]
    },
    {
     "name": "stdout",
     "output_type": "stream",
     "text": [
      "Dataset({\n",
      "    features: ['prompt', 'prompt_id', 'messages', 'category', 'base_assistant_message'],\n",
      "    num_rows: 25\n",
      "})\n",
      "{'prompt': \"I just moved to New York State's Capital area. I am wondering where the Mohawk and Hudson Rivers come together. Where does that happen?\", 'prompt_id': '9ea362fd9c2b04083756e2c03b02b4d5d334826313b7c36eb45f922068ccdb80', 'messages': [{'content': \"I just moved to New York State's Capital area. I am wondering where the Mohawk and Hudson Rivers come together. Where does that happen?\", 'role': 'user'}, {'content': 'The convergence of the Mohawk River, the former site of the Erie Canal, and the Hudson River happens a few miles north of Albany, New York by a town called Cohoes.', 'role': 'assistant'}], 'category': 'Open QA', 'base_assistant_message': 'Mohawk and Hudson Rivers come together at the confluence of the Hudson River and the Mohawk River in Albany, New York.\\nThe Mohawk and Hudson Rivers meet at the confluence of the Hudson River and the Mohawk River in Albany, New York. The river is a tributary of the Hudson River.\\n\\nHistory\\nThe Mohawk and Hudson Rivers meet at the confluence of the Hudson River and the Moh'}\n"
     ]
    },
    {
     "name": "stderr",
     "output_type": "stream",
     "text": [
      "\n"
     ]
    }
   ],
   "source": [
    "model.half().to(\"cuda\")\n",
    "test_dataset = load_dataset(dataset_name)[\"test\"].shuffle().select(range(25))\n",
    "test_dataset = test_dataset.map(\n",
    "    partial(get_prediction_batched, column_name=\"base_assistant_message\"),\n",
    "    batched=True,\n",
    "    batch_size=1)\n",
    "\n",
    "print(test_dataset)\n",
    "print(test_dataset[0])"
   ]
  },
  {
   "cell_type": "markdown",
   "id": "d8987259-21a6-415d-abcf-7517588b60da",
   "metadata": {},
   "source": [
    "## Training"
   ]
  },
  {
   "cell_type": "code",
   "execution_count": 17,
   "id": "a78c590d-16cb-4edc-9aab-30b8137a2989",
   "metadata": {},
   "outputs": [
    {
     "name": "stderr",
     "output_type": "stream",
     "text": [
      "d:\\GENERATIVE_AI\\XX.Finetuning_LLMs\\mar_12_2025_revised_code\\.venv\\Lib\\site-packages\\transformers\\training_args.py:1575: FutureWarning: `evaluation_strategy` is deprecated and will be removed in version 4.46 of 🤗 Transformers. Use `eval_strategy` instead\n",
      "  warnings.warn(\n"
     ]
    }
   ],
   "source": [
    "output_dir = \"tinyllama_instruct\"\n",
    "per_device_train_batch_size = 1\n",
    "per_device_eval_batch_size = 1\n",
    "gradient_accumulation_steps = 8\n",
    "logging_steps = 25\n",
    "learning_rate = 2e-5\n",
    "max_grad_norm = 1.0\n",
    "max_steps = 250\n",
    "num_train_epochs=1\n",
    "warmup_ratio = 0.1\n",
    "lr_scheduler_type = \"cosine\"\n",
    "max_seq_length = 128\n",
    "\n",
    "training_arguments = TrainingArguments(\n",
    "    output_dir=output_dir,\n",
    "    per_device_train_batch_size=per_device_train_batch_size,\n",
    "    per_device_eval_batch_size=per_device_eval_batch_size,\n",
    "    gradient_accumulation_steps=gradient_accumulation_steps,\n",
    "    save_strategy=\"no\",\n",
    "    evaluation_strategy=\"no\",\n",
    "    logging_steps=logging_steps,\n",
    "    learning_rate=learning_rate,\n",
    "    max_grad_norm=max_grad_norm,\n",
    "    weight_decay=0.1,\n",
    "    optim=\"adamw_bnb_8bit\",\n",
    "    warmup_ratio=warmup_ratio,\n",
    "    lr_scheduler_type=lr_scheduler_type,\n",
    "    fp16=False,\n",
    "    bf16=True,\n",
    "    report_to=[\"tensorboard\"],\n",
    "    hub_private_repo=True,\n",
    "    push_to_hub=True,\n",
    "    num_train_epochs=num_train_epochs,\n",
    "    gradient_checkpointing=True,\n",
    "    gradient_checkpointing_kwargs={\"use_reentrant\": False}\n",
    ")\n"
   ]
  },
  {
   "cell_type": "code",
   "execution_count": 18,
   "id": "b788fb0e-6160-492b-8bb9-2451df1c49c3",
   "metadata": {},
   "outputs": [
    {
     "ename": "ValueError",
     "evalue": "Original column names {'content'} not in the dataset. Current columns in the dataset: ['text']",
     "output_type": "error",
     "traceback": [
      "\u001b[31m---------------------------------------------------------------------------\u001b[39m",
      "\u001b[31mValueError\u001b[39m                                Traceback (most recent call last)",
      "\u001b[36mCell\u001b[39m\u001b[36m \u001b[39m\u001b[32mIn[18]\u001b[39m\u001b[32m, line 4\u001b[39m\n\u001b[32m      1\u001b[39m \u001b[38;5;28;01mfrom\u001b[39;00m\u001b[38;5;250m \u001b[39m\u001b[34;01mdatasets\u001b[39;00m\u001b[38;5;250m \u001b[39m\u001b[38;5;28;01mimport\u001b[39;00m DatasetDict\n\u001b[32m      3\u001b[39m \u001b[38;5;66;03m# Assuming `dataset` is your DatasetDict\u001b[39;00m\n\u001b[32m----> \u001b[39m\u001b[32m4\u001b[39m dataset = \u001b[43mdataset\u001b[49m\u001b[43m.\u001b[49m\u001b[43mrename_columns\u001b[49m\u001b[43m(\u001b[49m\u001b[43m{\u001b[49m\u001b[33;43m\"\u001b[39;49m\u001b[33;43mcontent\u001b[39;49m\u001b[33;43m\"\u001b[39;49m\u001b[43m:\u001b[49m\u001b[43m \u001b[49m\u001b[33;43m\"\u001b[39;49m\u001b[33;43mtext\u001b[39;49m\u001b[33;43m\"\u001b[39;49m\u001b[43m}\u001b[49m\u001b[43m)\u001b[49m\n\u001b[32m      6\u001b[39m \u001b[38;5;66;03m# Verify the change\u001b[39;00m\n\u001b[32m      7\u001b[39m \u001b[38;5;28mprint\u001b[39m(dataset)\n",
      "\u001b[36mFile \u001b[39m\u001b[32md:\\GENERATIVE_AI\\XX.Finetuning_LLMs\\mar_12_2025_revised_code\\.venv\\Lib\\site-packages\\datasets\\dataset_dict.py:447\u001b[39m, in \u001b[36mDatasetDict.rename_columns\u001b[39m\u001b[34m(self, column_mapping)\u001b[39m\n\u001b[32m    412\u001b[39m \u001b[38;5;250m\u001b[39m\u001b[33;03m\"\"\"\u001b[39;00m\n\u001b[32m    413\u001b[39m \u001b[33;03mRename several columns in the dataset, and move the features associated to the original columns under\u001b[39;00m\n\u001b[32m    414\u001b[39m \u001b[33;03mthe new column names.\u001b[39;00m\n\u001b[32m   (...)\u001b[39m\u001b[32m    444\u001b[39m \u001b[33;03m```\u001b[39;00m\n\u001b[32m    445\u001b[39m \u001b[33;03m\"\"\"\u001b[39;00m\n\u001b[32m    446\u001b[39m \u001b[38;5;28mself\u001b[39m._check_values_type()\n\u001b[32m--> \u001b[39m\u001b[32m447\u001b[39m \u001b[38;5;28;01mreturn\u001b[39;00m DatasetDict(\u001b[43m{\u001b[49m\u001b[43mk\u001b[49m\u001b[43m:\u001b[49m\u001b[43m \u001b[49m\u001b[43mdataset\u001b[49m\u001b[43m.\u001b[49m\u001b[43mrename_columns\u001b[49m\u001b[43m(\u001b[49m\u001b[43mcolumn_mapping\u001b[49m\u001b[43m=\u001b[49m\u001b[43mcolumn_mapping\u001b[49m\u001b[43m)\u001b[49m\u001b[43m \u001b[49m\u001b[38;5;28;43;01mfor\u001b[39;49;00m\u001b[43m \u001b[49m\u001b[43mk\u001b[49m\u001b[43m,\u001b[49m\u001b[43m \u001b[49m\u001b[43mdataset\u001b[49m\u001b[43m \u001b[49m\u001b[38;5;129;43;01min\u001b[39;49;00m\u001b[43m \u001b[49m\u001b[38;5;28;43mself\u001b[39;49m\u001b[43m.\u001b[49m\u001b[43mitems\u001b[49m\u001b[43m(\u001b[49m\u001b[43m)\u001b[49m\u001b[43m}\u001b[49m)\n",
      "\u001b[36mFile \u001b[39m\u001b[32md:\\GENERATIVE_AI\\XX.Finetuning_LLMs\\mar_12_2025_revised_code\\.venv\\Lib\\site-packages\\datasets\\dataset_dict.py:447\u001b[39m, in \u001b[36m<dictcomp>\u001b[39m\u001b[34m(.0)\u001b[39m\n\u001b[32m    412\u001b[39m \u001b[38;5;250m\u001b[39m\u001b[33;03m\"\"\"\u001b[39;00m\n\u001b[32m    413\u001b[39m \u001b[33;03mRename several columns in the dataset, and move the features associated to the original columns under\u001b[39;00m\n\u001b[32m    414\u001b[39m \u001b[33;03mthe new column names.\u001b[39;00m\n\u001b[32m   (...)\u001b[39m\u001b[32m    444\u001b[39m \u001b[33;03m```\u001b[39;00m\n\u001b[32m    445\u001b[39m \u001b[33;03m\"\"\"\u001b[39;00m\n\u001b[32m    446\u001b[39m \u001b[38;5;28mself\u001b[39m._check_values_type()\n\u001b[32m--> \u001b[39m\u001b[32m447\u001b[39m \u001b[38;5;28;01mreturn\u001b[39;00m DatasetDict({k: \u001b[43mdataset\u001b[49m\u001b[43m.\u001b[49m\u001b[43mrename_columns\u001b[49m\u001b[43m(\u001b[49m\u001b[43mcolumn_mapping\u001b[49m\u001b[43m=\u001b[49m\u001b[43mcolumn_mapping\u001b[49m\u001b[43m)\u001b[49m \u001b[38;5;28;01mfor\u001b[39;00m k, dataset \u001b[38;5;129;01min\u001b[39;00m \u001b[38;5;28mself\u001b[39m.items()})\n",
      "\u001b[36mFile \u001b[39m\u001b[32md:\\GENERATIVE_AI\\XX.Finetuning_LLMs\\mar_12_2025_revised_code\\.venv\\Lib\\site-packages\\datasets\\fingerprint.py:442\u001b[39m, in \u001b[36mfingerprint_transform.<locals>._fingerprint.<locals>.wrapper\u001b[39m\u001b[34m(*args, **kwargs)\u001b[39m\n\u001b[32m    438\u001b[39m             validate_fingerprint(kwargs[fingerprint_name])\n\u001b[32m    440\u001b[39m \u001b[38;5;66;03m# Call actual function\u001b[39;00m\n\u001b[32m--> \u001b[39m\u001b[32m442\u001b[39m out = \u001b[43mfunc\u001b[49m\u001b[43m(\u001b[49m\u001b[43mdataset\u001b[49m\u001b[43m,\u001b[49m\u001b[43m \u001b[49m\u001b[43m*\u001b[49m\u001b[43margs\u001b[49m\u001b[43m,\u001b[49m\u001b[43m \u001b[49m\u001b[43m*\u001b[49m\u001b[43m*\u001b[49m\u001b[43mkwargs\u001b[49m\u001b[43m)\u001b[49m\n\u001b[32m    444\u001b[39m \u001b[38;5;66;03m# Update fingerprint of in-place transforms + update in-place history of transforms\u001b[39;00m\n\u001b[32m    446\u001b[39m \u001b[38;5;28;01mif\u001b[39;00m inplace:  \u001b[38;5;66;03m# update after calling func so that the fingerprint doesn't change if the function fails\u001b[39;00m\n",
      "\u001b[36mFile \u001b[39m\u001b[32md:\\GENERATIVE_AI\\XX.Finetuning_LLMs\\mar_12_2025_revised_code\\.venv\\Lib\\site-packages\\datasets\\arrow_dataset.py:2277\u001b[39m, in \u001b[36mDataset.rename_columns\u001b[39m\u001b[34m(self, column_mapping, new_fingerprint)\u001b[39m\n\u001b[32m   2275\u001b[39m extra_columns = \u001b[38;5;28mset\u001b[39m(column_mapping.keys()) - \u001b[38;5;28mset\u001b[39m(dataset.column_names)\n\u001b[32m   2276\u001b[39m \u001b[38;5;28;01mif\u001b[39;00m extra_columns:\n\u001b[32m-> \u001b[39m\u001b[32m2277\u001b[39m     \u001b[38;5;28;01mraise\u001b[39;00m \u001b[38;5;167;01mValueError\u001b[39;00m(\n\u001b[32m   2278\u001b[39m         \u001b[33mf\u001b[39m\u001b[33m\"\u001b[39m\u001b[33mOriginal column names \u001b[39m\u001b[38;5;132;01m{\u001b[39;00mextra_columns\u001b[38;5;132;01m}\u001b[39;00m\u001b[33m not in the dataset. \u001b[39m\u001b[33m\"\u001b[39m\n\u001b[32m   2279\u001b[39m         \u001b[33mf\u001b[39m\u001b[33m\"\u001b[39m\u001b[33mCurrent columns in the dataset: \u001b[39m\u001b[38;5;132;01m{\u001b[39;00mdataset._data.column_names\u001b[38;5;132;01m}\u001b[39;00m\u001b[33m\"\u001b[39m\n\u001b[32m   2280\u001b[39m     )\n\u001b[32m   2282\u001b[39m number_of_duplicates_in_new_columns = \u001b[38;5;28mlen\u001b[39m(column_mapping.values()) - \u001b[38;5;28mlen\u001b[39m(\u001b[38;5;28mset\u001b[39m(column_mapping.values()))\n\u001b[32m   2283\u001b[39m \u001b[38;5;28;01mif\u001b[39;00m number_of_duplicates_in_new_columns != \u001b[32m0\u001b[39m:\n",
      "\u001b[31mValueError\u001b[39m: Original column names {'content'} not in the dataset. Current columns in the dataset: ['text']"
     ]
    }
   ],
   "source": [
    "from datasets import DatasetDict\n",
    "\n",
    "# Assuming `dataset` is your DatasetDict\n",
    "dataset = dataset.rename_columns({\"content\": \"text\"})\n",
    "\n",
    "# Verify the change\n",
    "print(dataset)"
   ]
  },
  {
   "cell_type": "code",
   "execution_count": 19,
   "id": "bc6ece17-0db8-41a6-98f9-3b2616b5852f",
   "metadata": {},
   "outputs": [
    {
     "name": "stderr",
     "output_type": "stream",
     "text": [
      "C:\\Users\\Shariq\\AppData\\Local\\Temp\\ipykernel_22416\\33760106.py:1: FutureWarning: `tokenizer` is deprecated and removed starting from version 0.16.0 for `SFTTrainer.__init__`. Use `processing_class` instead.\n",
      "  trainer = SFTTrainer(\n",
      "Applying chat template to eval dataset: 100%|██████████| 500/500 [00:00<00:00, 16129.46 examples/s]\n",
      "Tokenizing eval dataset: 100%|██████████| 500/500 [00:00<00:00, 1208.16 examples/s]\n",
      "Truncating eval dataset: 100%|██████████| 500/500 [00:00<00:00, 2384.73 examples/s]\n"
     ]
    }
   ],
   "source": [
    "trainer = SFTTrainer(\n",
    "    model=model,\n",
    "    args=training_arguments,\n",
    "    train_dataset=dataset[\"train\"],\n",
    "    eval_dataset=dataset[\"test\"],\n",
    "    tokenizer=tokenizer,\n",
    "    # packing=True,\n",
    "    # dataset_text_field=\"content\",\n",
    "    # max_seq_length=max_seq_length,\n",
    ")"
   ]
  },
  {
   "cell_type": "code",
   "execution_count": 20,
   "id": "6bfac33a",
   "metadata": {},
   "outputs": [],
   "source": [
    "import gc\n",
    "gc.collect()\n",
    "torch.cuda.empty_cache()"
   ]
  },
  {
   "cell_type": "code",
   "execution_count": 21,
   "id": "546810f1-4dc1-44b6-b2d7-f91aa7758533",
   "metadata": {},
   "outputs": [
    {
     "data": {
      "text/html": [
       "\n",
       "    <div>\n",
       "      \n",
       "      <progress value='1187' max='1187' style='width:300px; height:20px; vertical-align: middle;'></progress>\n",
       "      [1187/1187 45:23, Epoch 0/1]\n",
       "    </div>\n",
       "    <table border=\"1\" class=\"dataframe\">\n",
       "  <thead>\n",
       " <tr style=\"text-align: left;\">\n",
       "      <th>Step</th>\n",
       "      <th>Training Loss</th>\n",
       "    </tr>\n",
       "  </thead>\n",
       "  <tbody>\n",
       "    <tr>\n",
       "      <td>25</td>\n",
       "      <td>2.393000</td>\n",
       "    </tr>\n",
       "    <tr>\n",
       "      <td>50</td>\n",
       "      <td>2.198100</td>\n",
       "    </tr>\n",
       "    <tr>\n",
       "      <td>75</td>\n",
       "      <td>2.140100</td>\n",
       "    </tr>\n",
       "    <tr>\n",
       "      <td>100</td>\n",
       "      <td>2.115600</td>\n",
       "    </tr>\n",
       "    <tr>\n",
       "      <td>125</td>\n",
       "      <td>2.049800</td>\n",
       "    </tr>\n",
       "    <tr>\n",
       "      <td>150</td>\n",
       "      <td>2.032600</td>\n",
       "    </tr>\n",
       "    <tr>\n",
       "      <td>175</td>\n",
       "      <td>2.019400</td>\n",
       "    </tr>\n",
       "    <tr>\n",
       "      <td>200</td>\n",
       "      <td>2.018500</td>\n",
       "    </tr>\n",
       "    <tr>\n",
       "      <td>225</td>\n",
       "      <td>1.952400</td>\n",
       "    </tr>\n",
       "    <tr>\n",
       "      <td>250</td>\n",
       "      <td>1.962900</td>\n",
       "    </tr>\n",
       "    <tr>\n",
       "      <td>275</td>\n",
       "      <td>1.942500</td>\n",
       "    </tr>\n",
       "    <tr>\n",
       "      <td>300</td>\n",
       "      <td>1.879800</td>\n",
       "    </tr>\n",
       "    <tr>\n",
       "      <td>325</td>\n",
       "      <td>1.843800</td>\n",
       "    </tr>\n",
       "    <tr>\n",
       "      <td>350</td>\n",
       "      <td>1.874300</td>\n",
       "    </tr>\n",
       "    <tr>\n",
       "      <td>375</td>\n",
       "      <td>1.898900</td>\n",
       "    </tr>\n",
       "    <tr>\n",
       "      <td>400</td>\n",
       "      <td>1.769400</td>\n",
       "    </tr>\n",
       "    <tr>\n",
       "      <td>425</td>\n",
       "      <td>1.875000</td>\n",
       "    </tr>\n",
       "    <tr>\n",
       "      <td>450</td>\n",
       "      <td>1.942400</td>\n",
       "    </tr>\n",
       "    <tr>\n",
       "      <td>475</td>\n",
       "      <td>1.900700</td>\n",
       "    </tr>\n",
       "    <tr>\n",
       "      <td>500</td>\n",
       "      <td>1.912000</td>\n",
       "    </tr>\n",
       "    <tr>\n",
       "      <td>525</td>\n",
       "      <td>1.909500</td>\n",
       "    </tr>\n",
       "    <tr>\n",
       "      <td>550</td>\n",
       "      <td>1.958100</td>\n",
       "    </tr>\n",
       "    <tr>\n",
       "      <td>575</td>\n",
       "      <td>1.840100</td>\n",
       "    </tr>\n",
       "    <tr>\n",
       "      <td>600</td>\n",
       "      <td>1.841800</td>\n",
       "    </tr>\n",
       "    <tr>\n",
       "      <td>625</td>\n",
       "      <td>1.871700</td>\n",
       "    </tr>\n",
       "    <tr>\n",
       "      <td>650</td>\n",
       "      <td>1.859500</td>\n",
       "    </tr>\n",
       "    <tr>\n",
       "      <td>675</td>\n",
       "      <td>1.868200</td>\n",
       "    </tr>\n",
       "    <tr>\n",
       "      <td>700</td>\n",
       "      <td>1.913600</td>\n",
       "    </tr>\n",
       "    <tr>\n",
       "      <td>725</td>\n",
       "      <td>1.822500</td>\n",
       "    </tr>\n",
       "    <tr>\n",
       "      <td>750</td>\n",
       "      <td>1.882000</td>\n",
       "    </tr>\n",
       "    <tr>\n",
       "      <td>775</td>\n",
       "      <td>1.792100</td>\n",
       "    </tr>\n",
       "    <tr>\n",
       "      <td>800</td>\n",
       "      <td>1.820500</td>\n",
       "    </tr>\n",
       "    <tr>\n",
       "      <td>825</td>\n",
       "      <td>1.856800</td>\n",
       "    </tr>\n",
       "    <tr>\n",
       "      <td>850</td>\n",
       "      <td>1.855300</td>\n",
       "    </tr>\n",
       "    <tr>\n",
       "      <td>875</td>\n",
       "      <td>1.924000</td>\n",
       "    </tr>\n",
       "    <tr>\n",
       "      <td>900</td>\n",
       "      <td>1.894100</td>\n",
       "    </tr>\n",
       "    <tr>\n",
       "      <td>925</td>\n",
       "      <td>1.803400</td>\n",
       "    </tr>\n",
       "    <tr>\n",
       "      <td>950</td>\n",
       "      <td>1.850300</td>\n",
       "    </tr>\n",
       "    <tr>\n",
       "      <td>975</td>\n",
       "      <td>1.859400</td>\n",
       "    </tr>\n",
       "    <tr>\n",
       "      <td>1000</td>\n",
       "      <td>1.814500</td>\n",
       "    </tr>\n",
       "    <tr>\n",
       "      <td>1025</td>\n",
       "      <td>1.855000</td>\n",
       "    </tr>\n",
       "    <tr>\n",
       "      <td>1050</td>\n",
       "      <td>1.847000</td>\n",
       "    </tr>\n",
       "    <tr>\n",
       "      <td>1075</td>\n",
       "      <td>1.813200</td>\n",
       "    </tr>\n",
       "    <tr>\n",
       "      <td>1100</td>\n",
       "      <td>1.836600</td>\n",
       "    </tr>\n",
       "    <tr>\n",
       "      <td>1125</td>\n",
       "      <td>1.881300</td>\n",
       "    </tr>\n",
       "    <tr>\n",
       "      <td>1150</td>\n",
       "      <td>1.881500</td>\n",
       "    </tr>\n",
       "    <tr>\n",
       "      <td>1175</td>\n",
       "      <td>1.854600</td>\n",
       "    </tr>\n",
       "  </tbody>\n",
       "</table><p>"
      ],
      "text/plain": [
       "<IPython.core.display.HTML object>"
      ]
     },
     "metadata": {},
     "output_type": "display_data"
    },
    {
     "name": "stderr",
     "output_type": "stream",
     "text": [
      "model.safetensors:   0%|          | 0.00/2.20G [00:00<?, ?B/s]\n",
      "\n",
      "\n",
      "\n",
      "\u001b[A\u001b[A\u001b[A\u001b[A\n",
      "\n",
      "\u001b[A\u001b[A\n",
      "\n",
      "\n",
      "\u001b[A\u001b[A\u001b[A\n",
      "model.safetensors:   0%|          | 16.4k/2.20G [00:00<11:17:44, 54.1kB/s]\n",
      "\n",
      "\n",
      "\n",
      "\u001b[A\u001b[A\u001b[A\u001b[A\n",
      "\n",
      "model.safetensors:   0%|          | 459k/2.20G [00:00<25:16, 1.45MB/s]    \n",
      "events.out.tfevents.1757758378.DARK-CYBERTON.18732.0: 100%|██████████| 10.9k/10.9k [00:01<00:00, 6.76kB/s]\n",
      "events.out.tfevents.1757757801.DARK-CYBERTON.2000.2: 100%|██████████| 5.49k/5.49k [00:01<00:00, 3.41kB/s]\n",
      "events.out.tfevents.1757757073.DARK-CYBERTON.2000.0: 100%|██████████| 5.50k/5.50k [00:01<00:00, 3.30kB/s]\n",
      "events.out.tfevents.1757757568.DARK-CYBERTON.2000.1: 100%|██████████| 5.49k/5.49k [00:01<00:00, 3.15kB/s]\n",
      "\n",
      "\u001b[A\n",
      "\n",
      "\u001b[A\u001b[A\n",
      "\n",
      "\n",
      "\n",
      "events.out.tfevents.1757758697.DARK-CYBERTON.18732.1: 100%|██████████| 5.49k/5.49k [00:00<00:00, 12.9kB/s]\n",
      "events.out.tfevents.1757759087.DARK-CYBERTON.18732.4: 100%|██████████| 5.49k/5.49k [00:00<00:00, 11.8kB/s]\n",
      "model.safetensors:   1%|          | 15.5M/2.20G [00:03<05:02, 7.23MB/s]\n",
      "\n",
      "\n",
      "\n",
      "events.out.tfevents.1757759932.DARK-CYBERTON.18732.5: 100%|██████████| 5.49k/5.49k [00:00<00:00, 14.0kB/s]\n",
      "events.out.tfevents.1757758816.DARK-CYBERTON.18732.2: 100%|██████████| 5.50k/5.50k [00:01<00:00, 4.15kB/s]\n",
      "events.out.tfevents.1757758896.DARK-CYBERTON.18732.3: 100%|██████████| 5.49k/5.49k [00:01<00:00, 4.19kB/s]\n",
      "\n",
      "\n",
      "\u001b[A\u001b[A\n",
      "training_args.bin: 100%|██████████| 6.03k/6.03k [00:00<00:00, 14.5kB/s]\n",
      "events.out.tfevents.1757764597.DARK-CYBERTON.22416.0: 100%|██████████| 5.49k/5.49k [00:01<00:00, 4.18kB/s]\n",
      "events.out.tfevents.1757811746.DARK-CYBERTON.22416.1: 100%|██████████| 18.8k/18.8k [00:01<00:00, 13.7kB/s]\n",
      "tokenizer.model: 100%|██████████| 500k/500k [00:01<00:00, 319kB/s]MB/s]\n",
      "model.safetensors: 100%|██████████| 2.20G/2.20G [02:18<00:00, 15.9MB/s]\n",
      "\n",
      "\n",
      "\n",
      "Upload 14 LFS files: 100%|██████████| 14/14 [02:18<00:00,  9.92s/it]\n"
     ]
    }
   ],
   "source": [
    "trainer.train()\n",
    "trainer.save_model()"
   ]
  },
  {
   "cell_type": "code",
   "execution_count": null,
   "id": "39cf8670",
   "metadata": {},
   "outputs": [
    {
     "name": "stdout",
     "output_type": "stream",
     "text": [
      "Sat Sep 13 15:55:20 2025       \n",
      "+-----------------------------------------------------------------------------+\n",
      "| NVIDIA-SMI 522.06       Driver Version: 522.06       CUDA Version: 11.8     |\n",
      "|-------------------------------+----------------------+----------------------+\n",
      "| GPU  Name            TCC/WDDM | Bus-Id        Disp.A | Volatile Uncorr. ECC |\n",
      "| Fan  Temp  Perf  Pwr:Usage/Cap|         Memory-Usage | GPU-Util  Compute M. |\n",
      "|                               |                      |               MIG M. |\n",
      "|===============================+======================+======================|\n",
      "|   0  NVIDIA GeForce ... WDDM  | 00000000:01:00.0 Off |                  N/A |\n",
      "| N/A   48C    P8    17W /  N/A |   7968MiB /  8192MiB |      0%      Default |\n",
      "|                               |                      |                  N/A |\n",
      "+-------------------------------+----------------------+----------------------+\n",
      "                                                                               \n",
      "+-----------------------------------------------------------------------------+\n",
      "| Processes:                                                                  |\n",
      "|  GPU   GI   CI        PID   Type   Process name                  GPU Memory |\n",
      "|        ID   ID                                                   Usage      |\n",
      "|=============================================================================|\n",
      "|    0   N/A  N/A     18732      C   ...thon\\Python311\\python.exe    N/A      |\n",
      "+-----------------------------------------------------------------------------+\n"
     ]
    }
   ],
   "source": [
    "!nvidia-smi"
   ]
  },
  {
   "cell_type": "markdown",
   "id": "8480d10e-48ad-46e6-bbfc-7e74b148f9b1",
   "metadata": {},
   "source": [
    "## Loading the trained model and getting the predictions of the trained model"
   ]
  },
  {
   "cell_type": "code",
   "execution_count": 31,
   "id": "75ba3ba9-c24d-46ec-885f-18ec957535ba",
   "metadata": {
    "scrolled": true
   },
   "outputs": [
    {
     "data": {
      "text/plain": [
       "LlamaForCausalLM(\n",
       "  (model): LlamaModel(\n",
       "    (embed_tokens): Embedding(32005, 2048)\n",
       "    (layers): ModuleList(\n",
       "      (0-21): 22 x LlamaDecoderLayer(\n",
       "        (self_attn): LlamaAttention(\n",
       "          (q_proj): Linear(in_features=2048, out_features=2048, bias=False)\n",
       "          (k_proj): Linear(in_features=2048, out_features=256, bias=False)\n",
       "          (v_proj): Linear(in_features=2048, out_features=256, bias=False)\n",
       "          (o_proj): Linear(in_features=2048, out_features=2048, bias=False)\n",
       "        )\n",
       "        (mlp): LlamaMLP(\n",
       "          (gate_proj): Linear(in_features=2048, out_features=5632, bias=False)\n",
       "          (up_proj): Linear(in_features=2048, out_features=5632, bias=False)\n",
       "          (down_proj): Linear(in_features=5632, out_features=2048, bias=False)\n",
       "          (act_fn): SiLU()\n",
       "        )\n",
       "        (input_layernorm): LlamaRMSNorm((2048,), eps=1e-05)\n",
       "        (post_attention_layernorm): LlamaRMSNorm((2048,), eps=1e-05)\n",
       "      )\n",
       "    )\n",
       "    (norm): LlamaRMSNorm((2048,), eps=1e-05)\n",
       "    (rotary_emb): LlamaRotaryEmbedding()\n",
       "  )\n",
       "  (lm_head): Linear(in_features=2048, out_features=32005, bias=False)\n",
       ")"
      ]
     },
     "execution_count": 31,
     "metadata": {},
     "output_type": "execute_result"
    }
   ],
   "source": [
    "#model = AutoModelForCausalLM.from_pretrained(\"shariq00/tinyllama_instruct\", trust_remote_code=True)\n",
    "model.to(\"cuda\")\n",
    "#model.to(torch.bfloat16)\n",
    "model.eval()"
   ]
  },
  {
   "cell_type": "code",
   "execution_count": 32,
   "id": "d01b09ee-47f4-4f2b-a7e8-d0b3884f7355",
   "metadata": {},
   "outputs": [
    {
     "name": "stderr",
     "output_type": "stream",
     "text": [
      "Map: 100%|██████████| 25/25 [01:03<00:00,  2.52s/ examples]"
     ]
    },
    {
     "name": "stdout",
     "output_type": "stream",
     "text": [
      "Dataset({\n",
      "    features: ['prompt', 'prompt_id', 'messages', 'category', 'base_assistant_message', 'instruct_assistant_message'],\n",
      "    num_rows: 25\n",
      "})\n",
      "{'prompt': \"I just moved to New York State's Capital area. I am wondering where the Mohawk and Hudson Rivers come together. Where does that happen?\", 'prompt_id': '9ea362fd9c2b04083756e2c03b02b4d5d334826313b7c36eb45f922068ccdb80', 'messages': [{'content': \"I just moved to New York State's Capital area. I am wondering where the Mohawk and Hudson Rivers come together. Where does that happen?\", 'role': 'user'}, {'content': 'The convergence of the Mohawk River, the former site of the Erie Canal, and the Hudson River happens a few miles north of Albany, New York by a town called Cohoes.', 'role': 'assistant'}], 'category': 'Open QA', 'base_assistant_message': 'Mohawk and Hudson Rivers come together at the confluence of the Hudson River and the Mohawk River in Albany, New York.\\nThe Mohawk and Hudson Rivers meet at the confluence of the Hudson River and the Mohawk River in Albany, New York. The river is a tributary of the Hudson River.\\n\\nHistory\\nThe Mohawk and Hudson Rivers meet at the confluence of the Hudson River and the Moh', 'instruct_assistant_message': 'The Mohawk and Hudson Rivers meet at the confluence of the two rivers in Albany, New York. The river is a major transportation route for goods and people throughout the region. It also provides water for drinking and irrigation.'}\n"
     ]
    },
    {
     "name": "stderr",
     "output_type": "stream",
     "text": [
      "\n"
     ]
    }
   ],
   "source": [
    "test_dataset = test_dataset.map(\n",
    "    partial(get_prediction_batched, column_name=\"instruct_assistant_message\"),\n",
    "    batched=True,\n",
    "    batch_size=1)\n",
    "\n",
    "print(test_dataset)\n",
    "print(test_dataset[0])"
   ]
  },
  {
   "cell_type": "markdown",
   "id": "53127053-dd54-421e-88a3-389bade47e59",
   "metadata": {},
   "source": [
    "## Comparing the outputs of base model and instruction finetuned model"
   ]
  },
  {
   "cell_type": "code",
   "execution_count": 33,
   "id": "b1f3e05e-4976-49aa-b7b3-4459088edfa4",
   "metadata": {},
   "outputs": [],
   "source": [
    "test_dataset = test_dataset.to_pandas()"
   ]
  },
  {
   "cell_type": "code",
   "execution_count": 34,
   "id": "a7b0ff70-b9e1-4c10-855f-273cfd6044ad",
   "metadata": {},
   "outputs": [
    {
     "data": {
      "text/html": [
       "<div>\n",
       "<style scoped>\n",
       "    .dataframe tbody tr th:only-of-type {\n",
       "        vertical-align: middle;\n",
       "    }\n",
       "\n",
       "    .dataframe tbody tr th {\n",
       "        vertical-align: top;\n",
       "    }\n",
       "\n",
       "    .dataframe thead th {\n",
       "        text-align: right;\n",
       "    }\n",
       "</style>\n",
       "<table border=\"1\" class=\"dataframe\">\n",
       "  <thead>\n",
       "    <tr style=\"text-align: right;\">\n",
       "      <th></th>\n",
       "      <th>messages</th>\n",
       "      <th>base_assistant_message</th>\n",
       "      <th>instruct_assistant_message</th>\n",
       "    </tr>\n",
       "  </thead>\n",
       "  <tbody>\n",
       "    <tr>\n",
       "      <th>0</th>\n",
       "      <td>[{'content': 'I just moved to New York State's Capital area. I am wondering where the Mohawk and Hudson Rivers come together. Where does that happen?', 'role': 'user'}, {'content': 'The convergence of the Mohawk River, the former site of the Erie Canal, and the Hudson River happens a few miles n...</td>\n",
       "      <td>Mohawk and Hudson Rivers come together at the confluence of the Hudson River and the Mohawk River in Albany, New York.\\nThe Mohawk and Hudson Rivers meet at the confluence of the Hudson River and the Mohawk River in Albany, New York. The river is a tributary of the Hudson River.\\n\\nHistory\\nThe ...</td>\n",
       "      <td>The Mohawk and Hudson Rivers meet at the confluence of the two rivers in Albany, New York. The river is a major transportation route for goods and people throughout the region. It also provides water for drinking and irrigation.</td>\n",
       "    </tr>\n",
       "    <tr>\n",
       "      <th>1</th>\n",
       "      <td>[{'content': 'Rewrite this text as if its part of a futuristic science fiction story:\n",
       "\n",
       "Tesla disabled the on-the-move passenger play feature via an over-the air software update after discussing the matter with officials. However, NHTSA continued its investigation. At the time, NHTSA reiterated t...</td>\n",
       "      <td></td>\n",
       "      <td>In 2018, Tesla disabled the on-the-move passenger play feature via an over-the air software update after discussing the matter with officials. However, NHTSA continued its investigation. At the time, NHTSA reiterated that the Vehicle Safety Act bars companies from selling cars that pose signific...</td>\n",
       "    </tr>\n",
       "    <tr>\n",
       "      <th>2</th>\n",
       "      <td>[{'content': 'Tell me how to get more Instagram followers please, as I want to become Instagram famous! Ten tips would be ideal. I deleted everything from my feed, so you can write it as if I'm starting from scratch! ', 'role': 'user'}, {'content': 'Good luck! Here are ten ways to get more Insta...</td>\n",
       "      <td>The first thing that I did was to delete all of the old posts and photos. I then went through and deleted any comments that were left by people who had commented on my old posts. I also deleted any photos that I had uploaded to my old account.\\nI then took a look at my new account and found that...</td>\n",
       "      <td>Here are some ways to get more Instagram followers:\\n1. Create a catchy hashtag for your account and use it in all of your posts. This will help people find your account easily.\\n2. Use hashtags that relate to the content of your post. For example, if you posted a photo of a dog, use #dog or #pe...</td>\n",
       "    </tr>\n",
       "    <tr>\n",
       "      <th>3</th>\n",
       "      <td>[{'content': 'Write a response to this email, stating that I did cite sources in the section on play therapy, and I did go over the strengths and weaknesses of play therapy. It seems she missed page two. Ask her to look over it again and regrade it. It should sound very professional. This was fo...</td>\n",
       "      <td></td>\n",
       "      <td>Dear Jane,\\n\\nThank you for completing this assignment. I appreciate your thoroughness and attention to detail. The brochure is well-written and clearly explains the services provided by Play Therapy. I also appreciated the references and citations you included.\\n\\nAs for the assessment, I notic...</td>\n",
       "    </tr>\n",
       "    <tr>\n",
       "      <th>4</th>\n",
       "      <td>[{'content': 'Please summarize this post. Make it easier to read and much shorter. It should only be about a paragraph or two. Use the text following this request. \n",
       "\n",
       "After World War II, designating the start and end dates for daylight saving time fell to state governments. Because this created m...</td>\n",
       "      <td></td>\n",
       "      <td>Daylight saving time has been a part of our lives since the late 1800s. The United States was one of the first countries to adopt this practice, but now, there are some states that want to change it. Some states have already voted to permanently switch to standard time, while others are consider...</td>\n",
       "    </tr>\n",
       "    <tr>\n",
       "      <th>5</th>\n",
       "      <td>[{'content': 'Write me a story outline for a funny story involving a man who is accidentally abducted by aliens. Write it as a series of 8 bullet points.', 'role': 'user'}, {'content': '* A man's car stops in the middle of nowhere.\n",
       "* He is beamed up by an alien spaceship.\n",
       "* The aliens seem confu...</td>\n",
       "      <td>1234567\\nWrite a short story about a young boy who has to go to the hospital and his parents are not there. Write it in 100 words.\\nWrite a short story about a girl who is going on a date with her boyfriend. She is nervous because she doesn't know how he will react when she tells him that she is...</td>\n",
       "      <td>1. A man named Sam is driving home from work when he sees an unusual object in the sky. He pulls over and looks at it, but it's not a plane or a helicopter. It's a spaceship!\\n2. The spaceship lands on his lawn and opens its doors. Inside are three aliens with strange faces. They ask him if he w...</td>\n",
       "    </tr>\n",
       "    <tr>\n",
       "      <th>6</th>\n",
       "      <td>[{'content': 'Rewrite the synopsis as pairs of rhyming and near-rhyming couplets.\n",
       "\n",
       "Sarah, a streetwise hustler on the run from a lifetime of bad decisions, witnesses the suicide of a stranger who looks just like her. Sarah assumes her identity hoping that cleaning out the dead woman's bank accou...</td>\n",
       "      <td>The Last Days of Pompeii\\nA young man, who has been living with his grandmother for years, is forced to confront his past when he discovers that she may be involved in a series of murders.\\nThe Last Days of Pompeii\\nThe Last Days of Pompeii\\nThe Last Days of Pompeii (2018)\\nThe Last Days of Pomp...</td>\n",
       "      <td>Sarah, a streetwise hustler on the run from a lifetime of bad decisions, witnessed the suicide of a stranger who looked just like her.\\n\\nShe assumed her identity hoping that cleaning out the dead woman's bank account would solve all of her problems.\\n\\nInstead, she found herself thrust headlong...</td>\n",
       "    </tr>\n",
       "    <tr>\n",
       "      <th>7</th>\n",
       "      <td>[{'content': 'Help me come up with a quick text to ask my big sister if I can borrow her purple blouse for the party this coming Friday. Reassure her that it will not end up like her other shirt I borrowed last week which fell apart in the washer.', 'role': 'user'}, {'content': 'Hey sis! I have ...</td>\n",
       "      <td>I'm going to the party on Friday and I need a new blouse.\\nI need a new blouse.\\nI need a new blouse.\\nI need a new blouse.\\nI need a new blouse.\\nI need a new blouse.\\nI need a new blouse.\\nI need a new blouse.\\nI need a new blouse.\\nI need a new blouse.\\nI need a new blouse.\\nI need</td>\n",
       "      <td>Hey, big sis! I'm going to be at your house on Friday night and I need you to give me your purple blouse so I can wear it. It's been a while since I've seen it, and I think it would look great on me. If you don't have it, I understand, but I'd really appreciate it if you could let me borrow it. ...</td>\n",
       "    </tr>\n",
       "    <tr>\n",
       "      <th>8</th>\n",
       "      <td>[{'content': 'hi can i have an idea for a short story? Give me the main character's background, a starting plot, location, time period, and and something about the way they see the world they live in. I want a starting place for some insight into this character. This will be an exercise for stud...</td>\n",
       "      <td>I'm looking for a short story or essay on \"The Art of War\" by Sun Tzu. I need to know what the art of war is, how it was used, and why it was important. I also need to know what the art of war is, how it was used, and why it was important. I am not looking for a paper on the art of war, but rath...</td>\n",
       "      <td>The main character is named Jake. He lives in a city called New York City. The city has many different types of buildings, but he lives in a small apartment. His apartment is on the top floor of a building. It is very close to the subway station. There are also many other apartments around him. ...</td>\n",
       "    </tr>\n",
       "    <tr>\n",
       "      <th>9</th>\n",
       "      <td>[{'content': 'How do I listen for an event in Discord.js?', 'role': 'user'}, {'content': 'You can listen for an event in Discord.js by using the Client#on method:\n",
       "\n",
       "const { Events, Client } = require(\"discord.js\");\n",
       "const client = new Client();\n",
       "client.on(Events.ClientReady, c =&gt; {\n",
       "        console....</td>\n",
       "      <td>How do I listen for a message in Discord.js?</td>\n",
       "      <td>To listen for events, you can use the `on()` method on a channel or a message. For example:\\n\\n```javascript\\nconst client = new Client();\\nclient.on(\"message\", message =&gt; {\\n    console.log(message);\\n});\\nclient.login(\"token\");\\n```\\n\\nThe `on()` method accepts two arguments: the event type an...</td>\n",
       "    </tr>\n",
       "    <tr>\n",
       "      <th>10</th>\n",
       "      <td>[{'content': 'Give me a list of children's story ideas. Give me a title and a brief (1-2 sentence) summary of each story. They should be aimed at kids aged between 10-13 and involve space in some capacity.', 'role': 'user'}, {'content': '1. Planet 2099: A little girl stows away on a spaceship th...</td>\n",
       "      <td>Ide \\n\\nThe stories should be written in the first person, and should have a beginning, middle and end. The middle section should be a dialogue between two characters. Ideally, the story should be about 500 words long.\\nIdeas for the stories can be found here: http://www.kidzsearch.com/search?q=...</td>\n",
       "      <td>Here are some kid-friendly sci-fi stories:\\n\\n1. The Space Between Us - A boy named Tom is sent to live with his grandparents on the moon, but he doesn't like it there. He wants to go back home to Earth.\\n2. The Space Between Us II - Tom has moved to Mars and is trying to make friends. But when ...</td>\n",
       "    </tr>\n",
       "    <tr>\n",
       "      <th>11</th>\n",
       "      <td>[{'content': 'Write one positive poem about Mondays and one mildly negative poem about Mondays. \n",
       "\n",
       "Follow these requirements: \n",
       "\n",
       "- Each poem must be four lines. \n",
       "- Start each poem with the word Mondays. \n",
       "- Follow this rhyme scheme for both: AABB \n",
       "- Use an excerpt from each poem as its title.', 'ro...</td>\n",
       "      <td>The Poetry of Mondays\\nMonday is a day to celebrate, not complain about.\\nIt's a day to reflect on what we have, and what we can do to make it better.\\nIt's a day to remember those who have died in war, and those who are sick or disabled.\\nIt's a day to remember all the people who have helped us...</td>\n",
       "      <td>Monday, Monday, Monday, \\nI'm so tired of it all. \\nIt's just a day to rest, \\nAnd I don't want to do it. \\n\\nBut then I think, \\n\"Why not? It's only a day.\" \\nSo I go to work, \\nAnd I get paid for it. \\n\\nThen I come home, \\nAnd I have dinner, \\nAnd I watch</td>\n",
       "    </tr>\n",
       "    <tr>\n",
       "      <th>12</th>\n",
       "      <td>[{'content': 'How many actors have portrayed the Incredible Hulk in movies? Please list the actors, the movies, and when they first appeared as the character. Format: {actor} - {movie}: {year}\n",
       "', 'role': 'user'}, {'content': ' Three actors have portrayed Bruce Banner a.k.a. The Incredible Hulk.\n",
       "...</td>\n",
       "      <td>2019764305812019764305812019764305812019764305812019764305812019764305812019764305812019764305812019</td>\n",
       "      <td>The following is a list of actors who have played the Incredible Hulk in movies:\\n\\n1. Lou Ferrigno (1978): The actor made his debut as the Hulk in the movie \"The Incredible Hulk.\" He later reprised the role in \"The Avengers\" (2012).\\n2. Mark Ruffalo (2008): The actor made his debut as the Hulk ...</td>\n",
       "    </tr>\n",
       "    <tr>\n",
       "      <th>13</th>\n",
       "      <td>[{'content': 'Summarise, in one sentence, what this speech by Lady Macbeth is about:\n",
       "\n",
       "The raven himself is hoarse\n",
       "That croaks the fatal entrance of Duncan\n",
       "Under my battlements. Come, you spirits\n",
       "That tend on mortal thoughts, unsex me here,\n",
       "And fill me, from the crown to the toe, top-full\n",
       "Of dire...</td>\n",
       "      <td>I'm a man, and I'm a woman,\\nI'm a man, and I'm a woman,\\nI'm a man, and I'm a woman,\\nI'm a man, and I'm a woman,\\nI'm a man, and I'm a woman,\\nI'm a man, and I'm a woman,\\nI'm a man, and I'm a woman,\\nI'</td>\n",
       "      <td>Lady Macbeth is speaking about her plan to kill King Duncan when she says that the raven is hoarse and that it cries out \"Fatal entrance.\" She then goes on to say that the raven will enter Duncan's castle and that she will fill his mind with evil thoughts. The raven will also stop any remorseful...</td>\n",
       "    </tr>\n",
       "    <tr>\n",
       "      <th>14</th>\n",
       "      <td>[{'content': 'Can you please write me a acrostic poem about applesauce? It's my favourite snack and I want to make sure my mom keeps buying it and putting it in my lunch.', 'role': 'user'}, {'content': 'A healthy and delicious treat\n",
       "Pleasing to taste\n",
       "Perfect with pork chops\n",
       "Like an orchard in my...</td>\n",
       "      <td>I am writing a poem about applesauce. It's my favorite snack and I want to make sure my mom keeps buying it and putting it in my lunch.\\nI am writing a poem about applesauce. It's my favorite snack and I want to make sure my mom keeps buying it and putting it in my lunch.\\nI am writing a poem ab...</td>\n",
       "      <td>Apple sauce, apple sauce, apple sauce,\\nIt's the best snack ever,\\nI love it so much,\\nAnd I can't wait for it to be on sale!\\n\\nApple sauce, apple sauce, apple sauce,\\nIt's the best snack ever,\\nI love it so much,\\nAnd I can't wait for it to be on sale!\\n\\nApple sauce, apple sauce</td>\n",
       "    </tr>\n",
       "    <tr>\n",
       "      <th>15</th>\n",
       "      <td>[{'content': 'Write a series of brief logbook entries detailing the surveillance of a mysterious house that may be involved in some of the supernatural events of the story. The writer of the logbook entries should be cryptic and make strange references and use unknown abbreviations and codes.', ...</td>\n",
       "      <td>The writer of the logbook entries should be cryptic and make strange references and use unknown abbreviations and codes.\\nThe writer of the logbook entries should be cryptic and make strange references and use unknown abbreviations and codes.\\nThe writer of the logbook entries should be cryptic ...</td>\n",
       "      <td>10:35 PM - I'm on my way to the house now. It's not far from here, so it shouldn't take long.\\n\\n10:40 PM - I've arrived at the house. I can see the front door is open, but no one is inside. I'll have to wait for someone to come out.\\n\\n10:42 PM - I hear footsteps coming down the stairs. They so...</td>\n",
       "    </tr>\n",
       "    <tr>\n",
       "      <th>16</th>\n",
       "      <td>[{'content': 'Please write a humorous/ironic script for a speech in a crowdfunding video by a man named Dr. Disaster. He is asking for $500 Million to fund a doomsday device that he calls, \"The Crust Cracker 5000,\" which works by cracking a planet's crust like an egg and exposing the mantle. One...</td>\n",
       "      <td>Asking for a donation to help pay for a new car. The guy is asking for $100,000 to buy a new car. He says it's because he has a lot of debt and needs to get out of his current situation. He also says he doesn't have much time left before he dies. He wants to get rid of all his debt and start ove...</td>\n",
       "      <td>Dr. Disaster: Hello everyone! I am here today to ask you all to help me raise $500 million dollars so that I can build my new doomsday device called The Crust Cracker 5000. This device will work by cracking a planet's crust like an egg and exposing its mantle. It's going to be a huge breakthroug...</td>\n",
       "    </tr>\n",
       "    <tr>\n",
       "      <th>17</th>\n",
       "      <td>[{'content': 'Reimagine this text as a diary entry of a person from the future who has just landed on Mars using Elon Musk's Starship and Super Heavy.\n",
       "\n",
       "Starship and Super Heavy are the biggest, most important pieces of Elon Musk's grand plan for SpaceX, his private spaceflight company. SpaceX's ...</td>\n",
       "      <td></td>\n",
       "      <td>I am a journalist from the future, and I have just arrived on Mars. I am writing this diary entry to tell you about my experiences here.\\n\\nWhen I first arrived on Mars, I was shocked to see how big everything was! There were buildings and roads and even a football field! I had never seen anythi...</td>\n",
       "    </tr>\n",
       "    <tr>\n",
       "      <th>18</th>\n",
       "      <td>[{'content': 'What is the moral of the story?\n",
       "\n",
       "Here is the story:\n",
       "Four cows lived in a forest near a meadow. They were good friends and did everything together. They grazed together and stayed together, because of which no tigers or lions were able to kill them for food.\n",
       "\n",
       "But one day, the friend...</td>\n",
       "      <td></td>\n",
       "      <td>The moral of the story is that cows are better off alone.</td>\n",
       "    </tr>\n",
       "    <tr>\n",
       "      <th>19</th>\n",
       "      <td>[{'content': 'Can you write a Facebook post for me to post on my page? I want to talk about how there are not enough products being sold right now in the color pink! It’s my favorite color. I absolutely love pink!!!', 'role': 'user'}, {'content': 'Hey, guys! If any of you want a great money-maki...</td>\n",
       "      <td></td>\n",
       "      <td>Hey everyone, I just wanted to let you know that there is no shortage of pink products out there! There are so many great options available right now! From lipsticks and nail polish to makeup brushes and even hair accessories, there is something for everyone! Pink is such an exciting color and i...</td>\n",
       "    </tr>\n",
       "    <tr>\n",
       "      <th>20</th>\n",
       "      <td>[{'content': 'Tell me what this says in five words:\n",
       "\n",
       "It wasn’t long ago that record collecting seemed to be a niche hobby, indulged in by music lovers across the world, but hardly anyone else. Now, however, things have changed. Vinyl has seen a huge comeback – which may be surprising in the stre...</td>\n",
       "      <td></td>\n",
       "      <td>Vinyl is a niche hobby that’s been growing in popularity over the last few years. It’s now become a viable option for many people who want to collect records. Here are some tips on how to start a record collection.\\n\\n1. Start with a small collection.\\n\\nIf you don’t have any records yet, it’s a...</td>\n",
       "    </tr>\n",
       "    <tr>\n",
       "      <th>21</th>\n",
       "      <td>[{'content': 'Write a letter to the newspaper editor of the Daily mail, regarding the article about getting rid of flies. Write as if you are a fly. \n",
       "\n",
       "I'm a pest control expert - this cheap hack will get rid of pesky flies in your house\n",
       "\n",
       "A pest control expert has revealed an easy hack for gettin...</td>\n",
       "      <td></td>\n",
       "      <td>Dear Editor,\\n\\nI am a pest control expert, and I would like to share my tips for getting rid of pesky flies in your home this summer.\\n\\nFirstly, let me explain why we need to get rid of these annoying creatures. Flies are known to carry harmful diseases, such as salmonellosis, typhoid, and tub...</td>\n",
       "    </tr>\n",
       "    <tr>\n",
       "      <th>22</th>\n",
       "      <td>[{'content': 'Use the titles of the books listed above to write true Tumblr shitposts. Each post should include the title of the book but not necessarily reference the plot at all\n",
       "\n",
       "2. The Age of Innocence by Edith Wharton\n",
       "Buy on Amazon\n",
       "Add to library \n",
       "Newland Archer, one of 1900s New York’s most...</td>\n",
       "      <td></td>\n",
       "      <td>1. The Age of Innocence - Edith Wharton\\n2. The Alchemist - Paulo Coelho\\n3. And Then There Were None - Agatha Christie\\n4. Anna Karenina - Leo Tolstoy\\n5. The Alchemist - Paulo Coelho\\n6. And Then There Were None - Agatha Christie</td>\n",
       "    </tr>\n",
       "    <tr>\n",
       "      <th>23</th>\n",
       "      <td>[{'content': 'Classify this Tweet as Toxic or Not Toxic:\n",
       "\"I can't believe people are still defending racism and hate speech. It's time to stand up for what's right.\"', 'role': 'user'}, {'content': 'Not Toxic\n",
       "The tweet expresses frustration towards racism and hate speech. It does not contain harm...</td>\n",
       "      <td>Tweeted by @Sara_Grace\\nTweeted by @Sara_Grace\\nTweeted by @Sara_Grace\\nTweeted by @Sara_Grace\\nTweeted by @Sara_Grace 148\\nTweeted by @Sara_Grace 20\\nTweeted by @Sara_Grace 13\\nTweeted by @Sara_Grace 1</td>\n",
       "      <td>This tweet is not toxic because it does not contain any profanity, vulgar language, or other inappropriate content.</td>\n",
       "    </tr>\n",
       "    <tr>\n",
       "      <th>24</th>\n",
       "      <td>[{'content': 'Write a news report with Rose Nylund as the anchor reporting on a MMA Fight while she babbles on about St Olaf.', 'role': 'user'}, {'content': 'Good evening, I'm Rose Nylund, and welcome to our exciting live coverage of the MMA fight. \n",
       "\n",
       "In the red corner, we have Dustin Poirier, wh...</td>\n",
       "      <td>A new report from the Minnesota State Legislature says that the state's public pension fund is in better shape than it has been in years, but that's not saying much. The report, released by the Minnesota State Retirement System (MSRS), shows that the fund's assets are up to $153 billion, which i...</td>\n",
       "      <td>Rose Nylund, anchor for News 13, is reporting live from the MMA Fight between St Olaf and Ullr. The fight has been going on for over an hour now and it's still not finished. Rose is talking to her producer, who is trying to get her to stop talking so much. She says that she can't help but talk a...</td>\n",
       "    </tr>\n",
       "  </tbody>\n",
       "</table>\n",
       "</div>"
      ],
      "text/plain": [
       "                                                                                                                                                                                                                                                                                                       messages  \\\n",
       "0   [{'content': 'I just moved to New York State's Capital area. I am wondering where the Mohawk and Hudson Rivers come together. Where does that happen?', 'role': 'user'}, {'content': 'The convergence of the Mohawk River, the former site of the Erie Canal, and the Hudson River happens a few miles n...   \n",
       "1   [{'content': 'Rewrite this text as if its part of a futuristic science fiction story:\n",
       "\n",
       "Tesla disabled the on-the-move passenger play feature via an over-the air software update after discussing the matter with officials. However, NHTSA continued its investigation. At the time, NHTSA reiterated t...   \n",
       "2   [{'content': 'Tell me how to get more Instagram followers please, as I want to become Instagram famous! Ten tips would be ideal. I deleted everything from my feed, so you can write it as if I'm starting from scratch! ', 'role': 'user'}, {'content': 'Good luck! Here are ten ways to get more Insta...   \n",
       "3   [{'content': 'Write a response to this email, stating that I did cite sources in the section on play therapy, and I did go over the strengths and weaknesses of play therapy. It seems she missed page two. Ask her to look over it again and regrade it. It should sound very professional. This was fo...   \n",
       "4   [{'content': 'Please summarize this post. Make it easier to read and much shorter. It should only be about a paragraph or two. Use the text following this request. \n",
       "\n",
       "After World War II, designating the start and end dates for daylight saving time fell to state governments. Because this created m...   \n",
       "5   [{'content': 'Write me a story outline for a funny story involving a man who is accidentally abducted by aliens. Write it as a series of 8 bullet points.', 'role': 'user'}, {'content': '* A man's car stops in the middle of nowhere.\n",
       "* He is beamed up by an alien spaceship.\n",
       "* The aliens seem confu...   \n",
       "6   [{'content': 'Rewrite the synopsis as pairs of rhyming and near-rhyming couplets.\n",
       "\n",
       "Sarah, a streetwise hustler on the run from a lifetime of bad decisions, witnesses the suicide of a stranger who looks just like her. Sarah assumes her identity hoping that cleaning out the dead woman's bank accou...   \n",
       "7   [{'content': 'Help me come up with a quick text to ask my big sister if I can borrow her purple blouse for the party this coming Friday. Reassure her that it will not end up like her other shirt I borrowed last week which fell apart in the washer.', 'role': 'user'}, {'content': 'Hey sis! I have ...   \n",
       "8   [{'content': 'hi can i have an idea for a short story? Give me the main character's background, a starting plot, location, time period, and and something about the way they see the world they live in. I want a starting place for some insight into this character. This will be an exercise for stud...   \n",
       "9   [{'content': 'How do I listen for an event in Discord.js?', 'role': 'user'}, {'content': 'You can listen for an event in Discord.js by using the Client#on method:\n",
       "\n",
       "const { Events, Client } = require(\"discord.js\");\n",
       "const client = new Client();\n",
       "client.on(Events.ClientReady, c => {\n",
       "        console....   \n",
       "10  [{'content': 'Give me a list of children's story ideas. Give me a title and a brief (1-2 sentence) summary of each story. They should be aimed at kids aged between 10-13 and involve space in some capacity.', 'role': 'user'}, {'content': '1. Planet 2099: A little girl stows away on a spaceship th...   \n",
       "11  [{'content': 'Write one positive poem about Mondays and one mildly negative poem about Mondays. \n",
       "\n",
       "Follow these requirements: \n",
       "\n",
       "- Each poem must be four lines. \n",
       "- Start each poem with the word Mondays. \n",
       "- Follow this rhyme scheme for both: AABB \n",
       "- Use an excerpt from each poem as its title.', 'ro...   \n",
       "12  [{'content': 'How many actors have portrayed the Incredible Hulk in movies? Please list the actors, the movies, and when they first appeared as the character. Format: {actor} - {movie}: {year}\n",
       "', 'role': 'user'}, {'content': ' Three actors have portrayed Bruce Banner a.k.a. The Incredible Hulk.\n",
       "...   \n",
       "13  [{'content': 'Summarise, in one sentence, what this speech by Lady Macbeth is about:\n",
       "\n",
       "The raven himself is hoarse\n",
       "That croaks the fatal entrance of Duncan\n",
       "Under my battlements. Come, you spirits\n",
       "That tend on mortal thoughts, unsex me here,\n",
       "And fill me, from the crown to the toe, top-full\n",
       "Of dire...   \n",
       "14  [{'content': 'Can you please write me a acrostic poem about applesauce? It's my favourite snack and I want to make sure my mom keeps buying it and putting it in my lunch.', 'role': 'user'}, {'content': 'A healthy and delicious treat\n",
       "Pleasing to taste\n",
       "Perfect with pork chops\n",
       "Like an orchard in my...   \n",
       "15  [{'content': 'Write a series of brief logbook entries detailing the surveillance of a mysterious house that may be involved in some of the supernatural events of the story. The writer of the logbook entries should be cryptic and make strange references and use unknown abbreviations and codes.', ...   \n",
       "16  [{'content': 'Please write a humorous/ironic script for a speech in a crowdfunding video by a man named Dr. Disaster. He is asking for $500 Million to fund a doomsday device that he calls, \"The Crust Cracker 5000,\" which works by cracking a planet's crust like an egg and exposing the mantle. One...   \n",
       "17  [{'content': 'Reimagine this text as a diary entry of a person from the future who has just landed on Mars using Elon Musk's Starship and Super Heavy.\n",
       "\n",
       "Starship and Super Heavy are the biggest, most important pieces of Elon Musk's grand plan for SpaceX, his private spaceflight company. SpaceX's ...   \n",
       "18  [{'content': 'What is the moral of the story?\n",
       "\n",
       "Here is the story:\n",
       "Four cows lived in a forest near a meadow. They were good friends and did everything together. They grazed together and stayed together, because of which no tigers or lions were able to kill them for food.\n",
       "\n",
       "But one day, the friend...   \n",
       "19  [{'content': 'Can you write a Facebook post for me to post on my page? I want to talk about how there are not enough products being sold right now in the color pink! It’s my favorite color. I absolutely love pink!!!', 'role': 'user'}, {'content': 'Hey, guys! If any of you want a great money-maki...   \n",
       "20  [{'content': 'Tell me what this says in five words:\n",
       "\n",
       "It wasn’t long ago that record collecting seemed to be a niche hobby, indulged in by music lovers across the world, but hardly anyone else. Now, however, things have changed. Vinyl has seen a huge comeback – which may be surprising in the stre...   \n",
       "21  [{'content': 'Write a letter to the newspaper editor of the Daily mail, regarding the article about getting rid of flies. Write as if you are a fly. \n",
       "\n",
       "I'm a pest control expert - this cheap hack will get rid of pesky flies in your house\n",
       "\n",
       "A pest control expert has revealed an easy hack for gettin...   \n",
       "22  [{'content': 'Use the titles of the books listed above to write true Tumblr shitposts. Each post should include the title of the book but not necessarily reference the plot at all\n",
       "\n",
       "2. The Age of Innocence by Edith Wharton\n",
       "Buy on Amazon\n",
       "Add to library \n",
       "Newland Archer, one of 1900s New York’s most...   \n",
       "23  [{'content': 'Classify this Tweet as Toxic or Not Toxic:\n",
       "\"I can't believe people are still defending racism and hate speech. It's time to stand up for what's right.\"', 'role': 'user'}, {'content': 'Not Toxic\n",
       "The tweet expresses frustration towards racism and hate speech. It does not contain harm...   \n",
       "24  [{'content': 'Write a news report with Rose Nylund as the anchor reporting on a MMA Fight while she babbles on about St Olaf.', 'role': 'user'}, {'content': 'Good evening, I'm Rose Nylund, and welcome to our exciting live coverage of the MMA fight. \n",
       "\n",
       "In the red corner, we have Dustin Poirier, wh...   \n",
       "\n",
       "                                                                                                                                                                                                                                                                                         base_assistant_message  \\\n",
       "0   Mohawk and Hudson Rivers come together at the confluence of the Hudson River and the Mohawk River in Albany, New York.\\nThe Mohawk and Hudson Rivers meet at the confluence of the Hudson River and the Mohawk River in Albany, New York. The river is a tributary of the Hudson River.\\n\\nHistory\\nThe ...   \n",
       "1                                                                                                                                                                                                                                                                                                                 \n",
       "2   The first thing that I did was to delete all of the old posts and photos. I then went through and deleted any comments that were left by people who had commented on my old posts. I also deleted any photos that I had uploaded to my old account.\\nI then took a look at my new account and found that...   \n",
       "3                                                                                                                                                                                                                                                                                                                 \n",
       "4                                                                                                                                                                                                                                                                                                                 \n",
       "5   1234567\\nWrite a short story about a young boy who has to go to the hospital and his parents are not there. Write it in 100 words.\\nWrite a short story about a girl who is going on a date with her boyfriend. She is nervous because she doesn't know how he will react when she tells him that she is...   \n",
       "6   The Last Days of Pompeii\\nA young man, who has been living with his grandmother for years, is forced to confront his past when he discovers that she may be involved in a series of murders.\\nThe Last Days of Pompeii\\nThe Last Days of Pompeii\\nThe Last Days of Pompeii (2018)\\nThe Last Days of Pomp...   \n",
       "7                 I'm going to the party on Friday and I need a new blouse.\\nI need a new blouse.\\nI need a new blouse.\\nI need a new blouse.\\nI need a new blouse.\\nI need a new blouse.\\nI need a new blouse.\\nI need a new blouse.\\nI need a new blouse.\\nI need a new blouse.\\nI need a new blouse.\\nI need   \n",
       "8   I'm looking for a short story or essay on \"The Art of War\" by Sun Tzu. I need to know what the art of war is, how it was used, and why it was important. I also need to know what the art of war is, how it was used, and why it was important. I am not looking for a paper on the art of war, but rath...   \n",
       "9                                                                                                                                                                                                                                                                  How do I listen for a message in Discord.js?   \n",
       "10  Ide \\n\\nThe stories should be written in the first person, and should have a beginning, middle and end. The middle section should be a dialogue between two characters. Ideally, the story should be about 500 words long.\\nIdeas for the stories can be found here: http://www.kidzsearch.com/search?q=...   \n",
       "11  The Poetry of Mondays\\nMonday is a day to celebrate, not complain about.\\nIt's a day to reflect on what we have, and what we can do to make it better.\\nIt's a day to remember those who have died in war, and those who are sick or disabled.\\nIt's a day to remember all the people who have helped us...   \n",
       "12                                                                                                                                                                                                         2019764305812019764305812019764305812019764305812019764305812019764305812019764305812019764305812019   \n",
       "13                                                                                                I'm a man, and I'm a woman,\\nI'm a man, and I'm a woman,\\nI'm a man, and I'm a woman,\\nI'm a man, and I'm a woman,\\nI'm a man, and I'm a woman,\\nI'm a man, and I'm a woman,\\nI'm a man, and I'm a woman,\\nI'   \n",
       "14  I am writing a poem about applesauce. It's my favorite snack and I want to make sure my mom keeps buying it and putting it in my lunch.\\nI am writing a poem about applesauce. It's my favorite snack and I want to make sure my mom keeps buying it and putting it in my lunch.\\nI am writing a poem ab...   \n",
       "15  The writer of the logbook entries should be cryptic and make strange references and use unknown abbreviations and codes.\\nThe writer of the logbook entries should be cryptic and make strange references and use unknown abbreviations and codes.\\nThe writer of the logbook entries should be cryptic ...   \n",
       "16  Asking for a donation to help pay for a new car. The guy is asking for $100,000 to buy a new car. He says it's because he has a lot of debt and needs to get out of his current situation. He also says he doesn't have much time left before he dies. He wants to get rid of all his debt and start ove...   \n",
       "17                                                                                                                                                                                                                                                                                                                \n",
       "18                                                                                                                                                                                                                                                                                                                \n",
       "19                                                                                                                                                                                                                                                                                                                \n",
       "20                                                                                                                                                                                                                                                                                                                \n",
       "21                                                                                                                                                                                                                                                                                                                \n",
       "22                                                                                                                                                                                                                                                                                                                \n",
       "23                                                                                                   Tweeted by @Sara_Grace\\nTweeted by @Sara_Grace\\nTweeted by @Sara_Grace\\nTweeted by @Sara_Grace\\nTweeted by @Sara_Grace 148\\nTweeted by @Sara_Grace 20\\nTweeted by @Sara_Grace 13\\nTweeted by @Sara_Grace 1   \n",
       "24  A new report from the Minnesota State Legislature says that the state's public pension fund is in better shape than it has been in years, but that's not saying much. The report, released by the Minnesota State Retirement System (MSRS), shows that the fund's assets are up to $153 billion, which i...   \n",
       "\n",
       "                                                                                                                                                                                                                                                                                     instruct_assistant_message  \n",
       "0                                                                          The Mohawk and Hudson Rivers meet at the confluence of the two rivers in Albany, New York. The river is a major transportation route for goods and people throughout the region. It also provides water for drinking and irrigation.  \n",
       "1   In 2018, Tesla disabled the on-the-move passenger play feature via an over-the air software update after discussing the matter with officials. However, NHTSA continued its investigation. At the time, NHTSA reiterated that the Vehicle Safety Act bars companies from selling cars that pose signific...  \n",
       "2   Here are some ways to get more Instagram followers:\\n1. Create a catchy hashtag for your account and use it in all of your posts. This will help people find your account easily.\\n2. Use hashtags that relate to the content of your post. For example, if you posted a photo of a dog, use #dog or #pe...  \n",
       "3   Dear Jane,\\n\\nThank you for completing this assignment. I appreciate your thoroughness and attention to detail. The brochure is well-written and clearly explains the services provided by Play Therapy. I also appreciated the references and citations you included.\\n\\nAs for the assessment, I notic...  \n",
       "4   Daylight saving time has been a part of our lives since the late 1800s. The United States was one of the first countries to adopt this practice, but now, there are some states that want to change it. Some states have already voted to permanently switch to standard time, while others are consider...  \n",
       "5   1. A man named Sam is driving home from work when he sees an unusual object in the sky. He pulls over and looks at it, but it's not a plane or a helicopter. It's a spaceship!\\n2. The spaceship lands on his lawn and opens its doors. Inside are three aliens with strange faces. They ask him if he w...  \n",
       "6   Sarah, a streetwise hustler on the run from a lifetime of bad decisions, witnessed the suicide of a stranger who looked just like her.\\n\\nShe assumed her identity hoping that cleaning out the dead woman's bank account would solve all of her problems.\\n\\nInstead, she found herself thrust headlong...  \n",
       "7   Hey, big sis! I'm going to be at your house on Friday night and I need you to give me your purple blouse so I can wear it. It's been a while since I've seen it, and I think it would look great on me. If you don't have it, I understand, but I'd really appreciate it if you could let me borrow it. ...  \n",
       "8   The main character is named Jake. He lives in a city called New York City. The city has many different types of buildings, but he lives in a small apartment. His apartment is on the top floor of a building. It is very close to the subway station. There are also many other apartments around him. ...  \n",
       "9   To listen for events, you can use the `on()` method on a channel or a message. For example:\\n\\n```javascript\\nconst client = new Client();\\nclient.on(\"message\", message => {\\n    console.log(message);\\n});\\nclient.login(\"token\");\\n```\\n\\nThe `on()` method accepts two arguments: the event type an...  \n",
       "10  Here are some kid-friendly sci-fi stories:\\n\\n1. The Space Between Us - A boy named Tom is sent to live with his grandparents on the moon, but he doesn't like it there. He wants to go back home to Earth.\\n2. The Space Between Us II - Tom has moved to Mars and is trying to make friends. But when ...  \n",
       "11                                           Monday, Monday, Monday, \\nI'm so tired of it all. \\nIt's just a day to rest, \\nAnd I don't want to do it. \\n\\nBut then I think, \\n\"Why not? It's only a day.\" \\nSo I go to work, \\nAnd I get paid for it. \\n\\nThen I come home, \\nAnd I have dinner, \\nAnd I watch  \n",
       "12  The following is a list of actors who have played the Incredible Hulk in movies:\\n\\n1. Lou Ferrigno (1978): The actor made his debut as the Hulk in the movie \"The Incredible Hulk.\" He later reprised the role in \"The Avengers\" (2012).\\n2. Mark Ruffalo (2008): The actor made his debut as the Hulk ...  \n",
       "13  Lady Macbeth is speaking about her plan to kill King Duncan when she says that the raven is hoarse and that it cries out \"Fatal entrance.\" She then goes on to say that the raven will enter Duncan's castle and that she will fill his mind with evil thoughts. The raven will also stop any remorseful...  \n",
       "14                   Apple sauce, apple sauce, apple sauce,\\nIt's the best snack ever,\\nI love it so much,\\nAnd I can't wait for it to be on sale!\\n\\nApple sauce, apple sauce, apple sauce,\\nIt's the best snack ever,\\nI love it so much,\\nAnd I can't wait for it to be on sale!\\n\\nApple sauce, apple sauce  \n",
       "15  10:35 PM - I'm on my way to the house now. It's not far from here, so it shouldn't take long.\\n\\n10:40 PM - I've arrived at the house. I can see the front door is open, but no one is inside. I'll have to wait for someone to come out.\\n\\n10:42 PM - I hear footsteps coming down the stairs. They so...  \n",
       "16  Dr. Disaster: Hello everyone! I am here today to ask you all to help me raise $500 million dollars so that I can build my new doomsday device called The Crust Cracker 5000. This device will work by cracking a planet's crust like an egg and exposing its mantle. It's going to be a huge breakthroug...  \n",
       "17  I am a journalist from the future, and I have just arrived on Mars. I am writing this diary entry to tell you about my experiences here.\\n\\nWhen I first arrived on Mars, I was shocked to see how big everything was! There were buildings and roads and even a football field! I had never seen anythi...  \n",
       "18                                                                                                                                                                                                                                                    The moral of the story is that cows are better off alone.  \n",
       "19  Hey everyone, I just wanted to let you know that there is no shortage of pink products out there! There are so many great options available right now! From lipsticks and nail polish to makeup brushes and even hair accessories, there is something for everyone! Pink is such an exciting color and i...  \n",
       "20  Vinyl is a niche hobby that’s been growing in popularity over the last few years. It’s now become a viable option for many people who want to collect records. Here are some tips on how to start a record collection.\\n\\n1. Start with a small collection.\\n\\nIf you don’t have any records yet, it’s a...  \n",
       "21  Dear Editor,\\n\\nI am a pest control expert, and I would like to share my tips for getting rid of pesky flies in your home this summer.\\n\\nFirstly, let me explain why we need to get rid of these annoying creatures. Flies are known to carry harmful diseases, such as salmonellosis, typhoid, and tub...  \n",
       "22                                                                      1. The Age of Innocence - Edith Wharton\\n2. The Alchemist - Paulo Coelho\\n3. And Then There Were None - Agatha Christie\\n4. Anna Karenina - Leo Tolstoy\\n5. The Alchemist - Paulo Coelho\\n6. And Then There Were None - Agatha Christie  \n",
       "23                                                                                                                                                                                          This tweet is not toxic because it does not contain any profanity, vulgar language, or other inappropriate content.  \n",
       "24  Rose Nylund, anchor for News 13, is reporting live from the MMA Fight between St Olaf and Ullr. The fight has been going on for over an hour now and it's still not finished. Rose is talking to her producer, who is trying to get her to stop talking so much. She says that she can't help but talk a...  "
      ]
     },
     "execution_count": 34,
     "metadata": {},
     "output_type": "execute_result"
    }
   ],
   "source": [
    "pd.set_option(\"max_colwidth\", 300)\n",
    "test_dataset[[\"messages\", \"base_assistant_message\", \"instruct_assistant_message\"]][:25]"
   ]
  },
  {
   "cell_type": "code",
   "execution_count": 35,
   "id": "55f1497d-4e4e-49b7-9167-7f5e4633a08f",
   "metadata": {},
   "outputs": [
    {
     "name": "stdout",
     "output_type": "stream",
     "text": [
      "<s><|im_start|>user \n",
      "What an essay on Generative AI.<|im_end|> \n",
      "<|im_start|>assistant \n",
      "Generative AI is a type of artificial intelligence that can generate new ideas and concepts from scratch. It can be used to create new products, services, or even entire industries. Generative AI uses machine learning algorithms to learn patterns in data and then use those patterns to generate new ideas and concepts. This process can be very time-consuming and requires a lot of data to train the algorithm. However, generative AI has many benefits over traditional AI methods such as rule-based AI. For example, generative AI can produce more creative ideas than rule-based AI because it can learn from unstructured data like user feedback and user behavior. Additionally, generative AI can produce more accurate results than rule-based AI because it can take into account contextual information like user preferences and past experiences. Finally, generative AI can produce more efficient results than rule-based AI because it can use less data to train its algorithms. Overall, generative AI has many advantages over traditional AI methods but also has some disadvantages.<|im_end|>\n"
     ]
    }
   ],
   "source": [
    "messages = [\n",
    "    {\"role\": \"user\", \"content\": \"What an essay on Generative AI.\"},\n",
    "]\n",
    "text = tokenizer.apply_chat_template(messages, add_generation_prompt=True, tokenize=False)\n",
    "inputs = tokenizer(text, return_tensors=\"pt\")#, add_special_tokens=False)\n",
    "inputs = {k: v.to(\"cuda\") for k,v in inputs.items()}\n",
    "outputs = model.generate(**inputs, \n",
    "                         max_new_tokens=2000, \n",
    "                         do_sample=True, \n",
    "                         top_p=0.95, \n",
    "                         temperature=0.2, \n",
    "                         repetition_penalty=1.1, \n",
    "                         eos_token_id=tokenizer.eos_token_id)\n",
    "print(tokenizer.decode(outputs[0]))"
   ]
  },
  {
   "cell_type": "code",
   "execution_count": 36,
   "id": "cc7b18b2-f718-43b4-aad8-baa4e1d2dab7",
   "metadata": {},
   "outputs": [
    {
     "name": "stdout",
     "output_type": "stream",
     "text": [
      "Sun Sep 14 07:57:24 2025       \n",
      "+-----------------------------------------------------------------------------+\n",
      "| NVIDIA-SMI 522.06       Driver Version: 522.06       CUDA Version: 11.8     |\n",
      "|-------------------------------+----------------------+----------------------+\n",
      "| GPU  Name            TCC/WDDM | Bus-Id        Disp.A | Volatile Uncorr. ECC |\n",
      "| Fan  Temp  Perf  Pwr:Usage/Cap|         Memory-Usage | GPU-Util  Compute M. |\n",
      "|                               |                      |               MIG M. |\n",
      "|===============================+======================+======================|\n",
      "|   0  NVIDIA GeForce ... WDDM  | 00000000:01:00.0 Off |                  N/A |\n",
      "| N/A   57C    P5    27W /  N/A |   7414MiB /  8192MiB |      0%      Default |\n",
      "|                               |                      |                  N/A |\n",
      "+-------------------------------+----------------------+----------------------+\n",
      "                                                                               \n",
      "+-----------------------------------------------------------------------------+\n",
      "| Processes:                                                                  |\n",
      "|  GPU   GI   CI        PID   Type   Process name                  GPU Memory |\n",
      "|        ID   ID                                                   Usage      |\n",
      "|=============================================================================|\n",
      "|    0   N/A  N/A     22416      C   ...thon\\Python311\\python.exe    N/A      |\n",
      "+-----------------------------------------------------------------------------+\n"
     ]
    }
   ],
   "source": [
    "!nvidia-smi"
   ]
  },
  {
   "cell_type": "code",
   "execution_count": null,
   "id": "47fb4e07-e6d5-4bde-8c58-89f5e6c4d746",
   "metadata": {},
   "outputs": [],
   "source": []
  }
 ],
 "metadata": {
  "kernelspec": {
   "display_name": ".venv",
   "language": "python",
   "name": "python3"
  },
  "language_info": {
   "codemirror_mode": {
    "name": "ipython",
    "version": 3
   },
   "file_extension": ".py",
   "mimetype": "text/x-python",
   "name": "python",
   "nbconvert_exporter": "python",
   "pygments_lexer": "ipython3",
   "version": "3.11.0"
  }
 },
 "nbformat": 4,
 "nbformat_minor": 5
}
